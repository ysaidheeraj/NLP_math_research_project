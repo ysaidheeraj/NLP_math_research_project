{
  "cells": [
    {
      "cell_type": "code",
      "execution_count": 14,
      "metadata": {
        "id": "OprA6q4Enwpy"
      },
      "outputs": [],
      "source": [
        " import pandas as pd\n",
        "import warnings\n",
        "warnings.filterwarnings('ignore')"
      ]
    },
    {
      "cell_type": "code",
      "execution_count": 2,
      "metadata": {
        "id": "xWOZ2uZGn4rb"
      },
      "outputs": [],
      "source": [
        "data = pd.read_csv('../Data/final_data.csv')"
      ]
    },
    {
      "cell_type": "code",
      "execution_count": 3,
      "metadata": {
        "colab": {
          "base_uri": "https://localhost:8080/"
        },
        "id": "UXyF476rn8_v",
        "outputId": "efb78fe8-b895-40ae-91fc-fdbcc00ae7b8"
      },
      "outputs": [
        {
          "data": {
            "text/plain": [
              "Index(['Unnamed: 0', 'problem', 'level', 'type', 'modified_problem',\n",
              "       'no_of_equations', 'no_of_variables', 'has_mod', 'has_logarithm',\n",
              "       'has_fraction', 'has_eq', 'has_neq', 'mod_count', 'log_count',\n",
              "       'fracs_count', 'eqlts_count', 'neqlts_count', 'max_degree_of_equations',\n",
              "       'sentence_count', 'word_count', 'words_per_sentence',\n",
              "       'average_word_length', 'large_words', 'has_repeated_large_words', 'ADJ',\n",
              "       'ADP', 'ADV', 'AUX', 'CONJ', 'CCONJ', 'DET', 'INTJ', 'NOUN', 'NUM',\n",
              "       'PART', 'PRON', 'PROPN', 'PUNCT', 'SCONJ', 'SYM', 'VERB', 'X',\n",
              "       'sentence_count_cat', 'word_count_cat', 'words_per_sentence_cat',\n",
              "       'average_word_length_cat', 'large_words_cat', 'number_of_math_vocab',\n",
              "       'number_of_digits', 'number_of_numbers', 'has_digits', 'has_symbol',\n",
              "       'symbol_count', 'has_exp', 'no_of_exps', 'has_pow', 'no_of_pow'],\n",
              "      dtype='object')"
            ]
          },
          "execution_count": 3,
          "metadata": {},
          "output_type": "execute_result"
        }
      ],
      "source": [
        "data.columns"
      ]
    },
    {
      "cell_type": "code",
      "execution_count": 4,
      "metadata": {
        "colab": {
          "base_uri": "https://localhost:8080/"
        },
        "id": "1IxG60HQpUK4",
        "outputId": "3d870a15-a9bb-4842-d996-851a92a60015"
      },
      "outputs": [
        {
          "data": {
            "text/plain": [
              "Algebra                 1736\n",
              "Intermediate Algebra    1295\n",
              "Prealgebra              1205\n",
              "Name: type, dtype: int64"
            ]
          },
          "execution_count": 4,
          "metadata": {},
          "output_type": "execute_result"
        }
      ],
      "source": [
        "data.type.value_counts()"
      ]
    },
    {
      "cell_type": "code",
      "execution_count": 5,
      "metadata": {
        "id": "ZRSOP7psp0Kw"
      },
      "outputs": [],
      "source": [
        "size_mapping = {\"Prealgebra\": 1, \"Intermediate Algebra\": 2, \"Algebra\": 3}\n",
        "data['type'] = data['type'].replace(size_mapping)"
      ]
    },
    {
      "cell_type": "code",
      "execution_count": 6,
      "metadata": {
        "id": "wkiJd2JCoB-a"
      },
      "outputs": [],
      "source": [
        "data.drop(columns = ['problem', 'modified_problem'], inplace = True)"
      ]
    },
    {
      "cell_type": "code",
      "execution_count": 7,
      "metadata": {
        "colab": {
          "base_uri": "https://localhost:8080/"
        },
        "id": "gYz4acnCwBQN",
        "outputId": "736c6823-e7af-4f70-bc30-1ede5fb7b19f"
      },
      "outputs": [
        {
          "name": "stderr",
          "output_type": "stream",
          "text": [
            "/var/folders/n9/5k2vfty12z9fcmmkwl1sj0000000gn/T/ipykernel_76606/831254320.py:2: SettingWithCopyWarning: \n",
            "A value is trying to be set on a copy of a slice from a DataFrame\n",
            "\n",
            "See the caveats in the documentation: https://pandas.pydata.org/pandas-docs/stable/user_guide/indexing.html#returning-a-view-versus-a-copy\n",
            "  data['level'][i] = data['level'][i][6]\n"
          ]
        }
      ],
      "source": [
        "for i in range(data.shape[0]):\n",
        "  data['level'][i] = data['level'][i][6]"
      ]
    },
    {
      "cell_type": "code",
      "execution_count": 8,
      "metadata": {
        "id": "6Mp3OoMOoOBC"
      },
      "outputs": [],
      "source": [
        "X = data.drop(columns = ['level'])\n",
        "y = data['level']"
      ]
    },
    {
      "cell_type": "code",
      "execution_count": 9,
      "metadata": {
        "id": "2CPa5m4ooagW"
      },
      "outputs": [],
      "source": [
        "from sklearn.model_selection import train_test_split\n",
        "X_train, X_test, y_train, y_test = train_test_split(X, y, test_size = 0.2, random_state = 2, stratify = y)"
      ]
    },
    {
      "cell_type": "code",
      "execution_count": 10,
      "metadata": {
        "id": "TC0g7EucojdG"
      },
      "outputs": [],
      "source": [
        "from sklearn.metrics import classification_report, confusion_matrix\n",
        "\n",
        "def evaluation(y_train_pred, y_test_pred, y_train, y_test):\n",
        "  print(\"train_evaluation:\\n\")\n",
        "  print(classification_report(y_train_pred, y_train))\n",
        "  print(confusion_matrix(y_train_pred, y_train))\n",
        "  print(\"\\ntest_evaluation:\\n\")\n",
        "  print(classification_report(y_test_pred, y_test))\n",
        "  print(confusion_matrix(y_test_pred, y_test))"
      ]
    },
    {
      "cell_type": "code",
      "execution_count": 11,
      "metadata": {
        "id": "m3frbjWfojZg"
      },
      "outputs": [],
      "source": [
        "from sklearn.ensemble import RandomForestClassifier\n",
        "from sklearn.model_selection import GridSearchCV"
      ]
    },
    {
      "cell_type": "code",
      "execution_count": 12,
      "metadata": {
        "id": "pys_CZQRojXe"
      },
      "outputs": [],
      "source": [
        "rfc=RandomForestClassifier(n_estimators=25)"
      ]
    },
    {
      "cell_type": "code",
      "execution_count": 15,
      "metadata": {
        "colab": {
          "base_uri": "https://localhost:8080/",
          "height": 1000
        },
        "id": "JTpSls33pJ44",
        "outputId": "56657c37-a559-4f2c-f0bc-95ce5d6d776b"
      },
      "outputs": [
        {
          "data": {
            "text/html": [
              "<style>#sk-container-id-1 {color: black;background-color: white;}#sk-container-id-1 pre{padding: 0;}#sk-container-id-1 div.sk-toggleable {background-color: white;}#sk-container-id-1 label.sk-toggleable__label {cursor: pointer;display: block;width: 100%;margin-bottom: 0;padding: 0.3em;box-sizing: border-box;text-align: center;}#sk-container-id-1 label.sk-toggleable__label-arrow:before {content: \"▸\";float: left;margin-right: 0.25em;color: #696969;}#sk-container-id-1 label.sk-toggleable__label-arrow:hover:before {color: black;}#sk-container-id-1 div.sk-estimator:hover label.sk-toggleable__label-arrow:before {color: black;}#sk-container-id-1 div.sk-toggleable__content {max-height: 0;max-width: 0;overflow: hidden;text-align: left;background-color: #f0f8ff;}#sk-container-id-1 div.sk-toggleable__content pre {margin: 0.2em;color: black;border-radius: 0.25em;background-color: #f0f8ff;}#sk-container-id-1 input.sk-toggleable__control:checked~div.sk-toggleable__content {max-height: 200px;max-width: 100%;overflow: auto;}#sk-container-id-1 input.sk-toggleable__control:checked~label.sk-toggleable__label-arrow:before {content: \"▾\";}#sk-container-id-1 div.sk-estimator input.sk-toggleable__control:checked~label.sk-toggleable__label {background-color: #d4ebff;}#sk-container-id-1 div.sk-label input.sk-toggleable__control:checked~label.sk-toggleable__label {background-color: #d4ebff;}#sk-container-id-1 input.sk-hidden--visually {border: 0;clip: rect(1px 1px 1px 1px);clip: rect(1px, 1px, 1px, 1px);height: 1px;margin: -1px;overflow: hidden;padding: 0;position: absolute;width: 1px;}#sk-container-id-1 div.sk-estimator {font-family: monospace;background-color: #f0f8ff;border: 1px dotted black;border-radius: 0.25em;box-sizing: border-box;margin-bottom: 0.5em;}#sk-container-id-1 div.sk-estimator:hover {background-color: #d4ebff;}#sk-container-id-1 div.sk-parallel-item::after {content: \"\";width: 100%;border-bottom: 1px solid gray;flex-grow: 1;}#sk-container-id-1 div.sk-label:hover label.sk-toggleable__label {background-color: #d4ebff;}#sk-container-id-1 div.sk-serial::before {content: \"\";position: absolute;border-left: 1px solid gray;box-sizing: border-box;top: 0;bottom: 0;left: 50%;z-index: 0;}#sk-container-id-1 div.sk-serial {display: flex;flex-direction: column;align-items: center;background-color: white;padding-right: 0.2em;padding-left: 0.2em;position: relative;}#sk-container-id-1 div.sk-item {position: relative;z-index: 1;}#sk-container-id-1 div.sk-parallel {display: flex;align-items: stretch;justify-content: center;background-color: white;position: relative;}#sk-container-id-1 div.sk-item::before, #sk-container-id-1 div.sk-parallel-item::before {content: \"\";position: absolute;border-left: 1px solid gray;box-sizing: border-box;top: 0;bottom: 0;left: 50%;z-index: -1;}#sk-container-id-1 div.sk-parallel-item {display: flex;flex-direction: column;z-index: 1;position: relative;background-color: white;}#sk-container-id-1 div.sk-parallel-item:first-child::after {align-self: flex-end;width: 50%;}#sk-container-id-1 div.sk-parallel-item:last-child::after {align-self: flex-start;width: 50%;}#sk-container-id-1 div.sk-parallel-item:only-child::after {width: 0;}#sk-container-id-1 div.sk-dashed-wrapped {border: 1px dashed gray;margin: 0 0.4em 0.5em 0.4em;box-sizing: border-box;padding-bottom: 0.4em;background-color: white;}#sk-container-id-1 div.sk-label label {font-family: monospace;font-weight: bold;display: inline-block;line-height: 1.2em;}#sk-container-id-1 div.sk-label-container {text-align: center;}#sk-container-id-1 div.sk-container {/* jupyter's `normalize.less` sets `[hidden] { display: none; }` but bootstrap.min.css set `[hidden] { display: none !important; }` so we also need the `!important` here to be able to override the default hidden behavior on the sphinx rendered scikit-learn.org. See: https://github.com/scikit-learn/scikit-learn/issues/21755 */display: inline-block !important;position: relative;}#sk-container-id-1 div.sk-text-repr-fallback {display: none;}</style><div id=\"sk-container-id-1\" class=\"sk-top-container\"><div class=\"sk-text-repr-fallback\"><pre>GridSearchCV(cv=5, estimator=RandomForestClassifier(n_estimators=25),\n",
              "             param_grid={&#x27;class_weight&#x27;: [&#x27;balanced&#x27;, &#x27;balanced_subsample&#x27;],\n",
              "                         &#x27;criterion&#x27;: [&#x27;gini&#x27;, &#x27;entropy&#x27;, &#x27;log_loss&#x27;],\n",
              "                         &#x27;max_depth&#x27;: [3, 5, 7],\n",
              "                         &#x27;max_features&#x27;: [&#x27;auto&#x27;, &#x27;sqrt&#x27;, &#x27;log2&#x27;],\n",
              "                         &#x27;min_samples_leaf&#x27;: [1, 2, 3],\n",
              "                         &#x27;min_samples_split&#x27;: [2, 5, 10], &#x27;oob_score&#x27;: [True]})</pre><b>In a Jupyter environment, please rerun this cell to show the HTML representation or trust the notebook. <br />On GitHub, the HTML representation is unable to render, please try loading this page with nbviewer.org.</b></div><div class=\"sk-container\" hidden><div class=\"sk-item sk-dashed-wrapped\"><div class=\"sk-label-container\"><div class=\"sk-label sk-toggleable\"><input class=\"sk-toggleable__control sk-hidden--visually\" id=\"sk-estimator-id-1\" type=\"checkbox\" ><label for=\"sk-estimator-id-1\" class=\"sk-toggleable__label sk-toggleable__label-arrow\">GridSearchCV</label><div class=\"sk-toggleable__content\"><pre>GridSearchCV(cv=5, estimator=RandomForestClassifier(n_estimators=25),\n",
              "             param_grid={&#x27;class_weight&#x27;: [&#x27;balanced&#x27;, &#x27;balanced_subsample&#x27;],\n",
              "                         &#x27;criterion&#x27;: [&#x27;gini&#x27;, &#x27;entropy&#x27;, &#x27;log_loss&#x27;],\n",
              "                         &#x27;max_depth&#x27;: [3, 5, 7],\n",
              "                         &#x27;max_features&#x27;: [&#x27;auto&#x27;, &#x27;sqrt&#x27;, &#x27;log2&#x27;],\n",
              "                         &#x27;min_samples_leaf&#x27;: [1, 2, 3],\n",
              "                         &#x27;min_samples_split&#x27;: [2, 5, 10], &#x27;oob_score&#x27;: [True]})</pre></div></div></div><div class=\"sk-parallel\"><div class=\"sk-parallel-item\"><div class=\"sk-item\"><div class=\"sk-label-container\"><div class=\"sk-label sk-toggleable\"><input class=\"sk-toggleable__control sk-hidden--visually\" id=\"sk-estimator-id-2\" type=\"checkbox\" ><label for=\"sk-estimator-id-2\" class=\"sk-toggleable__label sk-toggleable__label-arrow\">estimator: RandomForestClassifier</label><div class=\"sk-toggleable__content\"><pre>RandomForestClassifier(n_estimators=25)</pre></div></div></div><div class=\"sk-serial\"><div class=\"sk-item\"><div class=\"sk-estimator sk-toggleable\"><input class=\"sk-toggleable__control sk-hidden--visually\" id=\"sk-estimator-id-3\" type=\"checkbox\" ><label for=\"sk-estimator-id-3\" class=\"sk-toggleable__label sk-toggleable__label-arrow\">RandomForestClassifier</label><div class=\"sk-toggleable__content\"><pre>RandomForestClassifier(n_estimators=25)</pre></div></div></div></div></div></div></div></div></div></div>"
            ],
            "text/plain": [
              "GridSearchCV(cv=5, estimator=RandomForestClassifier(n_estimators=25),\n",
              "             param_grid={'class_weight': ['balanced', 'balanced_subsample'],\n",
              "                         'criterion': ['gini', 'entropy', 'log_loss'],\n",
              "                         'max_depth': [3, 5, 7],\n",
              "                         'max_features': ['auto', 'sqrt', 'log2'],\n",
              "                         'min_samples_leaf': [1, 2, 3],\n",
              "                         'min_samples_split': [2, 5, 10], 'oob_score': [True]})"
            ]
          },
          "execution_count": 15,
          "metadata": {},
          "output_type": "execute_result"
        }
      ],
      "source": [
        "param_grid = {\n",
        "    'max_depth': [3, 5, 7],                     # Maximum depth of the tree\n",
        "    'min_samples_split': [2, 5, 10],            # Minimum number of samples required to split a node\n",
        "    'min_samples_leaf': [1, 2, 3],              # Minimum number of samples required at a leaf node\n",
        "    'max_features': ['auto', 'sqrt', 'log2'],    # Number of features to consider at each split\n",
        "    'criterion': ['gini', 'entropy', 'log_loss'],\n",
        "    'oob_score': [True],\n",
        "    'class_weight': ['balanced', 'balanced_subsample']\n",
        "}\n",
        "\n",
        "# Perform grid search to find the best combination of parameters\n",
        "grid_search = GridSearchCV(rfc, param_grid, cv=5)\n",
        "grid_search.fit(X_train, y_train)"
      ]
    },
    {
      "cell_type": "code",
      "execution_count": 16,
      "metadata": {
        "colab": {
          "base_uri": "https://localhost:8080/"
        },
        "id": "7Rl02WCspLGN",
        "outputId": "84d0843e-2fda-4f79-9705-0790779ead11"
      },
      "outputs": [
        {
          "name": "stdout",
          "output_type": "stream",
          "text": [
            "Best Parameters:  {'class_weight': 'balanced', 'criterion': 'gini', 'max_depth': 7, 'max_features': 'sqrt', 'min_samples_leaf': 1, 'min_samples_split': 10, 'oob_score': True}\n",
            "Best Score:  0.35950902602580354\n"
          ]
        }
      ],
      "source": [
        "print(\"Best Parameters: \", grid_search.best_params_)\n",
        "print(\"Best Score: \", grid_search.best_score_)"
      ]
    },
    {
      "cell_type": "code",
      "execution_count": 17,
      "metadata": {
        "colab": {
          "base_uri": "https://localhost:8080/"
        },
        "id": "IpYFHJW2pONJ",
        "outputId": "b77c3452-2683-4d71-a6bd-710e13d92f13"
      },
      "outputs": [
        {
          "name": "stdout",
          "output_type": "stream",
          "text": [
            "train_evaluation:\n",
            "\n",
            "              precision    recall  f1-score   support\n",
            "\n",
            "           1       0.80      0.43      0.56       535\n",
            "           2       0.56      0.48      0.52       787\n",
            "           3       0.36      0.59      0.45       461\n",
            "           4       0.37      0.63      0.47       462\n",
            "           5       0.71      0.55      0.62      1143\n",
            "\n",
            "    accuracy                           0.53      3388\n",
            "   macro avg       0.56      0.54      0.52      3388\n",
            "weighted avg       0.59      0.53      0.54      3388\n",
            "\n",
            "[[231 120  85  72  27]\n",
            " [ 32 374 150 127 104]\n",
            " [ 13  55 273  58  62]\n",
            " [  6  36  59 291  70]\n",
            " [  8  80 187 238 630]]\n",
            "\n",
            "test_evaluation:\n",
            "\n",
            "              precision    recall  f1-score   support\n",
            "\n",
            "           1       0.51      0.28      0.37       130\n",
            "           2       0.37      0.31      0.34       195\n",
            "           3       0.11      0.20      0.14        99\n",
            "           4       0.19      0.32      0.24       117\n",
            "           5       0.63      0.46      0.53       307\n",
            "\n",
            "    accuracy                           0.35       848\n",
            "   macro avg       0.36      0.31      0.32       848\n",
            "weighted avg       0.43      0.35      0.38       848\n",
            "\n",
            "[[ 37  42  29  17   5]\n",
            " [ 20  61  50  40  24]\n",
            " [  7  17  20  32  23]\n",
            " [  2  15  33  37  30]\n",
            " [  6  32  57  71 141]]\n"
          ]
        }
      ],
      "source": [
        "y_test_pred = grid_search.predict(X_test)\n",
        "y_train_pred = grid_search.predict(X_train)\n",
        "evaluation(y_train_pred, y_test_pred, y_train, y_test)"
      ]
    },
    {
      "cell_type": "code",
      "execution_count": 19,
      "metadata": {
        "id": "mMJyP40Ktrsj"
      },
      "outputs": [],
      "source": [
        "best_model = grid_search.best_estimator_"
      ]
    },
    {
      "cell_type": "code",
      "execution_count": 20,
      "metadata": {
        "colab": {
          "base_uri": "https://localhost:8080/"
        },
        "id": "IusE31zPs8TJ",
        "outputId": "06a80a23-d8e8-4220-8265-533907cc539e"
      },
      "outputs": [
        {
          "name": "stdout",
          "output_type": "stream",
          "text": [
            "Feature Importance Rankings:\n",
            "1. no_of_variables: 8.347697830724835\n",
            "2. word_count: 6.753837851046226\n",
            "3. Unnamed: 0: 4.514797278144821\n",
            "4. VERB: 4.414305134289316\n",
            "5. NOUN: 4.400786452441499\n",
            "6. ADJ: 4.377721529460981\n",
            "7. no_of_equations: 4.209967649662734\n",
            "8. symbol_count: 3.9852175981231204\n",
            "9. words_per_sentence: 3.965614166374736\n",
            "10. ADP: 3.592448088430529\n",
            "11. large_words: 3.1022039196986397\n",
            "12. large_words_cat: 2.8744994526750105\n",
            "13. number_of_digits: 2.774825898587084\n",
            "14. no_of_pow: 2.7168445809306165\n",
            "15. max_degree_of_equations: 2.646404945078554\n",
            "16. DET: 2.5171151348875687\n",
            "17. number_of_math_vocab: 2.3062695120671455\n",
            "18. number_of_numbers: 2.2524682363368513\n",
            "19. average_word_length: 2.1454848933946127\n",
            "20. NUM: 2.137170116501636\n",
            "21. PUNCT: 2.094812856578695\n",
            "22. average_word_length_cat: 1.8831248671757868\n",
            "23. PRON: 1.8109471517009823\n",
            "24. has_pow: 1.6044676918438323\n",
            "25. has_symbol: 1.450446612188914\n",
            "26. AUX: 1.4344781144352126\n",
            "27. SCONJ: 1.4229386092446057\n",
            "28. word_count_cat: 1.3891382648086406\n",
            "29. words_per_sentence_cat: 1.3794440043099463\n",
            "30. PROPN: 1.284933871138152\n",
            "31. fracs_count: 1.1230102829594357\n",
            "32. CCONJ: 1.0051681686508307\n",
            "33. type: 0.8973037816264373\n",
            "34. sentence_count: 0.8222621397995818\n",
            "35. ADV: 0.7547373295495514\n",
            "36. X: 0.722726407229053\n",
            "37. has_fraction: 0.5907717853353736\n",
            "38. has_neq: 0.5301401285272773\n",
            "39. neqlts_count: 0.529412104008319\n",
            "40. eqlts_count: 0.5008413808551229\n",
            "41. mod_count: 0.37970055904241806\n",
            "42. has_eq: 0.3710419420562328\n",
            "43. has_digits: 0.3612894002662532\n",
            "44. SYM: 0.33227225935796173\n",
            "45. has_logarithm: 0.28814714479183756\n",
            "46. has_mod: 0.2529288112933101\n",
            "47. log_count: 0.2283921901211507\n",
            "48. has_repeated_large_words: 0.2268906816866009\n",
            "49. PART: 0.16654773075050155\n",
            "50. sentence_count_cat: 0.12600345981149125\n",
            "51. INTJ: 0.0\n",
            "52. has_exp: 0.0\n",
            "53. no_of_exps: 0.0\n",
            "54. CONJ: 0.0\n"
          ]
        }
      ],
      "source": [
        "import numpy as np\n",
        "\n",
        "importances = best_model.feature_importances_\n",
        "\n",
        "# Sort feature importances in descending order\n",
        "indices = np.argsort(importances)[::-1]\n",
        "\n",
        "# Print feature importance rankings\n",
        "print(\"Feature Importance Rankings:\")\n",
        "for i, feature in enumerate(X.columns[indices]):\n",
        "    print(f\"{i + 1}. {feature}: {importances[indices[i]] * 100}\")"
      ]
    },
    {
      "attachments": {},
      "cell_type": "markdown",
      "metadata": {
        "id": "aMqRUf5tqsml"
      },
      "source": [
        "##XGBoost"
      ]
    },
    {
      "cell_type": "code",
      "execution_count": 21,
      "metadata": {
        "colab": {
          "base_uri": "https://localhost:8080/"
        },
        "id": "rEicW9JtrArw",
        "outputId": "76196d92-7e17-466f-8efc-537d529b0c01"
      },
      "outputs": [
        {
          "name": "stdout",
          "output_type": "stream",
          "text": [
            "<class 'pandas.core.frame.DataFrame'>\n",
            "RangeIndex: 4236 entries, 0 to 4235\n",
            "Data columns (total 55 columns):\n",
            " #   Column                    Non-Null Count  Dtype \n",
            "---  ------                    --------------  ----- \n",
            " 0   Unnamed: 0                4236 non-null   int64 \n",
            " 1   level                     4236 non-null   object\n",
            " 2   type                      4236 non-null   int64 \n",
            " 3   no_of_equations           4236 non-null   int64 \n",
            " 4   no_of_variables           4236 non-null   int64 \n",
            " 5   has_mod                   4236 non-null   bool  \n",
            " 6   has_logarithm             4236 non-null   bool  \n",
            " 7   has_fraction              4236 non-null   bool  \n",
            " 8   has_eq                    4236 non-null   bool  \n",
            " 9   has_neq                   4236 non-null   bool  \n",
            " 10  mod_count                 4236 non-null   int64 \n",
            " 11  log_count                 4236 non-null   int64 \n",
            " 12  fracs_count               4236 non-null   int64 \n",
            " 13  eqlts_count               4236 non-null   int64 \n",
            " 14  neqlts_count              4236 non-null   int64 \n",
            " 15  max_degree_of_equations   4236 non-null   int64 \n",
            " 16  sentence_count            4236 non-null   int64 \n",
            " 17  word_count                4236 non-null   int64 \n",
            " 18  words_per_sentence        4236 non-null   int64 \n",
            " 19  average_word_length       4236 non-null   int64 \n",
            " 20  large_words               4236 non-null   int64 \n",
            " 21  has_repeated_large_words  4236 non-null   bool  \n",
            " 22  ADJ                       4236 non-null   int64 \n",
            " 23  ADP                       4236 non-null   int64 \n",
            " 24  ADV                       4236 non-null   int64 \n",
            " 25  AUX                       4236 non-null   int64 \n",
            " 26  CONJ                      4236 non-null   int64 \n",
            " 27  CCONJ                     4236 non-null   int64 \n",
            " 28  DET                       4236 non-null   int64 \n",
            " 29  INTJ                      4236 non-null   int64 \n",
            " 30  NOUN                      4236 non-null   int64 \n",
            " 31  NUM                       4236 non-null   int64 \n",
            " 32  PART                      4236 non-null   int64 \n",
            " 33  PRON                      4236 non-null   int64 \n",
            " 34  PROPN                     4236 non-null   int64 \n",
            " 35  PUNCT                     4236 non-null   int64 \n",
            " 36  SCONJ                     4236 non-null   int64 \n",
            " 37  SYM                       4236 non-null   int64 \n",
            " 38  VERB                      4236 non-null   int64 \n",
            " 39  X                         4236 non-null   int64 \n",
            " 40  sentence_count_cat        4236 non-null   int64 \n",
            " 41  word_count_cat            4236 non-null   int64 \n",
            " 42  words_per_sentence_cat    4236 non-null   int64 \n",
            " 43  average_word_length_cat   4236 non-null   int64 \n",
            " 44  large_words_cat           4236 non-null   int64 \n",
            " 45  number_of_math_vocab      4236 non-null   int64 \n",
            " 46  number_of_digits          4236 non-null   int64 \n",
            " 47  number_of_numbers         4236 non-null   int64 \n",
            " 48  has_digits                4236 non-null   bool  \n",
            " 49  has_symbol                4236 non-null   bool  \n",
            " 50  symbol_count              4236 non-null   int64 \n",
            " 51  has_exp                   4236 non-null   bool  \n",
            " 52  no_of_exps                4236 non-null   int64 \n",
            " 53  has_pow                   4236 non-null   bool  \n",
            " 54  no_of_pow                 4236 non-null   int64 \n",
            "dtypes: bool(10), int64(44), object(1)\n",
            "memory usage: 1.5+ MB\n"
          ]
        }
      ],
      "source": [
        "data.info()"
      ]
    },
    {
      "cell_type": "code",
      "execution_count": 22,
      "metadata": {
        "colab": {
          "base_uri": "https://localhost:8080/"
        },
        "id": "dckq_Edzrbac",
        "outputId": "b49938d5-371d-4938-e6be-7455af5a3c46"
      },
      "outputs": [
        {
          "data": {
            "text/plain": [
              "Index(['Unnamed: 0', 'level', 'type', 'no_of_equations', 'no_of_variables',\n",
              "       'has_mod', 'has_logarithm', 'has_fraction', 'has_eq', 'has_neq',\n",
              "       'mod_count', 'log_count', 'fracs_count', 'eqlts_count', 'neqlts_count',\n",
              "       'max_degree_of_equations', 'sentence_count', 'word_count',\n",
              "       'words_per_sentence', 'average_word_length', 'large_words',\n",
              "       'has_repeated_large_words', 'ADJ', 'ADP', 'ADV', 'AUX', 'CONJ', 'CCONJ',\n",
              "       'DET', 'INTJ', 'NOUN', 'NUM', 'PART', 'PRON', 'PROPN', 'PUNCT', 'SCONJ',\n",
              "       'SYM', 'VERB', 'X', 'sentence_count_cat', 'word_count_cat',\n",
              "       'words_per_sentence_cat', 'average_word_length_cat', 'large_words_cat',\n",
              "       'number_of_math_vocab', 'number_of_digits', 'number_of_numbers',\n",
              "       'has_digits', 'has_symbol', 'symbol_count', 'has_exp', 'no_of_exps',\n",
              "       'has_pow', 'no_of_pow'],\n",
              "      dtype='object')"
            ]
          },
          "execution_count": 22,
          "metadata": {},
          "output_type": "execute_result"
        }
      ],
      "source": [
        "data.columns"
      ]
    },
    {
      "cell_type": "code",
      "execution_count": 23,
      "metadata": {
        "colab": {
          "base_uri": "https://localhost:8080/"
        },
        "id": "0bm4_10HzBsx",
        "outputId": "357da8a8-b24d-489a-e749-2d3c103e4fb0"
      },
      "outputs": [
        {
          "name": "stdout",
          "output_type": "stream",
          "text": [
            "Accuracy: 36.08%\n"
          ]
        }
      ],
      "source": [
        "import xgboost as xgb\n",
        "from sklearn.model_selection import train_test_split\n",
        "from sklearn.metrics import accuracy_score\n",
        "from sklearn.preprocessing import LabelEncoder\n",
        "\n",
        "# Load your dataset and split it into training and testing sets\n",
        "# X_train, X_test, y_train, y_test = train_test_split(data, labels, test_size=0.2, random_state=42)\n",
        "\n",
        "# Encode the labels\n",
        "label_encoder = LabelEncoder()\n",
        "y_train_encoded = label_encoder.fit_transform(y_train)\n",
        "\n",
        "# Create DMatrix for XGBoost\n",
        "dtrain = xgb.DMatrix(X_train, label=y_train_encoded)\n",
        "dtest = xgb.DMatrix(X_test)\n",
        "\n",
        "# Set the parameters for XGBoost\n",
        "params = {\n",
        "    'max_depth': 3,\n",
        "    'eta': 0.1,\n",
        "    'objective': 'multi:softmax',\n",
        "    'num_class': 5,\n",
        "    'eval_metric': 'logloss'\n",
        "}\n",
        "\n",
        "# Train the XGBoost model\n",
        "num_rounds = 100\n",
        "model = xgb.train(params, dtrain, num_rounds)\n",
        "\n",
        "# Make predictions on the test set\n",
        "preds = model.predict(dtest)\n",
        "predictions = [round(value) for value in preds]\n",
        "\n",
        "# Decode the predicted labels\n",
        "predicted_labels = label_encoder.inverse_transform(predictions)\n",
        "\n",
        "# Evaluate the accuracy of the model\n",
        "accuracy = accuracy_score(y_test, predicted_labels)\n",
        "print(\"Accuracy: %.2f%%\" % (accuracy * 100.0))"
      ]
    },
    {
      "cell_type": "code",
      "execution_count": 24,
      "metadata": {
        "id": "Oc9_RVUAzbaF"
      },
      "outputs": [],
      "source": [
        "preds = model.predict(dtest)\n",
        "predictions = [round(value) for value in preds]\n",
        "\n",
        "# Decode the predicted labels\n",
        "predicted_test_labels = label_encoder.inverse_transform(predictions)\n",
        "\n",
        "preds = model.predict(dtrain)\n",
        "predictions = [round(value) for value in preds]\n",
        "\n",
        "# Decode the predicted labels\n",
        "predicted_train_labels = label_encoder.inverse_transform(predictions)"
      ]
    },
    {
      "cell_type": "code",
      "execution_count": 25,
      "metadata": {
        "colab": {
          "base_uri": "https://localhost:8080/"
        },
        "id": "g_qgRhDGzLvU",
        "outputId": "e4831b2c-f512-4812-9597-8e1fdf57b08a"
      },
      "outputs": [
        {
          "name": "stdout",
          "output_type": "stream",
          "text": [
            "train_evaluation:\n",
            "\n",
            "              precision    recall  f1-score   support\n",
            "\n",
            "           1       0.30      0.70      0.42       122\n",
            "           2       0.64      0.44      0.52       960\n",
            "           3       0.42      0.50      0.46       624\n",
            "           4       0.39      0.60      0.47       510\n",
            "           5       0.74      0.56      0.64      1172\n",
            "\n",
            "    accuracy                           0.53      3388\n",
            "   macro avg       0.50      0.56      0.50      3388\n",
            "weighted avg       0.58      0.53      0.54      3388\n",
            "\n",
            "[[ 86  18   9   6   3]\n",
            " [119 424 173 142 102]\n",
            " [ 43  89 314 108  70]\n",
            " [ 17  48  78 307  60]\n",
            " [ 25  86 180 223 658]]\n",
            "\n",
            "test_evaluation:\n",
            "\n",
            "              precision    recall  f1-score   support\n",
            "\n",
            "           1       0.19      0.54      0.29        26\n",
            "           2       0.46      0.33      0.38       233\n",
            "           3       0.20      0.28      0.23       134\n",
            "           4       0.20      0.29      0.24       140\n",
            "           5       0.62      0.44      0.52       315\n",
            "\n",
            "    accuracy                           0.36       848\n",
            "   macro avg       0.33      0.37      0.33       848\n",
            "weighted avg       0.43      0.36      0.38       848\n",
            "\n",
            "[[ 14  10   2   0   0]\n",
            " [ 32  76  62  43  20]\n",
            " [ 14  31  37  33  19]\n",
            " [  6  17  32  40  45]\n",
            " [  6  33  56  81 139]]\n"
          ]
        }
      ],
      "source": [
        "evaluation(predicted_train_labels, predicted_test_labels, y_train, y_test)"
      ]
    },
    {
      "cell_type": "code",
      "execution_count": 26,
      "metadata": {
        "id": "MXNk0a-T4Ypl"
      },
      "outputs": [],
      "source": [
        "from sklearn.preprocessing import LabelEncoder\n",
        "\n",
        "# Create an instance of LabelEncoder\n",
        "label_encoder = LabelEncoder()\n",
        "\n",
        "# Fit the label encoder to y_train and transform y_train to integers\n",
        "y_train = label_encoder.fit_transform(y_train)\n",
        "y_test = label_encoder.transform(y_test)"
      ]
    },
    {
      "attachments": {},
      "cell_type": "markdown",
      "metadata": {
        "id": "_-ZNkYzKSzAy"
      },
      "source": [
        "## Hyper parameter Tuning"
      ]
    },
    {
      "cell_type": "code",
      "execution_count": 27,
      "metadata": {
        "id": "5z0nt7A62wCn"
      },
      "outputs": [
        {
          "name": "stdout",
          "output_type": "stream",
          "text": [
            "Best Parameters:  {'eta': 0.1, 'eval_metric': 'mlogloss', 'learning_rate': 0.1, 'max_depth': 9, 'n_estimators': 1000, 'num_class': 5, 'objective': 'multi:softmax'}\n",
            "Best Score:  0.3589147469110158\n",
            "Accuracy: 35.85%\n"
          ]
        }
      ],
      "source": [
        "\n",
        "dtrain = xgb.DMatrix(X_train, label=y_train)\n",
        "dtest = xgb.DMatrix(X_test)\n",
        "\n",
        "# Set the parameters for XGBoost\n",
        "parameters = {\n",
        "    'max_depth': [3, 6, 9],\n",
        "    'learning_rate': [0.1, 0.01, 0.001],\n",
        "    'n_estimators': [100, 500, 1000],\n",
        "    'eta': [0.1],\n",
        "    'objective': ['multi:softmax', 'multi:softprob'],\n",
        "    'num_class': [5],\n",
        "    'eval_metric': ['mlogloss', 'merror', 'auc']\n",
        "}\n",
        "\n",
        "# Create the XGBoost classifier\n",
        "xgb_model = xgb.XGBClassifier()\n",
        "\n",
        "# Perform grid search using GridSearchCV\n",
        "grid_search = GridSearchCV(xgb_model, parameters, scoring='accuracy', cv=3)\n",
        "grid_search.fit(X_train, y_train)\n",
        "\n",
        "# Get the best parameters and best score from the grid search\n",
        "best_params = grid_search.best_params_\n",
        "best_score = grid_search.best_score_\n",
        "\n",
        "print(\"Best Parameters: \", best_params)\n",
        "print(\"Best Score: \", best_score)\n",
        "\n",
        "# Train the XGBoost model using the best parameters\n",
        "model = xgb.XGBClassifier(**best_params)\n",
        "model.fit(X_train, y_train)\n",
        "\n",
        "# Make predictions on the test set\n",
        "preds = model.predict(X_test)\n",
        "\n",
        "# Evaluate the accuracy of the model\n",
        "accuracy = accuracy_score(y_test, preds)\n",
        "print(\"Accuracy: %.2f%%\" % (accuracy * 100.0))"
      ]
    },
    {
      "cell_type": "code",
      "execution_count": 28,
      "metadata": {
        "colab": {
          "base_uri": "https://localhost:8080/"
        },
        "id": "cujCLYFKPztl",
        "outputId": "29d98b78-6f58-47da-cb50-5676c9d784ad"
      },
      "outputs": [
        {
          "name": "stdout",
          "output_type": "stream",
          "text": [
            "Accuracy: 35.26%\n"
          ]
        }
      ],
      "source": [
        "\n",
        "label_encoder = LabelEncoder()\n",
        "y_train_encoded = label_encoder.fit_transform(y_train)\n",
        "\n",
        "# Create DMatrix for XGBoost\n",
        "dtrain = xgb.DMatrix(X_train, label=y_train_encoded)\n",
        "dtest = xgb.DMatrix(X_test)\n",
        "\n",
        "# Set the parameters for XGBoost\n",
        "params = {\n",
        "    'max_depth': 6,\n",
        "    'learning_rate': 0.1,\n",
        "    'eta': 0.01,\n",
        "    'objective': 'multi:softmax',\n",
        "    'num_class': 5,\n",
        "    'eval_metric': 'merror'\n",
        "}\n",
        "\n",
        "# Train the XGBoost model\n",
        "num_rounds = 100\n",
        "model = xgb.train(params, dtrain, num_rounds)\n",
        "\n",
        "# Make predictions on the test set\n",
        "preds = model.predict(dtest)\n",
        "predictions = [round(value) for value in preds]\n",
        "\n",
        "# Decode the predicted labels\n",
        "predicted_labels = label_encoder.inverse_transform(predictions)\n",
        "\n",
        "# Evaluate the accuracy of the model\n",
        "accuracy = accuracy_score(y_test, predicted_labels)\n",
        "print(\"Accuracy: %.2f%%\" % (accuracy * 100.0))"
      ]
    },
    {
      "cell_type": "code",
      "execution_count": 29,
      "metadata": {
        "colab": {
          "base_uri": "https://localhost:8080/"
        },
        "id": "WWj521DhP2PX",
        "outputId": "33dda620-b7a4-4edc-944e-47187e4b5f4e"
      },
      "outputs": [
        {
          "name": "stdout",
          "output_type": "stream",
          "text": [
            "train_evaluation:\n",
            "\n",
            "              precision    recall  f1-score   support\n",
            "\n",
            "           0       0.81      0.92      0.86       256\n",
            "           1       0.88      0.73      0.80       808\n",
            "           2       0.76      0.79      0.78       722\n",
            "           3       0.79      0.91      0.85       681\n",
            "           4       0.91      0.88      0.90       921\n",
            "\n",
            "    accuracy                           0.83      3388\n",
            "   macro avg       0.83      0.85      0.84      3388\n",
            "weighted avg       0.84      0.83      0.83      3388\n",
            "\n",
            "[[236   7   7   3   3]\n",
            " [ 31 586  87  72  32]\n",
            " [ 18  43 573  55  33]\n",
            " [  2  16  30 620  13]\n",
            " [  3  13  57  36 812]]\n",
            "\n",
            "test_evaluation:\n",
            "\n",
            "              precision    recall  f1-score   support\n",
            "\n",
            "           0       0.26      0.41      0.32        46\n",
            "           1       0.37      0.33      0.35       183\n",
            "           2       0.19      0.21      0.20       171\n",
            "           3       0.25      0.30      0.27       164\n",
            "           4       0.60      0.47      0.53       284\n",
            "\n",
            "    accuracy                           0.35       848\n",
            "   macro avg       0.33      0.35      0.33       848\n",
            "weighted avg       0.38      0.35      0.36       848\n",
            "\n",
            "[[ 19  15   8   3   1]\n",
            " [ 23  61  54  31  14]\n",
            " [ 16  38  36  46  35]\n",
            " [  8  27  41  49  39]\n",
            " [  6  26  50  68 134]]\n"
          ]
        }
      ],
      "source": [
        "preds = model.predict(dtest)\n",
        "predictions = [round(value) for value in preds]\n",
        "\n",
        "# Decode the predicted labels\n",
        "predicted_test_labels = label_encoder.inverse_transform(predictions)\n",
        "\n",
        "preds = model.predict(dtrain)\n",
        "predictions = [round(value) for value in preds]\n",
        "\n",
        "# Decode the predicted labels\n",
        "predicted_train_labels = label_encoder.inverse_transform(predictions)\n",
        "\n",
        "evaluation(predicted_train_labels, predicted_test_labels, y_train, y_test)"
      ]
    },
    {
      "cell_type": "code",
      "execution_count": null,
      "metadata": {
        "id": "V8WpvyGYP2L1"
      },
      "outputs": [],
      "source": []
    }
  ],
  "metadata": {
    "colab": {
      "provenance": []
    },
    "kernelspec": {
      "display_name": "Python 3",
      "name": "python3"
    },
    "language_info": {
      "codemirror_mode": {
        "name": "ipython",
        "version": 3
      },
      "file_extension": ".py",
      "mimetype": "text/x-python",
      "name": "python",
      "nbconvert_exporter": "python",
      "pygments_lexer": "ipython3",
      "version": "3.9.13"
    }
  },
  "nbformat": 4,
  "nbformat_minor": 0
}
