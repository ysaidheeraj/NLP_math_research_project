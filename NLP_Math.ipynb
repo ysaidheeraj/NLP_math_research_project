{
  "nbformat": 4,
  "nbformat_minor": 0,
  "metadata": {
    "colab": {
      "provenance": []
    },
    "kernelspec": {
      "name": "python3",
      "display_name": "Python 3"
    },
    "language_info": {
      "name": "python"
    }
  },
  "cells": [
    {
      "cell_type": "markdown",
      "source": [
        "Connecting to drive"
      ],
      "metadata": {
        "id": "V56-lqe718Y2"
      }
    },
    {
      "cell_type": "code",
      "execution_count": 43,
      "metadata": {
        "colab": {
          "base_uri": "https://localhost:8080/"
        },
        "id": "eqVzBAZP13lx",
        "outputId": "7727eb9e-a7c9-4e13-a6ec-c6852cbe9d55"
      },
      "outputs": [
        {
          "output_type": "stream",
          "name": "stdout",
          "text": [
            "Mounted at /content/drive\n"
          ]
        }
      ],
      "source": [
        "from google.colab import drive\n",
        "drive.mount('/content/drive')"
      ]
    },
    {
      "cell_type": "markdown",
      "source": [
        "Defining base dir and sub dirs of the data"
      ],
      "metadata": {
        "id": "ZKwMKGp453uI"
      }
    },
    {
      "cell_type": "code",
      "source": [
        "PATH_TO_DATA = \"/content/drive/My Drive/NLP/\"\n",
        "ALGEBRA_DIR= \"algebra/\"\n",
        "PREALGEBRA_DIR = \"prealgebra/\"\n",
        "INTERMEDIATE_ALGEBRA_DIR = \"intermediate_algebra/\""
      ],
      "metadata": {
        "id": "vctkanFP2BVO"
      },
      "execution_count": 44,
      "outputs": []
    },
    {
      "cell_type": "code",
      "source": [
        "!pip install antlr4-python3-runtime"
      ],
      "metadata": {
        "colab": {
          "base_uri": "https://localhost:8080/"
        },
        "id": "3Q7w05KFzR5Y",
        "outputId": "5d1f0267-70bf-49ce-ae12-6942af551a9d"
      },
      "execution_count": 1,
      "outputs": [
        {
          "output_type": "stream",
          "name": "stdout",
          "text": [
            "Looking in indexes: https://pypi.org/simple, https://us-python.pkg.dev/colab-wheels/public/simple/\n",
            "Requirement already satisfied: antlr4-python3-runtime in /usr/local/lib/python3.10/dist-packages (4.13.0)\n"
          ]
        }
      ]
    },
    {
      "cell_type": "markdown",
      "source": [
        "Importing required libraries"
      ],
      "metadata": {
        "id": "2qpmc9TE6Nsy"
      }
    },
    {
      "cell_type": "code",
      "source": [
        "#For navigation in the folders\n",
        "import os\n",
        "\n",
        "#For dataframe processing\n",
        "import pandas as pd\n",
        "\n",
        "#For regex validation\n",
        "import re\n",
        "\n",
        "#For nlp\n",
        "import spacy"
      ],
      "metadata": {
        "id": "aviFmJok6MxL"
      },
      "execution_count": 45,
      "outputs": []
    },
    {
      "cell_type": "markdown",
      "source": [
        "Reading the json files and appending to input dataframe"
      ],
      "metadata": {
        "id": "jYeFc9Aj6GU6"
      }
    },
    {
      "cell_type": "code",
      "source": [
        "#Reading the math problems json files into dataframe\n",
        "def read_data(path_to_files, input_df=pd.DataFrame()):\n",
        "  #Files in the current directory\n",
        "  os.chdir(path_to_files)\n",
        "  files = [f for f in os.listdir('.') if os.path.isfile(f)]\n",
        "  for file_name in files:\n",
        "    data = pd.read_json(file_name, orient='index').T\n",
        "    input_df = pd.concat([input_df,data], ignore_index = True)\n",
        "  return input_df"
      ],
      "metadata": {
        "id": "Yg-EB25D7Ssj"
      },
      "execution_count": 46,
      "outputs": []
    },
    {
      "cell_type": "code",
      "source": [
        "math_problems = read_data(PATH_TO_DATA + ALGEBRA_DIR)\n",
        "math_problems = read_data(PATH_TO_DATA + PREALGEBRA_DIR, math_problems)\n",
        "math_problems = read_data(PATH_TO_DATA + INTERMEDIATE_ALGEBRA_DIR, math_problems)"
      ],
      "metadata": {
        "id": "xAXiO-bSmFOt"
      },
      "execution_count": 114,
      "outputs": []
    },
    {
      "cell_type": "code",
      "source": [
        "math_problems = pd.read_csv(PATH_TO_DATA+\"/data_min.csv\")"
      ],
      "metadata": {
        "id": "snkrOTk4ZR57"
      },
      "execution_count": null,
      "outputs": []
    },
    {
      "cell_type": "markdown",
      "source": [
        "Function to save dataframe"
      ],
      "metadata": {
        "id": "O_EPqwRan9zI"
      }
    },
    {
      "cell_type": "code",
      "source": [
        "def save_dataframe_csv(path_to_save, filename, dataframe, include_index=False):\n",
        "  dataframe.to_csv(path_to_save+filename, index=include_index)\n",
        "  print(\"Dataframe saved successfully at {}\".format(path_to_save+filename))"
      ],
      "metadata": {
        "id": "UjvyQ8IwnvnT"
      },
      "execution_count": 48,
      "outputs": []
    },
    {
      "cell_type": "code",
      "source": [
        "math_problems.shape"
      ],
      "metadata": {
        "colab": {
          "base_uri": "https://localhost:8080/"
        },
        "id": "NdSky9txiiMZ",
        "outputId": "886b6c4d-f562-4044-c8a1-ce39607a7bda"
      },
      "execution_count": null,
      "outputs": [
        {
          "output_type": "execute_result",
          "data": {
            "text/plain": [
              "(4236, 4)"
            ]
          },
          "metadata": {},
          "execution_count": 16
        }
      ]
    },
    {
      "cell_type": "code",
      "source": [
        "math_problems.head()"
      ],
      "metadata": {
        "colab": {
          "base_uri": "https://localhost:8080/",
          "height": 206
        },
        "id": "0ex9SMdtBe6U",
        "outputId": "5bf1687d-4a4e-44d9-e89a-8753721a0854"
      },
      "execution_count": null,
      "outputs": [
        {
          "output_type": "execute_result",
          "data": {
            "text/plain": [
              "                                             problem    level        type  \\\n",
              "0  Brand X soda advertises, ``We will give you 20...  Level 5  Prealgebra   \n",
              "1  During the first year, ABC's stock price start...  Level 2  Prealgebra   \n",
              "2    Find the greatest common divisor of 75 and 360.  Level 3  Prealgebra   \n",
              "3  A school is arranging chairs in rows for an as...  Level 3  Prealgebra   \n",
              "4  The average value of all the pennies, nickels,...  Level 5  Prealgebra   \n",
              "\n",
              "                                            solution  \n",
              "0  Let $v$ be the volume of soda in Brand Y, and ...  \n",
              "1  After the first year, its price has doubled to...  \n",
              "2  $75 = 3^1 \\cdot 5^2$ and $360 = 2^3 \\cdot 3^2 ...  \n",
              "3  The original number of chairs is divisible by ...  \n",
              "4  If $n$ is the number of coins in Paula's purse...  "
            ],
            "text/html": [
              "\n",
              "  <div id=\"df-2a1c9c53-1b81-4240-a343-05c699cdb3c4\">\n",
              "    <div class=\"colab-df-container\">\n",
              "      <div>\n",
              "<style scoped>\n",
              "    .dataframe tbody tr th:only-of-type {\n",
              "        vertical-align: middle;\n",
              "    }\n",
              "\n",
              "    .dataframe tbody tr th {\n",
              "        vertical-align: top;\n",
              "    }\n",
              "\n",
              "    .dataframe thead th {\n",
              "        text-align: right;\n",
              "    }\n",
              "</style>\n",
              "<table border=\"1\" class=\"dataframe\">\n",
              "  <thead>\n",
              "    <tr style=\"text-align: right;\">\n",
              "      <th></th>\n",
              "      <th>problem</th>\n",
              "      <th>level</th>\n",
              "      <th>type</th>\n",
              "      <th>solution</th>\n",
              "    </tr>\n",
              "  </thead>\n",
              "  <tbody>\n",
              "    <tr>\n",
              "      <th>0</th>\n",
              "      <td>Brand X soda advertises, ``We will give you 20...</td>\n",
              "      <td>Level 5</td>\n",
              "      <td>Prealgebra</td>\n",
              "      <td>Let $v$ be the volume of soda in Brand Y, and ...</td>\n",
              "    </tr>\n",
              "    <tr>\n",
              "      <th>1</th>\n",
              "      <td>During the first year, ABC's stock price start...</td>\n",
              "      <td>Level 2</td>\n",
              "      <td>Prealgebra</td>\n",
              "      <td>After the first year, its price has doubled to...</td>\n",
              "    </tr>\n",
              "    <tr>\n",
              "      <th>2</th>\n",
              "      <td>Find the greatest common divisor of 75 and 360.</td>\n",
              "      <td>Level 3</td>\n",
              "      <td>Prealgebra</td>\n",
              "      <td>$75 = 3^1 \\cdot 5^2$ and $360 = 2^3 \\cdot 3^2 ...</td>\n",
              "    </tr>\n",
              "    <tr>\n",
              "      <th>3</th>\n",
              "      <td>A school is arranging chairs in rows for an as...</td>\n",
              "      <td>Level 3</td>\n",
              "      <td>Prealgebra</td>\n",
              "      <td>The original number of chairs is divisible by ...</td>\n",
              "    </tr>\n",
              "    <tr>\n",
              "      <th>4</th>\n",
              "      <td>The average value of all the pennies, nickels,...</td>\n",
              "      <td>Level 5</td>\n",
              "      <td>Prealgebra</td>\n",
              "      <td>If $n$ is the number of coins in Paula's purse...</td>\n",
              "    </tr>\n",
              "  </tbody>\n",
              "</table>\n",
              "</div>\n",
              "      <button class=\"colab-df-convert\" onclick=\"convertToInteractive('df-2a1c9c53-1b81-4240-a343-05c699cdb3c4')\"\n",
              "              title=\"Convert this dataframe to an interactive table.\"\n",
              "              style=\"display:none;\">\n",
              "        \n",
              "  <svg xmlns=\"http://www.w3.org/2000/svg\" height=\"24px\"viewBox=\"0 0 24 24\"\n",
              "       width=\"24px\">\n",
              "    <path d=\"M0 0h24v24H0V0z\" fill=\"none\"/>\n",
              "    <path d=\"M18.56 5.44l.94 2.06.94-2.06 2.06-.94-2.06-.94-.94-2.06-.94 2.06-2.06.94zm-11 1L8.5 8.5l.94-2.06 2.06-.94-2.06-.94L8.5 2.5l-.94 2.06-2.06.94zm10 10l.94 2.06.94-2.06 2.06-.94-2.06-.94-.94-2.06-.94 2.06-2.06.94z\"/><path d=\"M17.41 7.96l-1.37-1.37c-.4-.4-.92-.59-1.43-.59-.52 0-1.04.2-1.43.59L10.3 9.45l-7.72 7.72c-.78.78-.78 2.05 0 2.83L4 21.41c.39.39.9.59 1.41.59.51 0 1.02-.2 1.41-.59l7.78-7.78 2.81-2.81c.8-.78.8-2.07 0-2.86zM5.41 20L4 18.59l7.72-7.72 1.47 1.35L5.41 20z\"/>\n",
              "  </svg>\n",
              "      </button>\n",
              "      \n",
              "  <style>\n",
              "    .colab-df-container {\n",
              "      display:flex;\n",
              "      flex-wrap:wrap;\n",
              "      gap: 12px;\n",
              "    }\n",
              "\n",
              "    .colab-df-convert {\n",
              "      background-color: #E8F0FE;\n",
              "      border: none;\n",
              "      border-radius: 50%;\n",
              "      cursor: pointer;\n",
              "      display: none;\n",
              "      fill: #1967D2;\n",
              "      height: 32px;\n",
              "      padding: 0 0 0 0;\n",
              "      width: 32px;\n",
              "    }\n",
              "\n",
              "    .colab-df-convert:hover {\n",
              "      background-color: #E2EBFA;\n",
              "      box-shadow: 0px 1px 2px rgba(60, 64, 67, 0.3), 0px 1px 3px 1px rgba(60, 64, 67, 0.15);\n",
              "      fill: #174EA6;\n",
              "    }\n",
              "\n",
              "    [theme=dark] .colab-df-convert {\n",
              "      background-color: #3B4455;\n",
              "      fill: #D2E3FC;\n",
              "    }\n",
              "\n",
              "    [theme=dark] .colab-df-convert:hover {\n",
              "      background-color: #434B5C;\n",
              "      box-shadow: 0px 1px 3px 1px rgba(0, 0, 0, 0.15);\n",
              "      filter: drop-shadow(0px 1px 2px rgba(0, 0, 0, 0.3));\n",
              "      fill: #FFFFFF;\n",
              "    }\n",
              "  </style>\n",
              "\n",
              "      <script>\n",
              "        const buttonEl =\n",
              "          document.querySelector('#df-2a1c9c53-1b81-4240-a343-05c699cdb3c4 button.colab-df-convert');\n",
              "        buttonEl.style.display =\n",
              "          google.colab.kernel.accessAllowed ? 'block' : 'none';\n",
              "\n",
              "        async function convertToInteractive(key) {\n",
              "          const element = document.querySelector('#df-2a1c9c53-1b81-4240-a343-05c699cdb3c4');\n",
              "          const dataTable =\n",
              "            await google.colab.kernel.invokeFunction('convertToInteractive',\n",
              "                                                     [key], {});\n",
              "          if (!dataTable) return;\n",
              "\n",
              "          const docLinkHtml = 'Like what you see? Visit the ' +\n",
              "            '<a target=\"_blank\" href=https://colab.research.google.com/notebooks/data_table.ipynb>data table notebook</a>'\n",
              "            + ' to learn more about interactive tables.';\n",
              "          element.innerHTML = '';\n",
              "          dataTable['output_type'] = 'display_data';\n",
              "          await google.colab.output.renderOutput(dataTable, element);\n",
              "          const docLink = document.createElement('div');\n",
              "          docLink.innerHTML = docLinkHtml;\n",
              "          element.appendChild(docLink);\n",
              "        }\n",
              "      </script>\n",
              "    </div>\n",
              "  </div>\n",
              "  "
            ]
          },
          "metadata": {},
          "execution_count": 8
        }
      ]
    },
    {
      "cell_type": "markdown",
      "source": [
        "Dropping the solution and type columns"
      ],
      "metadata": {
        "id": "viUK3Nf8if25"
      }
    },
    {
      "cell_type": "code",
      "source": [
        "math_problems.drop(columns=['solution'], inplace=True)\n",
        "math_problems.head()"
      ],
      "metadata": {
        "colab": {
          "base_uri": "https://localhost:8080/",
          "height": 206
        },
        "id": "SHtS7-se--OJ",
        "outputId": "6ec668d5-dc2b-4ffe-9c11-18e5a7f7fda5"
      },
      "execution_count": 115,
      "outputs": [
        {
          "output_type": "execute_result",
          "data": {
            "text/plain": [
              "                                             problem    level     type\n",
              "0  The graphs of four functions, labelled (2) thr...  Level 5  Algebra\n",
              "1  If each of the variables represents a differen...  Level 3  Algebra\n",
              "2  What is the value of $a$ if the lines $2y - 2a...  Level 4  Algebra\n",
              "3  Define $\\#N$ by the formula $\\#N = .5(N) + 1$....  Level 3  Algebra\n",
              "4  What is the midpoint of the segment with endpo...  Level 2  Algebra"
            ],
            "text/html": [
              "\n",
              "  <div id=\"df-58c953d6-bba3-4789-b413-9880027e79d7\">\n",
              "    <div class=\"colab-df-container\">\n",
              "      <div>\n",
              "<style scoped>\n",
              "    .dataframe tbody tr th:only-of-type {\n",
              "        vertical-align: middle;\n",
              "    }\n",
              "\n",
              "    .dataframe tbody tr th {\n",
              "        vertical-align: top;\n",
              "    }\n",
              "\n",
              "    .dataframe thead th {\n",
              "        text-align: right;\n",
              "    }\n",
              "</style>\n",
              "<table border=\"1\" class=\"dataframe\">\n",
              "  <thead>\n",
              "    <tr style=\"text-align: right;\">\n",
              "      <th></th>\n",
              "      <th>problem</th>\n",
              "      <th>level</th>\n",
              "      <th>type</th>\n",
              "    </tr>\n",
              "  </thead>\n",
              "  <tbody>\n",
              "    <tr>\n",
              "      <th>0</th>\n",
              "      <td>The graphs of four functions, labelled (2) thr...</td>\n",
              "      <td>Level 5</td>\n",
              "      <td>Algebra</td>\n",
              "    </tr>\n",
              "    <tr>\n",
              "      <th>1</th>\n",
              "      <td>If each of the variables represents a differen...</td>\n",
              "      <td>Level 3</td>\n",
              "      <td>Algebra</td>\n",
              "    </tr>\n",
              "    <tr>\n",
              "      <th>2</th>\n",
              "      <td>What is the value of $a$ if the lines $2y - 2a...</td>\n",
              "      <td>Level 4</td>\n",
              "      <td>Algebra</td>\n",
              "    </tr>\n",
              "    <tr>\n",
              "      <th>3</th>\n",
              "      <td>Define $\\#N$ by the formula $\\#N = .5(N) + 1$....</td>\n",
              "      <td>Level 3</td>\n",
              "      <td>Algebra</td>\n",
              "    </tr>\n",
              "    <tr>\n",
              "      <th>4</th>\n",
              "      <td>What is the midpoint of the segment with endpo...</td>\n",
              "      <td>Level 2</td>\n",
              "      <td>Algebra</td>\n",
              "    </tr>\n",
              "  </tbody>\n",
              "</table>\n",
              "</div>\n",
              "      <button class=\"colab-df-convert\" onclick=\"convertToInteractive('df-58c953d6-bba3-4789-b413-9880027e79d7')\"\n",
              "              title=\"Convert this dataframe to an interactive table.\"\n",
              "              style=\"display:none;\">\n",
              "        \n",
              "  <svg xmlns=\"http://www.w3.org/2000/svg\" height=\"24px\"viewBox=\"0 0 24 24\"\n",
              "       width=\"24px\">\n",
              "    <path d=\"M0 0h24v24H0V0z\" fill=\"none\"/>\n",
              "    <path d=\"M18.56 5.44l.94 2.06.94-2.06 2.06-.94-2.06-.94-.94-2.06-.94 2.06-2.06.94zm-11 1L8.5 8.5l.94-2.06 2.06-.94-2.06-.94L8.5 2.5l-.94 2.06-2.06.94zm10 10l.94 2.06.94-2.06 2.06-.94-2.06-.94-.94-2.06-.94 2.06-2.06.94z\"/><path d=\"M17.41 7.96l-1.37-1.37c-.4-.4-.92-.59-1.43-.59-.52 0-1.04.2-1.43.59L10.3 9.45l-7.72 7.72c-.78.78-.78 2.05 0 2.83L4 21.41c.39.39.9.59 1.41.59.51 0 1.02-.2 1.41-.59l7.78-7.78 2.81-2.81c.8-.78.8-2.07 0-2.86zM5.41 20L4 18.59l7.72-7.72 1.47 1.35L5.41 20z\"/>\n",
              "  </svg>\n",
              "      </button>\n",
              "      \n",
              "  <style>\n",
              "    .colab-df-container {\n",
              "      display:flex;\n",
              "      flex-wrap:wrap;\n",
              "      gap: 12px;\n",
              "    }\n",
              "\n",
              "    .colab-df-convert {\n",
              "      background-color: #E8F0FE;\n",
              "      border: none;\n",
              "      border-radius: 50%;\n",
              "      cursor: pointer;\n",
              "      display: none;\n",
              "      fill: #1967D2;\n",
              "      height: 32px;\n",
              "      padding: 0 0 0 0;\n",
              "      width: 32px;\n",
              "    }\n",
              "\n",
              "    .colab-df-convert:hover {\n",
              "      background-color: #E2EBFA;\n",
              "      box-shadow: 0px 1px 2px rgba(60, 64, 67, 0.3), 0px 1px 3px 1px rgba(60, 64, 67, 0.15);\n",
              "      fill: #174EA6;\n",
              "    }\n",
              "\n",
              "    [theme=dark] .colab-df-convert {\n",
              "      background-color: #3B4455;\n",
              "      fill: #D2E3FC;\n",
              "    }\n",
              "\n",
              "    [theme=dark] .colab-df-convert:hover {\n",
              "      background-color: #434B5C;\n",
              "      box-shadow: 0px 1px 3px 1px rgba(0, 0, 0, 0.15);\n",
              "      filter: drop-shadow(0px 1px 2px rgba(0, 0, 0, 0.3));\n",
              "      fill: #FFFFFF;\n",
              "    }\n",
              "  </style>\n",
              "\n",
              "      <script>\n",
              "        const buttonEl =\n",
              "          document.querySelector('#df-58c953d6-bba3-4789-b413-9880027e79d7 button.colab-df-convert');\n",
              "        buttonEl.style.display =\n",
              "          google.colab.kernel.accessAllowed ? 'block' : 'none';\n",
              "\n",
              "        async function convertToInteractive(key) {\n",
              "          const element = document.querySelector('#df-58c953d6-bba3-4789-b413-9880027e79d7');\n",
              "          const dataTable =\n",
              "            await google.colab.kernel.invokeFunction('convertToInteractive',\n",
              "                                                     [key], {});\n",
              "          if (!dataTable) return;\n",
              "\n",
              "          const docLinkHtml = 'Like what you see? Visit the ' +\n",
              "            '<a target=\"_blank\" href=https://colab.research.google.com/notebooks/data_table.ipynb>data table notebook</a>'\n",
              "            + ' to learn more about interactive tables.';\n",
              "          element.innerHTML = '';\n",
              "          dataTable['output_type'] = 'display_data';\n",
              "          await google.colab.output.renderOutput(dataTable, element);\n",
              "          const docLink = document.createElement('div');\n",
              "          docLink.innerHTML = docLinkHtml;\n",
              "          element.appendChild(docLink);\n",
              "        }\n",
              "      </script>\n",
              "    </div>\n",
              "  </div>\n",
              "  "
            ]
          },
          "metadata": {},
          "execution_count": 115
        }
      ]
    },
    {
      "cell_type": "markdown",
      "source": [
        "## Extracting math features"
      ],
      "metadata": {
        "id": "ynYanAQZoZIq"
      }
    },
    {
      "cell_type": "markdown",
      "source": [
        "Detecting number of equations in the problem columns\n",
        "\n",
        "In our data, the equations are enclosed inside either of\n",
        "  1. \\$...$\n",
        "  2. \\$\\$...\\$\\$\n",
        "  3. \\\\\\[...\\\\\\]\n",
        "\n",
        "So we need to count the number of equations by matching these patterns"
      ],
      "metadata": {
        "id": "hzTNkiToi5eN"
      }
    },
    {
      "cell_type": "code",
      "source": [
        "def get_equations_count(expression):\n",
        "  regexes = [r\"\\$\\$([^$]+)\\$\\$\", r\"\\$([^$]+)\\$\", r\"\\\\\\(([^$]+)\\\\\\)\", r\"\\\\\\[([^$]+)\\\\\\]\"]\n",
        "  no_of_equations = 0\n",
        "  eqs = []\n",
        "  \n",
        "  #For each regex, we are finding the number of equations\n",
        "  for regex in regexes:\n",
        "    matches = re.findall(regex, expression)\n",
        "    for eqn in matches:\n",
        "\n",
        "      #Considering only those equations that have a min length of 3\n",
        "      if len(eqn) >= 3:\n",
        "        eqs.append(eqn)\n",
        "        no_of_equations += 1\n",
        "    \n",
        "    # Replacing the equations in the original text\n",
        "    expression = re.sub(regex, \"\", expression)\n",
        "  return eqs, no_of_equations, expression"
      ],
      "metadata": {
        "id": "uBNh5vKF6-k5"
      },
      "execution_count": 117,
      "outputs": []
    },
    {
      "cell_type": "code",
      "source": [
        "#Function to eliminate duplicate variables that are formed by combination of existing variables\n",
        "def eliminate_concatenated_variables(strings):\n",
        "    strings_set = set(strings)\n",
        "    is_concatenated = True\n",
        "\n",
        "    while is_concatenated:\n",
        "        is_concatenated = False\n",
        "        for string in strings_set.copy():\n",
        "            for i in range(1, len(string)):\n",
        "                prefix = string[:i]\n",
        "                suffix = string[i:]\n",
        "                if prefix in strings_set and suffix in strings_set:\n",
        "                    strings_set.remove(string)\n",
        "                    is_concatenated = True\n",
        "                    break\n",
        "\n",
        "    return strings_set"
      ],
      "metadata": {
        "id": "TAiEqMyBzpjX"
      },
      "execution_count": 118,
      "outputs": []
    },
    {
      "cell_type": "code",
      "source": [
        "def get_variable_count(equations):\n",
        "  # Define regular expression pattern to extract variables\n",
        "  variable_pattern = r\"\\\\?[a-zA-Z]+(?:_[0-9]+)?(?:\\^{[0-9]+})?\"\n",
        "  max_no_of_variables = 0\n",
        "\n",
        "  for equation in equations:\n",
        "    # Find all variables in the equation\n",
        "    variables = re.findall(variable_pattern, equation)\n",
        "\n",
        "    # Count the number of unique variables\n",
        "    unique_variables = set(variables)\n",
        "    unique_variables = eliminate_concatenated_variables(unique_variables)\n",
        "    num_unique_variables = len(unique_variables)\n",
        "    max_no_of_variables = num_unique_variables if num_unique_variables > max_no_of_variables else max_no_of_variables\n",
        "\n",
        "  return max_no_of_variables"
      ],
      "metadata": {
        "id": "m6wSe4gVdOUl"
      },
      "execution_count": 119,
      "outputs": []
    },
    {
      "cell_type": "code",
      "source": [
        "def detect_exp_or_mod(equations):\n",
        "  exponentiation_regex = r'\\^'\n",
        "  has_exponentiation = any(re.search(exponentiation_regex, equation) for equation in equations)\n",
        "\n",
        "  # Detect \"mod\" (modulo)\n",
        "  modulo_regex = r'\\bmod\\b'\n",
        "  has_modulo = any(re.search(modulo_regex, equation) for equation in equations)\n",
        "\n",
        "  # Detect \"|a+b|\"\n",
        "  absolute_value_regex = r'\\|.*?\\|'\n",
        "  has_absolute_value =any(re.search(absolute_value_regex, equation) for equation in equations)\n",
        "  \n",
        "  return has_exponentiation or has_modulo or has_absolute_value"
      ],
      "metadata": {
        "id": "IlnRbv0YvGI_"
      },
      "execution_count": 120,
      "outputs": []
    },
    {
      "cell_type": "code",
      "source": [
        "def has_log(equations):\n",
        "  # Detect \"log\" function\n",
        "  log_regex = r'\\\\log'\n",
        "  return any(re.search(log_regex, equation) for equation in equations)"
      ],
      "metadata": {
        "id": "O-nKVSuW3Bfk"
      },
      "execution_count": 121,
      "outputs": []
    },
    {
      "cell_type": "code",
      "source": [
        "def has_fractions(equations):\n",
        "  fraction_pattern = r\"[frac]\"\n",
        "  \n",
        "  for equation in equations:\n",
        "  # Extract fractions from the equation\n",
        "    fractions = re.findall(fraction_pattern, equation)\n",
        "    if len(fractions) > 0:\n",
        "      return True\n",
        "  return False"
      ],
      "metadata": {
        "id": "bKFbVQGD4rSm"
      },
      "execution_count": 149,
      "outputs": []
    },
    {
      "cell_type": "code",
      "source": [
        "def has_equality_or_inequality(equations):\n",
        "  # Detect equality or inequality\n",
        "  equality_regex = r'(=|>|<|\\\\leq|\\\\geq|\\\\neq)'\n",
        "  return any(re.search(equality_regex, equation) for equation in equations)"
      ],
      "metadata": {
        "id": "Dz3veef758dJ"
      },
      "execution_count": 123,
      "outputs": []
    },
    {
      "cell_type": "code",
      "source": [
        "def extract_math_features(problem):\n",
        "  eqns, equations_count, modified_problem = get_equations_count(problem)\n",
        "  variable_count = get_variable_count(eqns)\n",
        "  has_exp_or_mod = detect_exp_or_mod(eqns)\n",
        "  has_logarithm = has_log(eqns)\n",
        "  has_fracs = has_fractions(eqns)\n",
        "  has_eq_or_neq = has_equality_or_inequality(eqns)\n",
        "\n",
        "  return pd.Series({'modified_problem': modified_problem, 'no_of_equations': equations_count, 'no_of_variables': variable_count, 'has_exp_or_mod': has_exp_or_mod, 'has_logarithm': has_logarithm, 'has_fraction': has_fracs, 'has_eq_or_neq':has_eq_or_neq})"
      ],
      "metadata": {
        "id": "sQm7VeIw6Kws"
      },
      "execution_count": 124,
      "outputs": []
    },
    {
      "cell_type": "code",
      "source": [
        "math_problems = pd.concat([math_problems, math_problems['problem'].apply(extract_math_features)], axis=1)"
      ],
      "metadata": {
        "id": "i-b035voef43"
      },
      "execution_count": 155,
      "outputs": []
    },
    {
      "cell_type": "markdown",
      "source": [
        "## Extracting text attributes"
      ],
      "metadata": {
        "id": "h-5REOjzofd1"
      }
    },
    {
      "cell_type": "markdown",
      "source": [
        "Installing spacy for further processing"
      ],
      "metadata": {
        "id": "7r3nDzNLCfMX"
      }
    },
    {
      "cell_type": "code",
      "source": [
        "import spacy\n",
        "\n",
        "corpus = spacy.load(\"en_core_web_sm\")\n",
        "def get_text_attributes(text):\n",
        "\n",
        "  document = corpus(text)\n",
        "\n",
        "  sentences = list(document.sents)\n",
        "  \n",
        "  #Sentences count\n",
        "  sentence_count = len(sentences)\n",
        "\n",
        "  word_count = 0\n",
        "  words_len_greater_than_six = 0\n",
        "  char_count = 0\n",
        "  large_words=[]\n",
        "  has_repeated_large_words = False\n",
        "  \n",
        "  for token in document:\n",
        "    if not token.is_space: \n",
        "        \n",
        "        #Word count in the text\n",
        "        word_count += 1\n",
        "        char_count += len(token.text)\n",
        "        \n",
        "        #Number of words with length greater than 6\n",
        "        if len(token.text) > 6:\n",
        "          if token.text not in large_words:\n",
        "            words_len_greater_than_six += 1\n",
        "            large_words.append(token.text)\n",
        "          else:\n",
        "            has_repeated_large_words = True\n",
        "  \n",
        "  #Average words per sentence\n",
        "  words_per_sentence = round(word_count / sentence_count)\n",
        "\n",
        "  #Average length of words\n",
        "  average_word_length = round(char_count / word_count)\n",
        "\n",
        "  return pd.Series({'sentence_count': sentence_count, 'word_count': word_count, 'words_per_sentence': words_per_sentence, 'average_word_length': average_word_length, 'large_words': words_len_greater_than_six, 'has_repeated_large_words': has_repeated_large_words})"
      ],
      "metadata": {
        "id": "5ZSTcQOrITnd"
      },
      "execution_count": 157,
      "outputs": []
    },
    {
      "cell_type": "code",
      "source": [
        "get_text_attributes(\"A math teacher requires Noelle to do one homework assignment for each of the first five homework points she wants to earn; for each of the next five homework points, she needs to do two homework assignments; and so on, so that to earn the  homework point, she has to do  (rounded up) homework assignments. For example, when she has 11 points, it will take  homework assignments to earn her  point. What is the smallest number of homework assignments necessary to earn a total of 25 homework points?\")"
      ],
      "metadata": {
        "colab": {
          "base_uri": "https://localhost:8080/"
        },
        "id": "fwhHqB2aJvaA",
        "outputId": "1247e448-5ebb-4151-a12f-34618d29dcab"
      },
      "execution_count": null,
      "outputs": [
        {
          "output_type": "execute_result",
          "data": {
            "text/plain": [
              "sentence_count                 3\n",
              "word_count                   100\n",
              "words_per_sentence            33\n",
              "average_word_length            4\n",
              "large_words                    9\n",
              "has_repeated_large_words    True\n",
              "dtype: object"
            ]
          },
          "metadata": {},
          "execution_count": 21
        }
      ]
    },
    {
      "cell_type": "code",
      "source": [
        "math_problems = pd.concat([math_problems, math_problems['modified_problem'].apply(get_text_attributes)], axis=1)"
      ],
      "metadata": {
        "id": "k7t642SoJ3zG"
      },
      "execution_count": 158,
      "outputs": []
    },
    {
      "cell_type": "code",
      "source": [
        "math_problems.head()"
      ],
      "metadata": {
        "colab": {
          "base_uri": "https://localhost:8080/",
          "height": 441
        },
        "id": "BdhK3l6xw-Ut",
        "outputId": "13ecc760-187d-47e5-e0a2-e7059906e40d"
      },
      "execution_count": null,
      "outputs": [
        {
          "output_type": "execute_result",
          "data": {
            "text/plain": [
              "                                             problem    level     type  \\\n",
              "0  Let $p$ and $q$ be the two distinct solutions ...  Level 4  Algebra   \n",
              "1  The graphs of four functions, labelled (2) thr...  Level 5  Algebra   \n",
              "2  If each of the variables represents a differen...  Level 3  Algebra   \n",
              "3  What is the value of $a$ if the lines $2y - 2a...  Level 4  Algebra   \n",
              "4  Define $\\#N$ by the formula $\\#N = .5(N) + 1$....  Level 3  Algebra   \n",
              "\n",
              "   no_of_equations                                   modified_problem  \\\n",
              "0                3  Let  and  be the two distinct solutions to the...   \n",
              "1                1  The graphs of four functions, labelled (2) thr...   \n",
              "2                1  If each of the variables represents a differen...   \n",
              "3                2  What is the value of  if the lines  and  are p...   \n",
              "4                3               Define  by the formula . Calculate .   \n",
              "\n",
              "   sentence_count  word_count  words_per_sentence  average_word_length  \\\n",
              "0               1          18                  18                    4   \n",
              "1               4         209                  52                    5   \n",
              "2               3          68                  23                    5   \n",
              "3               1          12                  12                    3   \n",
              "4               2           7                   4                    4   \n",
              "\n",
              "   large_words  has_repeated_large_words  \n",
              "0            3                     False  \n",
              "1           40                      True  \n",
              "2           13                     False  \n",
              "3            1                     False  \n",
              "4            2                     False  "
            ],
            "text/html": [
              "\n",
              "  <div id=\"df-dc827825-b63f-4ab4-857b-f72a3aba1003\">\n",
              "    <div class=\"colab-df-container\">\n",
              "      <div>\n",
              "<style scoped>\n",
              "    .dataframe tbody tr th:only-of-type {\n",
              "        vertical-align: middle;\n",
              "    }\n",
              "\n",
              "    .dataframe tbody tr th {\n",
              "        vertical-align: top;\n",
              "    }\n",
              "\n",
              "    .dataframe thead th {\n",
              "        text-align: right;\n",
              "    }\n",
              "</style>\n",
              "<table border=\"1\" class=\"dataframe\">\n",
              "  <thead>\n",
              "    <tr style=\"text-align: right;\">\n",
              "      <th></th>\n",
              "      <th>problem</th>\n",
              "      <th>level</th>\n",
              "      <th>type</th>\n",
              "      <th>no_of_equations</th>\n",
              "      <th>modified_problem</th>\n",
              "      <th>sentence_count</th>\n",
              "      <th>word_count</th>\n",
              "      <th>words_per_sentence</th>\n",
              "      <th>average_word_length</th>\n",
              "      <th>large_words</th>\n",
              "      <th>has_repeated_large_words</th>\n",
              "    </tr>\n",
              "  </thead>\n",
              "  <tbody>\n",
              "    <tr>\n",
              "      <th>0</th>\n",
              "      <td>Let $p$ and $q$ be the two distinct solutions ...</td>\n",
              "      <td>Level 4</td>\n",
              "      <td>Algebra</td>\n",
              "      <td>3</td>\n",
              "      <td>Let  and  be the two distinct solutions to the...</td>\n",
              "      <td>1</td>\n",
              "      <td>18</td>\n",
              "      <td>18</td>\n",
              "      <td>4</td>\n",
              "      <td>3</td>\n",
              "      <td>False</td>\n",
              "    </tr>\n",
              "    <tr>\n",
              "      <th>1</th>\n",
              "      <td>The graphs of four functions, labelled (2) thr...</td>\n",
              "      <td>Level 5</td>\n",
              "      <td>Algebra</td>\n",
              "      <td>1</td>\n",
              "      <td>The graphs of four functions, labelled (2) thr...</td>\n",
              "      <td>4</td>\n",
              "      <td>209</td>\n",
              "      <td>52</td>\n",
              "      <td>5</td>\n",
              "      <td>40</td>\n",
              "      <td>True</td>\n",
              "    </tr>\n",
              "    <tr>\n",
              "      <th>2</th>\n",
              "      <td>If each of the variables represents a differen...</td>\n",
              "      <td>Level 3</td>\n",
              "      <td>Algebra</td>\n",
              "      <td>1</td>\n",
              "      <td>If each of the variables represents a differen...</td>\n",
              "      <td>3</td>\n",
              "      <td>68</td>\n",
              "      <td>23</td>\n",
              "      <td>5</td>\n",
              "      <td>13</td>\n",
              "      <td>False</td>\n",
              "    </tr>\n",
              "    <tr>\n",
              "      <th>3</th>\n",
              "      <td>What is the value of $a$ if the lines $2y - 2a...</td>\n",
              "      <td>Level 4</td>\n",
              "      <td>Algebra</td>\n",
              "      <td>2</td>\n",
              "      <td>What is the value of  if the lines  and  are p...</td>\n",
              "      <td>1</td>\n",
              "      <td>12</td>\n",
              "      <td>12</td>\n",
              "      <td>3</td>\n",
              "      <td>1</td>\n",
              "      <td>False</td>\n",
              "    </tr>\n",
              "    <tr>\n",
              "      <th>4</th>\n",
              "      <td>Define $\\#N$ by the formula $\\#N = .5(N) + 1$....</td>\n",
              "      <td>Level 3</td>\n",
              "      <td>Algebra</td>\n",
              "      <td>3</td>\n",
              "      <td>Define  by the formula . Calculate .</td>\n",
              "      <td>2</td>\n",
              "      <td>7</td>\n",
              "      <td>4</td>\n",
              "      <td>4</td>\n",
              "      <td>2</td>\n",
              "      <td>False</td>\n",
              "    </tr>\n",
              "  </tbody>\n",
              "</table>\n",
              "</div>\n",
              "      <button class=\"colab-df-convert\" onclick=\"convertToInteractive('df-dc827825-b63f-4ab4-857b-f72a3aba1003')\"\n",
              "              title=\"Convert this dataframe to an interactive table.\"\n",
              "              style=\"display:none;\">\n",
              "        \n",
              "  <svg xmlns=\"http://www.w3.org/2000/svg\" height=\"24px\"viewBox=\"0 0 24 24\"\n",
              "       width=\"24px\">\n",
              "    <path d=\"M0 0h24v24H0V0z\" fill=\"none\"/>\n",
              "    <path d=\"M18.56 5.44l.94 2.06.94-2.06 2.06-.94-2.06-.94-.94-2.06-.94 2.06-2.06.94zm-11 1L8.5 8.5l.94-2.06 2.06-.94-2.06-.94L8.5 2.5l-.94 2.06-2.06.94zm10 10l.94 2.06.94-2.06 2.06-.94-2.06-.94-.94-2.06-.94 2.06-2.06.94z\"/><path d=\"M17.41 7.96l-1.37-1.37c-.4-.4-.92-.59-1.43-.59-.52 0-1.04.2-1.43.59L10.3 9.45l-7.72 7.72c-.78.78-.78 2.05 0 2.83L4 21.41c.39.39.9.59 1.41.59.51 0 1.02-.2 1.41-.59l7.78-7.78 2.81-2.81c.8-.78.8-2.07 0-2.86zM5.41 20L4 18.59l7.72-7.72 1.47 1.35L5.41 20z\"/>\n",
              "  </svg>\n",
              "      </button>\n",
              "      \n",
              "  <style>\n",
              "    .colab-df-container {\n",
              "      display:flex;\n",
              "      flex-wrap:wrap;\n",
              "      gap: 12px;\n",
              "    }\n",
              "\n",
              "    .colab-df-convert {\n",
              "      background-color: #E8F0FE;\n",
              "      border: none;\n",
              "      border-radius: 50%;\n",
              "      cursor: pointer;\n",
              "      display: none;\n",
              "      fill: #1967D2;\n",
              "      height: 32px;\n",
              "      padding: 0 0 0 0;\n",
              "      width: 32px;\n",
              "    }\n",
              "\n",
              "    .colab-df-convert:hover {\n",
              "      background-color: #E2EBFA;\n",
              "      box-shadow: 0px 1px 2px rgba(60, 64, 67, 0.3), 0px 1px 3px 1px rgba(60, 64, 67, 0.15);\n",
              "      fill: #174EA6;\n",
              "    }\n",
              "\n",
              "    [theme=dark] .colab-df-convert {\n",
              "      background-color: #3B4455;\n",
              "      fill: #D2E3FC;\n",
              "    }\n",
              "\n",
              "    [theme=dark] .colab-df-convert:hover {\n",
              "      background-color: #434B5C;\n",
              "      box-shadow: 0px 1px 3px 1px rgba(0, 0, 0, 0.15);\n",
              "      filter: drop-shadow(0px 1px 2px rgba(0, 0, 0, 0.3));\n",
              "      fill: #FFFFFF;\n",
              "    }\n",
              "  </style>\n",
              "\n",
              "      <script>\n",
              "        const buttonEl =\n",
              "          document.querySelector('#df-dc827825-b63f-4ab4-857b-f72a3aba1003 button.colab-df-convert');\n",
              "        buttonEl.style.display =\n",
              "          google.colab.kernel.accessAllowed ? 'block' : 'none';\n",
              "\n",
              "        async function convertToInteractive(key) {\n",
              "          const element = document.querySelector('#df-dc827825-b63f-4ab4-857b-f72a3aba1003');\n",
              "          const dataTable =\n",
              "            await google.colab.kernel.invokeFunction('convertToInteractive',\n",
              "                                                     [key], {});\n",
              "          if (!dataTable) return;\n",
              "\n",
              "          const docLinkHtml = 'Like what you see? Visit the ' +\n",
              "            '<a target=\"_blank\" href=https://colab.research.google.com/notebooks/data_table.ipynb>data table notebook</a>'\n",
              "            + ' to learn more about interactive tables.';\n",
              "          element.innerHTML = '';\n",
              "          dataTable['output_type'] = 'display_data';\n",
              "          await google.colab.output.renderOutput(dataTable, element);\n",
              "          const docLink = document.createElement('div');\n",
              "          docLink.innerHTML = docLinkHtml;\n",
              "          element.appendChild(docLink);\n",
              "        }\n",
              "      </script>\n",
              "    </div>\n",
              "  </div>\n",
              "  "
            ]
          },
          "metadata": {},
          "execution_count": 25
        }
      ]
    },
    {
      "cell_type": "markdown",
      "source": [
        "## Named Entity Recognition"
      ],
      "metadata": {
        "id": "Ggcqr9fiI0xQ"
      }
    },
    {
      "cell_type": "code",
      "source": [
        "#List of labels for named entity recognition using spacy for en_core_web_sm\n",
        "corpus.get_pipe(\"ner\").labels"
      ],
      "metadata": {
        "colab": {
          "base_uri": "https://localhost:8080/"
        },
        "id": "6dzZrZLqxGng",
        "outputId": "fe8f1b8c-e5a3-4dad-e4bb-5d3a33d23736"
      },
      "execution_count": null,
      "outputs": [
        {
          "output_type": "execute_result",
          "data": {
            "text/plain": [
              "('CARDINAL',\n",
              " 'DATE',\n",
              " 'EVENT',\n",
              " 'FAC',\n",
              " 'GPE',\n",
              " 'LANGUAGE',\n",
              " 'LAW',\n",
              " 'LOC',\n",
              " 'MONEY',\n",
              " 'NORP',\n",
              " 'ORDINAL',\n",
              " 'ORG',\n",
              " 'PERCENT',\n",
              " 'PERSON',\n",
              " 'PRODUCT',\n",
              " 'QUANTITY',\n",
              " 'TIME',\n",
              " 'WORK_OF_ART')"
            ]
          },
          "metadata": {},
          "execution_count": 26
        }
      ]
    },
    {
      "cell_type": "code",
      "source": [
        "def named_entity_recognition(text):\n",
        "  #Initialising a dictionary with all named entities\n",
        "  ner = {}\n",
        "  for label in corpus.get_pipe(\"ner\").labels:\n",
        "    ner[label] = 0\n",
        "  \n",
        "  document = corpus(text)\n",
        "\n",
        "  for entity in document.ents:\n",
        "    ner[entity.label_] += 1\n",
        "  \n",
        "  return pd.Series(ner)"
      ],
      "metadata": {
        "id": "BjQtAfOXyNzW"
      },
      "execution_count": 159,
      "outputs": []
    },
    {
      "cell_type": "code",
      "source": [
        "math_problems = pd.concat([math_problems, math_problems['modified_problem'].apply(named_entity_recognition)], axis=1)"
      ],
      "metadata": {
        "id": "ttm9CgKyzb3G"
      },
      "execution_count": 160,
      "outputs": []
    },
    {
      "cell_type": "markdown",
      "source": [
        "## POS Tagging"
      ],
      "metadata": {
        "id": "gU5JARi0or-q"
      }
    },
    {
      "cell_type": "markdown",
      "source": [
        "Parts of Speech tagging\n",
        "\n",
        "In spaCy, the Part-of-Speech (POS) tags supported by the default English language model (en_core_web_sm) include the following:\n",
        "\n",
        "ADJ: Adjective\n",
        "\n",
        "ADP: Adposition\n",
        "\n",
        "ADV: Adverb\n",
        "\n",
        "AUX: Auxiliary verb\n",
        "\n",
        "CCONJ: Coordinating conjunction\n",
        "\n",
        "DET: Determiner\n",
        "\n",
        "INTJ: Interjection\n",
        "\n",
        "NOUN: Noun\n",
        "\n",
        "NUM: Numeral\n",
        "\n",
        "PART: Particle\n",
        "\n",
        "PRON: Pronoun\n",
        "\n",
        "PROPN: Proper noun\n",
        "\n",
        "PUNCT: Punctuation\n",
        "\n",
        "SCONJ: Subordinating conjunction\n",
        "\n",
        "SYM: Symbol\n",
        "\n",
        "VERB: Verb\n",
        "\n",
        "X: Other"
      ],
      "metadata": {
        "id": "-79QNRq9JLj6"
      }
    },
    {
      "cell_type": "code",
      "source": [
        "pos_labels = ['ADJ', 'ADP', 'ADV', 'AUX', 'CONJ', 'CCONJ', 'DET', 'INTJ', 'NOUN', 'NUM', 'PART', 'PRON', 'PROPN', 'PUNCT', 'SCONJ', 'SYM', 'VERB', 'X']"
      ],
      "metadata": {
        "id": "kAyY5NYaKgtM"
      },
      "execution_count": 161,
      "outputs": []
    },
    {
      "cell_type": "code",
      "source": [
        "def pos_count_tagging(text):\n",
        "  pos = {}\n",
        "  for pos_tag in pos_labels:\n",
        "    pos[pos_tag] = 0\n",
        "  \n",
        "  document = corpus(text)\n",
        "\n",
        "  for token in document:\n",
        "    if not token.is_space: \n",
        "      pos[token.pos_] += 1\n",
        "  return pd.Series(pos)"
      ],
      "metadata": {
        "id": "ZNyYLkhBHLYo"
      },
      "execution_count": 162,
      "outputs": []
    },
    {
      "cell_type": "code",
      "source": [
        "math_problems = pd.concat([math_problems, math_problems['modified_problem'].apply(pos_count_tagging)], axis=1)"
      ],
      "metadata": {
        "id": "ymjPyCgsKa7h"
      },
      "execution_count": 163,
      "outputs": []
    },
    {
      "cell_type": "code",
      "source": [
        "math_problems.columns"
      ],
      "metadata": {
        "colab": {
          "base_uri": "https://localhost:8080/"
        },
        "id": "zUf65rlieesl",
        "outputId": "b56d7823-05f1-4f6c-c8db-76fa023a8d06"
      },
      "execution_count": 164,
      "outputs": [
        {
          "output_type": "execute_result",
          "data": {
            "text/plain": [
              "Index(['problem', 'level', 'type', 'modified_problem', 'no_of_equations',\n",
              "       'no_of_variables', 'has_exp_or_mod', 'has_logarithm', 'has_fraction',\n",
              "       'has_eq_or_neq', 'sentence_count', 'word_count', 'words_per_sentence',\n",
              "       'average_word_length', 'large_words', 'has_repeated_large_words',\n",
              "       'CARDINAL', 'DATE', 'EVENT', 'FAC', 'GPE', 'LANGUAGE', 'LAW', 'LOC',\n",
              "       'MONEY', 'NORP', 'ORDINAL', 'ORG', 'PERCENT', 'PERSON', 'PRODUCT',\n",
              "       'QUANTITY', 'TIME', 'WORK_OF_ART', 'ADJ', 'ADP', 'ADV', 'AUX', 'CONJ',\n",
              "       'CCONJ', 'DET', 'INTJ', 'NOUN', 'NUM', 'PART', 'PRON', 'PROPN', 'PUNCT',\n",
              "       'SCONJ', 'SYM', 'VERB', 'X'],\n",
              "      dtype='object')"
            ]
          },
          "metadata": {},
          "execution_count": 164
        }
      ]
    },
    {
      "cell_type": "markdown",
      "source": [
        "Saving the final dataframe as a csv file"
      ],
      "metadata": {
        "id": "RQwWmZmmpLTn"
      }
    },
    {
      "cell_type": "code",
      "source": [
        "save_dataframe_csv(PATH_TO_DATA, 'all_data.csv', math_problems)"
      ],
      "metadata": {
        "id": "-Zycg9bHoznd"
      },
      "execution_count": null,
      "outputs": []
    }
  ]
}