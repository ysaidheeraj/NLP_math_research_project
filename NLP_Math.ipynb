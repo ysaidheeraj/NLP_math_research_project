{
  "cells": [
    {
      "attachments": {},
      "cell_type": "markdown",
      "metadata": {
        "id": "V56-lqe718Y2"
      },
      "source": [
        "Connecting to drive"
      ]
    },
    {
      "cell_type": "code",
      "execution_count": 1,
      "metadata": {
        "colab": {
          "base_uri": "https://localhost:8080/"
        },
        "id": "eqVzBAZP13lx",
        "outputId": "3e687939-7afc-40b4-ef9e-56e6f83af95d"
      },
      "outputs": [
        {
          "name": "stdout",
          "output_type": "stream",
          "text": [
            "Mounted at /content/drive\n"
          ]
        }
      ],
      "source": [
        "from google.colab import drive\n",
        "drive.mount('/content/drive')"
      ]
    },
    {
      "attachments": {},
      "cell_type": "markdown",
      "metadata": {
        "id": "ZKwMKGp453uI"
      },
      "source": [
        "Defining base dir and sub dirs of the data"
      ]
    },
    {
      "cell_type": "code",
      "execution_count": 80,
      "metadata": {
        "id": "vctkanFP2BVO"
      },
      "outputs": [],
      "source": [
        "PATH_TO_DATA = r\"/Users/sai/My Drive/Learning/Research/NLP/\"\n",
        "ALGEBRA_DIR= \"algebra/\"\n",
        "PREALGEBRA_DIR = \"prealgebra/\"\n",
        "INTERMEDIATE_ALGEBRA_DIR = \"intermediate_algebra/\""
      ]
    },
    {
      "attachments": {},
      "cell_type": "markdown",
      "metadata": {
        "id": "2qpmc9TE6Nsy"
      },
      "source": [
        "Importing required libraries"
      ]
    },
    {
      "cell_type": "code",
      "execution_count": 75,
      "metadata": {
        "id": "aviFmJok6MxL"
      },
      "outputs": [],
      "source": [
        "#For navigation in the folders\n",
        "import os\n",
        "\n",
        "#For dataframe processing\n",
        "import pandas as pd\n",
        "\n",
        "#For regex validation\n",
        "import re\n",
        "\n",
        "#For nlp\n",
        "import spacy"
      ]
    },
    {
      "attachments": {},
      "cell_type": "markdown",
      "metadata": {
        "id": "jYeFc9Aj6GU6"
      },
      "source": [
        "Reading the json files and appending to input dataframe"
      ]
    },
    {
      "cell_type": "code",
      "execution_count": 76,
      "metadata": {
        "id": "Yg-EB25D7Ssj"
      },
      "outputs": [],
      "source": [
        "#Reading the math problems json files into dataframe\n",
        "def read_data(path_to_files, input_df=pd.DataFrame()):\n",
        "  #Files in the current directory\n",
        "  os.chdir(path_to_files)\n",
        "  files = [f for f in os.listdir('.') if os.path.isfile(f)]\n",
        "  for file_name in files:\n",
        "    data = pd.read_json(file_name, orient='index').T\n",
        "    input_df = pd.concat([input_df,data], ignore_index = True)\n",
        "  return input_df"
      ]
    },
    {
      "cell_type": "code",
      "execution_count": 81,
      "metadata": {
        "id": "xAXiO-bSmFOt"
      },
      "outputs": [],
      "source": [
        "math_problems = read_data(PATH_TO_DATA + ALGEBRA_DIR)\n",
        "math_problems = read_data(PATH_TO_DATA + PREALGEBRA_DIR, math_problems)\n",
        "math_problems = read_data(PATH_TO_DATA + INTERMEDIATE_ALGEBRA_DIR, math_problems)"
      ]
    },
    {
      "attachments": {},
      "cell_type": "markdown",
      "metadata": {
        "id": "O_EPqwRan9zI"
      },
      "source": [
        "Function to save dataframe"
      ]
    },
    {
      "cell_type": "code",
      "execution_count": 82,
      "metadata": {
        "id": "UjvyQ8IwnvnT"
      },
      "outputs": [],
      "source": [
        "def save_dataframe_csv(path_to_save, filename, dataframe, include_index=False):\n",
        "  dataframe.to_csv(path_to_save+filename, index=include_index)\n",
        "  print(\"Dataframe saved successfully at {}\".format(path_to_save+filename))"
      ]
    },
    {
      "cell_type": "code",
      "execution_count": 83,
      "metadata": {},
      "outputs": [],
      "source": [
        "def read_dataframe_csv(path_to_file):\n",
        "    return pd.read_csv(path_to_file)"
      ]
    },
    {
      "cell_type": "code",
      "execution_count": 84,
      "metadata": {
        "colab": {
          "base_uri": "https://localhost:8080/"
        },
        "id": "NdSky9txiiMZ",
        "outputId": "886b6c4d-f562-4044-c8a1-ce39607a7bda"
      },
      "outputs": [
        {
          "data": {
            "text/plain": [
              "(4236, 4)"
            ]
          },
          "execution_count": 84,
          "metadata": {},
          "output_type": "execute_result"
        }
      ],
      "source": [
        "math_problems.shape"
      ]
    },
    {
      "cell_type": "code",
      "execution_count": null,
      "metadata": {
        "colab": {
          "base_uri": "https://localhost:8080/",
          "height": 206
        },
        "id": "0ex9SMdtBe6U",
        "outputId": "5bf1687d-4a4e-44d9-e89a-8753721a0854"
      },
      "outputs": [
        {
          "data": {
            "text/html": [
              "\n",
              "  <div id=\"df-2a1c9c53-1b81-4240-a343-05c699cdb3c4\">\n",
              "    <div class=\"colab-df-container\">\n",
              "      <div>\n",
              "<style scoped>\n",
              "    .dataframe tbody tr th:only-of-type {\n",
              "        vertical-align: middle;\n",
              "    }\n",
              "\n",
              "    .dataframe tbody tr th {\n",
              "        vertical-align: top;\n",
              "    }\n",
              "\n",
              "    .dataframe thead th {\n",
              "        text-align: right;\n",
              "    }\n",
              "</style>\n",
              "<table border=\"1\" class=\"dataframe\">\n",
              "  <thead>\n",
              "    <tr style=\"text-align: right;\">\n",
              "      <th></th>\n",
              "      <th>problem</th>\n",
              "      <th>level</th>\n",
              "      <th>type</th>\n",
              "      <th>solution</th>\n",
              "    </tr>\n",
              "  </thead>\n",
              "  <tbody>\n",
              "    <tr>\n",
              "      <th>0</th>\n",
              "      <td>Brand X soda advertises, ``We will give you 20...</td>\n",
              "      <td>Level 5</td>\n",
              "      <td>Prealgebra</td>\n",
              "      <td>Let $v$ be the volume of soda in Brand Y, and ...</td>\n",
              "    </tr>\n",
              "    <tr>\n",
              "      <th>1</th>\n",
              "      <td>During the first year, ABC's stock price start...</td>\n",
              "      <td>Level 2</td>\n",
              "      <td>Prealgebra</td>\n",
              "      <td>After the first year, its price has doubled to...</td>\n",
              "    </tr>\n",
              "    <tr>\n",
              "      <th>2</th>\n",
              "      <td>Find the greatest common divisor of 75 and 360.</td>\n",
              "      <td>Level 3</td>\n",
              "      <td>Prealgebra</td>\n",
              "      <td>$75 = 3^1 \\cdot 5^2$ and $360 = 2^3 \\cdot 3^2 ...</td>\n",
              "    </tr>\n",
              "    <tr>\n",
              "      <th>3</th>\n",
              "      <td>A school is arranging chairs in rows for an as...</td>\n",
              "      <td>Level 3</td>\n",
              "      <td>Prealgebra</td>\n",
              "      <td>The original number of chairs is divisible by ...</td>\n",
              "    </tr>\n",
              "    <tr>\n",
              "      <th>4</th>\n",
              "      <td>The average value of all the pennies, nickels,...</td>\n",
              "      <td>Level 5</td>\n",
              "      <td>Prealgebra</td>\n",
              "      <td>If $n$ is the number of coins in Paula's purse...</td>\n",
              "    </tr>\n",
              "  </tbody>\n",
              "</table>\n",
              "</div>\n",
              "      <button class=\"colab-df-convert\" onclick=\"convertToInteractive('df-2a1c9c53-1b81-4240-a343-05c699cdb3c4')\"\n",
              "              title=\"Convert this dataframe to an interactive table.\"\n",
              "              style=\"display:none;\">\n",
              "        \n",
              "  <svg xmlns=\"http://www.w3.org/2000/svg\" height=\"24px\"viewBox=\"0 0 24 24\"\n",
              "       width=\"24px\">\n",
              "    <path d=\"M0 0h24v24H0V0z\" fill=\"none\"/>\n",
              "    <path d=\"M18.56 5.44l.94 2.06.94-2.06 2.06-.94-2.06-.94-.94-2.06-.94 2.06-2.06.94zm-11 1L8.5 8.5l.94-2.06 2.06-.94-2.06-.94L8.5 2.5l-.94 2.06-2.06.94zm10 10l.94 2.06.94-2.06 2.06-.94-2.06-.94-.94-2.06-.94 2.06-2.06.94z\"/><path d=\"M17.41 7.96l-1.37-1.37c-.4-.4-.92-.59-1.43-.59-.52 0-1.04.2-1.43.59L10.3 9.45l-7.72 7.72c-.78.78-.78 2.05 0 2.83L4 21.41c.39.39.9.59 1.41.59.51 0 1.02-.2 1.41-.59l7.78-7.78 2.81-2.81c.8-.78.8-2.07 0-2.86zM5.41 20L4 18.59l7.72-7.72 1.47 1.35L5.41 20z\"/>\n",
              "  </svg>\n",
              "      </button>\n",
              "      \n",
              "  <style>\n",
              "    .colab-df-container {\n",
              "      display:flex;\n",
              "      flex-wrap:wrap;\n",
              "      gap: 12px;\n",
              "    }\n",
              "\n",
              "    .colab-df-convert {\n",
              "      background-color: #E8F0FE;\n",
              "      border: none;\n",
              "      border-radius: 50%;\n",
              "      cursor: pointer;\n",
              "      display: none;\n",
              "      fill: #1967D2;\n",
              "      height: 32px;\n",
              "      padding: 0 0 0 0;\n",
              "      width: 32px;\n",
              "    }\n",
              "\n",
              "    .colab-df-convert:hover {\n",
              "      background-color: #E2EBFA;\n",
              "      box-shadow: 0px 1px 2px rgba(60, 64, 67, 0.3), 0px 1px 3px 1px rgba(60, 64, 67, 0.15);\n",
              "      fill: #174EA6;\n",
              "    }\n",
              "\n",
              "    [theme=dark] .colab-df-convert {\n",
              "      background-color: #3B4455;\n",
              "      fill: #D2E3FC;\n",
              "    }\n",
              "\n",
              "    [theme=dark] .colab-df-convert:hover {\n",
              "      background-color: #434B5C;\n",
              "      box-shadow: 0px 1px 3px 1px rgba(0, 0, 0, 0.15);\n",
              "      filter: drop-shadow(0px 1px 2px rgba(0, 0, 0, 0.3));\n",
              "      fill: #FFFFFF;\n",
              "    }\n",
              "  </style>\n",
              "\n",
              "      <script>\n",
              "        const buttonEl =\n",
              "          document.querySelector('#df-2a1c9c53-1b81-4240-a343-05c699cdb3c4 button.colab-df-convert');\n",
              "        buttonEl.style.display =\n",
              "          google.colab.kernel.accessAllowed ? 'block' : 'none';\n",
              "\n",
              "        async function convertToInteractive(key) {\n",
              "          const element = document.querySelector('#df-2a1c9c53-1b81-4240-a343-05c699cdb3c4');\n",
              "          const dataTable =\n",
              "            await google.colab.kernel.invokeFunction('convertToInteractive',\n",
              "                                                     [key], {});\n",
              "          if (!dataTable) return;\n",
              "\n",
              "          const docLinkHtml = 'Like what you see? Visit the ' +\n",
              "            '<a target=\"_blank\" href=https://colab.research.google.com/notebooks/data_table.ipynb>data table notebook</a>'\n",
              "            + ' to learn more about interactive tables.';\n",
              "          element.innerHTML = '';\n",
              "          dataTable['output_type'] = 'display_data';\n",
              "          await google.colab.output.renderOutput(dataTable, element);\n",
              "          const docLink = document.createElement('div');\n",
              "          docLink.innerHTML = docLinkHtml;\n",
              "          element.appendChild(docLink);\n",
              "        }\n",
              "      </script>\n",
              "    </div>\n",
              "  </div>\n",
              "  "
            ],
            "text/plain": [
              "                                             problem    level        type  \\\n",
              "0  Brand X soda advertises, ``We will give you 20...  Level 5  Prealgebra   \n",
              "1  During the first year, ABC's stock price start...  Level 2  Prealgebra   \n",
              "2    Find the greatest common divisor of 75 and 360.  Level 3  Prealgebra   \n",
              "3  A school is arranging chairs in rows for an as...  Level 3  Prealgebra   \n",
              "4  The average value of all the pennies, nickels,...  Level 5  Prealgebra   \n",
              "\n",
              "                                            solution  \n",
              "0  Let $v$ be the volume of soda in Brand Y, and ...  \n",
              "1  After the first year, its price has doubled to...  \n",
              "2  $75 = 3^1 \\cdot 5^2$ and $360 = 2^3 \\cdot 3^2 ...  \n",
              "3  The original number of chairs is divisible by ...  \n",
              "4  If $n$ is the number of coins in Paula's purse...  "
            ]
          },
          "execution_count": 8,
          "metadata": {},
          "output_type": "execute_result"
        }
      ],
      "source": [
        "math_problems.head()"
      ]
    },
    {
      "attachments": {},
      "cell_type": "markdown",
      "metadata": {
        "id": "viUK3Nf8if25"
      },
      "source": [
        "Dropping the solution column"
      ]
    },
    {
      "cell_type": "code",
      "execution_count": 85,
      "metadata": {
        "colab": {
          "base_uri": "https://localhost:8080/",
          "height": 206
        },
        "id": "SHtS7-se--OJ",
        "outputId": "6ec668d5-dc2b-4ffe-9c11-18e5a7f7fda5"
      },
      "outputs": [
        {
          "data": {
            "text/html": [
              "<div>\n",
              "<style scoped>\n",
              "    .dataframe tbody tr th:only-of-type {\n",
              "        vertical-align: middle;\n",
              "    }\n",
              "\n",
              "    .dataframe tbody tr th {\n",
              "        vertical-align: top;\n",
              "    }\n",
              "\n",
              "    .dataframe thead th {\n",
              "        text-align: right;\n",
              "    }\n",
              "</style>\n",
              "<table border=\"1\" class=\"dataframe\">\n",
              "  <thead>\n",
              "    <tr style=\"text-align: right;\">\n",
              "      <th></th>\n",
              "      <th>problem</th>\n",
              "      <th>level</th>\n",
              "      <th>type</th>\n",
              "    </tr>\n",
              "  </thead>\n",
              "  <tbody>\n",
              "    <tr>\n",
              "      <th>0</th>\n",
              "      <td>Kevin Kangaroo begins hopping on a number line...</td>\n",
              "      <td>Level 5</td>\n",
              "      <td>Algebra</td>\n",
              "    </tr>\n",
              "    <tr>\n",
              "      <th>1</th>\n",
              "      <td>The ratio of the areas of two squares is $\\fra...</td>\n",
              "      <td>Level 4</td>\n",
              "      <td>Algebra</td>\n",
              "    </tr>\n",
              "    <tr>\n",
              "      <th>2</th>\n",
              "      <td>If $\\sqrt{2\\sqrt{t-2}} = \\sqrt[4]{7 - t}$, the...</td>\n",
              "      <td>Level 4</td>\n",
              "      <td>Algebra</td>\n",
              "    </tr>\n",
              "    <tr>\n",
              "      <th>3</th>\n",
              "      <td>Let $t(x) = \\sqrt{3x+1}$ and $f(x)=5-t(x)$. Wh...</td>\n",
              "      <td>Level 4</td>\n",
              "      <td>Algebra</td>\n",
              "    </tr>\n",
              "    <tr>\n",
              "      <th>4</th>\n",
              "      <td>James has a total of 66 dollars in his piggy b...</td>\n",
              "      <td>Level 2</td>\n",
              "      <td>Algebra</td>\n",
              "    </tr>\n",
              "  </tbody>\n",
              "</table>\n",
              "</div>"
            ],
            "text/plain": [
              "                                             problem    level     type\n",
              "0  Kevin Kangaroo begins hopping on a number line...  Level 5  Algebra\n",
              "1  The ratio of the areas of two squares is $\\fra...  Level 4  Algebra\n",
              "2  If $\\sqrt{2\\sqrt{t-2}} = \\sqrt[4]{7 - t}$, the...  Level 4  Algebra\n",
              "3  Let $t(x) = \\sqrt{3x+1}$ and $f(x)=5-t(x)$. Wh...  Level 4  Algebra\n",
              "4  James has a total of 66 dollars in his piggy b...  Level 2  Algebra"
            ]
          },
          "execution_count": 85,
          "metadata": {},
          "output_type": "execute_result"
        }
      ],
      "source": [
        "math_problems.drop(columns=['solution'], inplace=True)\n",
        "math_problems.head()"
      ]
    },
    {
      "attachments": {},
      "cell_type": "markdown",
      "metadata": {
        "id": "ynYanAQZoZIq"
      },
      "source": [
        "## Extracting math features"
      ]
    },
    {
      "attachments": {},
      "cell_type": "markdown",
      "metadata": {
        "id": "hzTNkiToi5eN"
      },
      "source": [
        "Detecting number of equations in the problem columns\n",
        "\n",
        "In our data, the equations are enclosed inside either of\n",
        "  1. \\$...$\n",
        "  2. \\$\\$...\\$\\$\n",
        "  3. \\\\\\[...\\\\\\]\n",
        "\n",
        "So we need to count the number of equations by matching these patterns"
      ]
    },
    {
      "cell_type": "code",
      "execution_count": 86,
      "metadata": {
        "id": "uBNh5vKF6-k5"
      },
      "outputs": [],
      "source": [
        "def get_equations_count(expression):\n",
        "  regexes = [r\"\\$\\$([^$]+)\\$\\$\", r\"\\$([^$]+)\\$\", r\"\\\\\\(([^$]+)\\\\\\)\", r\"\\\\\\[([^$]+)\\\\\\]\"]\n",
        "  no_of_equations = 0\n",
        "  eqs = []\n",
        "  \n",
        "  #For each regex, we are finding the number of equations\n",
        "  for regex in regexes:\n",
        "    matches = re.findall(regex, expression)\n",
        "    for eqn in matches:\n",
        "\n",
        "      #Considering only those equations that have a min length of 3\n",
        "      if len(eqn) >= 3:\n",
        "        eqs.append(eqn)\n",
        "        no_of_equations += 1\n",
        "    \n",
        "    # Replacing the equations in the original text\n",
        "    expression = re.sub(regex, \"\", expression)\n",
        "  return eqs, no_of_equations, expression"
      ]
    },
    {
      "cell_type": "code",
      "execution_count": 87,
      "metadata": {
        "id": "TAiEqMyBzpjX"
      },
      "outputs": [],
      "source": [
        "#Function to eliminate duplicate variables that are formed by combination of existing variables\n",
        "def eliminate_concatenated_variables(strings):\n",
        "    strings_set = set(strings)\n",
        "    is_concatenated = True\n",
        "\n",
        "    while is_concatenated:\n",
        "        is_concatenated = False\n",
        "        for string in strings_set.copy():\n",
        "            for i in range(1, len(string)):\n",
        "                prefix = string[:i]\n",
        "                suffix = string[i:]\n",
        "                if prefix in strings_set and suffix in strings_set:\n",
        "                    strings_set.remove(string)\n",
        "                    is_concatenated = True\n",
        "                    break\n",
        "\n",
        "    return strings_set"
      ]
    },
    {
      "cell_type": "code",
      "execution_count": 88,
      "metadata": {
        "id": "m6wSe4gVdOUl"
      },
      "outputs": [],
      "source": [
        "def get_variable_count(equations):\n",
        "  # Define regular expression pattern to extract variables\n",
        "  variable_pattern = r\"\\\\?[a-zA-Z]+(?:_[0-9]+)?(?:\\^{[0-9]+})?\"\n",
        "  max_no_of_variables = 0\n",
        "\n",
        "  for equation in equations:\n",
        "    # Find all variables in the equation\n",
        "    variables = re.findall(variable_pattern, equation)\n",
        "\n",
        "    # Count the number of unique variables\n",
        "    unique_variables = set(variables)\n",
        "    unique_variables = eliminate_concatenated_variables(unique_variables)\n",
        "    num_unique_variables = len(unique_variables)\n",
        "    max_no_of_variables = num_unique_variables if num_unique_variables > max_no_of_variables else max_no_of_variables\n",
        "\n",
        "  return max_no_of_variables"
      ]
    },
    {
      "cell_type": "code",
      "execution_count": 89,
      "metadata": {
        "id": "IlnRbv0YvGI_"
      },
      "outputs": [],
      "source": [
        "def detect_exp(equations):\n",
        "  exponentiation_regex = r'\\^|exp|sqrt'\n",
        "  has_exponentiation = any(re.search(exponentiation_regex, equation) for equation in equations)\n",
        "  no_of_exponents = sum([len(re.findall(exponentiation_regex, equation)) for equation in equations])\n",
        "\n",
        "  return has_exponentiation, no_of_exponents"
      ]
    },
    {
      "cell_type": "code",
      "execution_count": 90,
      "metadata": {},
      "outputs": [],
      "source": [
        "def detect_mod(equations):\n",
        "    # Detect \"mod\" (modulo)\n",
        "    modulo_regex = r'\\bmod\\b'\n",
        "    has_modulo = any(re.search(modulo_regex, equation) for equation in equations)\n",
        "    no_of_mods = sum([len(re.findall(modulo_regex, equation)) for equation in equations])\n",
        "\n",
        "    # Detect \"|a+b|\"\n",
        "    absolute_value_regex = r'\\|.*?\\|'\n",
        "    has_absolute_value =any(re.search(absolute_value_regex, equation) for equation in equations)\n",
        "    no_of_mods += sum([len(re.findall(absolute_value_regex, equation)) for equation in equations])\n",
        "\n",
        "    return (has_modulo or has_absolute_value), no_of_mods"
      ]
    },
    {
      "cell_type": "code",
      "execution_count": 91,
      "metadata": {
        "id": "O-nKVSuW3Bfk"
      },
      "outputs": [],
      "source": [
        "def has_log(equations):\n",
        "  # Detect \"log\" function\n",
        "  log_regex = r'\\\\log'\n",
        "  has_log = any(re.search(log_regex, equation) for equation in equations)\n",
        "  no_of_logs = sum([len(re.findall(log_regex, equation)) for equation in equations])\n",
        "  return has_log, no_of_logs"
      ]
    },
    {
      "cell_type": "code",
      "execution_count": 92,
      "metadata": {
        "id": "bKFbVQGD4rSm"
      },
      "outputs": [],
      "source": [
        "def has_fractions(equations):\n",
        "  fraction_pattern = r\"frac\"\n",
        "  has_fraction = any(re.search(fraction_pattern, equation) for equation in equations)\n",
        "  no_of_fractions = sum([len(re.findall(fraction_pattern, equation)) for equation in equations])\n",
        "  \n",
        "  return has_fraction, no_of_fractions"
      ]
    },
    {
      "cell_type": "code",
      "execution_count": 93,
      "metadata": {
        "id": "Dz3veef758dJ"
      },
      "outputs": [],
      "source": [
        "def has_equality(equations):\n",
        "  # Detect equality\n",
        "  equality_regex = r'\\b=\\b|\\b==\\b'\n",
        "  has_eq = any(re.search(equality_regex, equation) for equation in equations)\n",
        "  no_of_eqs = sum([len(re.findall(equality_regex, equation)) for equation in equations])\n",
        "\n",
        "  return has_eq, no_of_eqs"
      ]
    },
    {
      "cell_type": "code",
      "execution_count": 94,
      "metadata": {},
      "outputs": [],
      "source": [
        "def has_inequality(equations):\n",
        "    # Detect equality or inequality\n",
        "    neq_regex = r'(>|<|\\\\leq|\\\\geq|\\\\neq|!=)'\n",
        "    has_neq =  any(re.search(neq_regex, repr(equation)) for equation in equations)\n",
        "    no_of_neqs = sum([len(re.findall(neq_regex, repr(equation))) for equation in equations])\n",
        "\n",
        "    return has_neq, no_of_neqs"
      ]
    },
    {
      "cell_type": "code",
      "execution_count": 95,
      "metadata": {
        "id": "ldtyBJIDfe7U"
      },
      "outputs": [],
      "source": [
        "def max_degree_of_equations(equations):\n",
        "  degree_regex = r\"([-+])?\\s*(\\d+)?\\s*([a-zA-Z]+)\\s*\\^?\\s*(\\d+)?\"\n",
        "  max_degree = 0\n",
        "  for equation in equations:\n",
        "    terms = re.findall(degree_regex, equation)\n",
        "    # Initialize degree as zero\n",
        "    degree = 0\n",
        "    # Iterate over each term and update the degree if necessary\n",
        "    for term in terms:\n",
        "        sign = term[0]\n",
        "        coefficient = term[1]\n",
        "        variable = term[2]\n",
        "        exponent = term[3] if term[3] else '1'\n",
        "\n",
        "        if variable:\n",
        "            if exponent.isdigit():\n",
        "                current_degree = int(exponent)\n",
        "                degree = max(degree, current_degree)\n",
        "    max_degree = max(degree, max_degree)\n",
        "  return max_degree"
      ]
    },
    {
      "cell_type": "code",
      "execution_count": 96,
      "metadata": {
        "id": "sQm7VeIw6Kws"
      },
      "outputs": [],
      "source": [
        "def extract_math_features(problem):\n",
        "  eqns, equations_count, modified_problem = get_equations_count(problem)\n",
        "  variable_count = get_variable_count(eqns)\n",
        "  has_exp, no_of_exponents = detect_exp(eqns)\n",
        "  has_mod, no_of_mods = detect_mod(eqns)\n",
        "  has_logarithm, no_of_logs = has_log(eqns)\n",
        "  has_fracs, no_of_fractions = has_fractions(eqns)\n",
        "  has_eq, no_of_eqs = has_equality(eqns)\n",
        "  has_neq, no_of_neqs = has_inequality(eqns)\n",
        "  max_degree = max_degree_of_equations(eqns)\n",
        "\n",
        "  return pd.Series({'modified_problem': modified_problem, \n",
        "                    'no_of_equations': equations_count, \n",
        "                    'no_of_variables': variable_count, \n",
        "                    'has_exp': has_exp, \n",
        "                    'has_mod': has_mod,\n",
        "                    'has_logarithm': has_logarithm, \n",
        "                    'has_fraction': has_fracs, \n",
        "                    'has_eq':has_eq,\n",
        "                    'has_neq': has_neq,\n",
        "                    'exp_count': no_of_exponents,\n",
        "                    'mod_count': no_of_mods,\n",
        "                    'log_count': no_of_logs,\n",
        "                    'fracs_count': no_of_fractions,\n",
        "                    'eqlts_count': no_of_eqs,\n",
        "                    'neqlts_count': no_of_neqs,\n",
        "                    'max_degree_of_equations': max_degree\n",
        "                  })"
      ]
    },
    {
      "cell_type": "code",
      "execution_count": 97,
      "metadata": {
        "id": "i-b035voef43"
      },
      "outputs": [],
      "source": [
        "math_problems = pd.concat([math_problems, math_problems['problem'].apply(extract_math_features)], axis=1)"
      ]
    },
    {
      "cell_type": "code",
      "execution_count": 98,
      "metadata": {},
      "outputs": [
        {
          "data": {
            "text/html": [
              "<div>\n",
              "<style scoped>\n",
              "    .dataframe tbody tr th:only-of-type {\n",
              "        vertical-align: middle;\n",
              "    }\n",
              "\n",
              "    .dataframe tbody tr th {\n",
              "        vertical-align: top;\n",
              "    }\n",
              "\n",
              "    .dataframe thead th {\n",
              "        text-align: right;\n",
              "    }\n",
              "</style>\n",
              "<table border=\"1\" class=\"dataframe\">\n",
              "  <thead>\n",
              "    <tr style=\"text-align: right;\">\n",
              "      <th></th>\n",
              "      <th>problem</th>\n",
              "      <th>level</th>\n",
              "      <th>type</th>\n",
              "      <th>modified_problem</th>\n",
              "      <th>no_of_equations</th>\n",
              "      <th>no_of_variables</th>\n",
              "      <th>has_exp</th>\n",
              "      <th>has_mod</th>\n",
              "      <th>has_logarithm</th>\n",
              "      <th>has_fraction</th>\n",
              "      <th>has_eq</th>\n",
              "      <th>has_neq</th>\n",
              "      <th>exp_count</th>\n",
              "      <th>mod_count</th>\n",
              "      <th>log_count</th>\n",
              "      <th>fracs_count</th>\n",
              "      <th>eqlts_count</th>\n",
              "      <th>neqlts_count</th>\n",
              "      <th>max_degree_of_equations</th>\n",
              "    </tr>\n",
              "  </thead>\n",
              "  <tbody>\n",
              "    <tr>\n",
              "      <th>0</th>\n",
              "      <td>Kevin Kangaroo begins hopping on a number line...</td>\n",
              "      <td>Level 5</td>\n",
              "      <td>Algebra</td>\n",
              "      <td>Kevin Kangaroo begins hopping on a number line...</td>\n",
              "      <td>2</td>\n",
              "      <td>1</td>\n",
              "      <td>False</td>\n",
              "      <td>False</td>\n",
              "      <td>False</td>\n",
              "      <td>True</td>\n",
              "      <td>False</td>\n",
              "      <td>False</td>\n",
              "      <td>0</td>\n",
              "      <td>0</td>\n",
              "      <td>0</td>\n",
              "      <td>2</td>\n",
              "      <td>0</td>\n",
              "      <td>0</td>\n",
              "      <td>1</td>\n",
              "    </tr>\n",
              "    <tr>\n",
              "      <th>1</th>\n",
              "      <td>The ratio of the areas of two squares is $\\fra...</td>\n",
              "      <td>Level 4</td>\n",
              "      <td>Algebra</td>\n",
              "      <td>The ratio of the areas of two squares is . Aft...</td>\n",
              "      <td>3</td>\n",
              "      <td>5</td>\n",
              "      <td>True</td>\n",
              "      <td>False</td>\n",
              "      <td>False</td>\n",
              "      <td>True</td>\n",
              "      <td>False</td>\n",
              "      <td>False</td>\n",
              "      <td>1</td>\n",
              "      <td>0</td>\n",
              "      <td>0</td>\n",
              "      <td>2</td>\n",
              "      <td>0</td>\n",
              "      <td>0</td>\n",
              "      <td>1</td>\n",
              "    </tr>\n",
              "    <tr>\n",
              "      <th>2</th>\n",
              "      <td>If $\\sqrt{2\\sqrt{t-2}} = \\sqrt[4]{7 - t}$, the...</td>\n",
              "      <td>Level 4</td>\n",
              "      <td>Algebra</td>\n",
              "      <td>If , then find .</td>\n",
              "      <td>1</td>\n",
              "      <td>2</td>\n",
              "      <td>True</td>\n",
              "      <td>False</td>\n",
              "      <td>False</td>\n",
              "      <td>False</td>\n",
              "      <td>False</td>\n",
              "      <td>False</td>\n",
              "      <td>3</td>\n",
              "      <td>0</td>\n",
              "      <td>0</td>\n",
              "      <td>0</td>\n",
              "      <td>0</td>\n",
              "      <td>0</td>\n",
              "      <td>1</td>\n",
              "    </tr>\n",
              "    <tr>\n",
              "      <th>3</th>\n",
              "      <td>Let $t(x) = \\sqrt{3x+1}$ and $f(x)=5-t(x)$. Wh...</td>\n",
              "      <td>Level 4</td>\n",
              "      <td>Algebra</td>\n",
              "      <td>Let  and . What is ?</td>\n",
              "      <td>3</td>\n",
              "      <td>3</td>\n",
              "      <td>True</td>\n",
              "      <td>False</td>\n",
              "      <td>False</td>\n",
              "      <td>False</td>\n",
              "      <td>False</td>\n",
              "      <td>False</td>\n",
              "      <td>1</td>\n",
              "      <td>0</td>\n",
              "      <td>0</td>\n",
              "      <td>0</td>\n",
              "      <td>0</td>\n",
              "      <td>0</td>\n",
              "      <td>1</td>\n",
              "    </tr>\n",
              "    <tr>\n",
              "      <th>4</th>\n",
              "      <td>James has a total of 66 dollars in his piggy b...</td>\n",
              "      <td>Level 2</td>\n",
              "      <td>Algebra</td>\n",
              "      <td>James has a total of 66 dollars in his piggy b...</td>\n",
              "      <td>0</td>\n",
              "      <td>0</td>\n",
              "      <td>False</td>\n",
              "      <td>False</td>\n",
              "      <td>False</td>\n",
              "      <td>False</td>\n",
              "      <td>False</td>\n",
              "      <td>False</td>\n",
              "      <td>0</td>\n",
              "      <td>0</td>\n",
              "      <td>0</td>\n",
              "      <td>0</td>\n",
              "      <td>0</td>\n",
              "      <td>0</td>\n",
              "      <td>0</td>\n",
              "    </tr>\n",
              "  </tbody>\n",
              "</table>\n",
              "</div>"
            ],
            "text/plain": [
              "                                             problem    level     type  \\\n",
              "0  Kevin Kangaroo begins hopping on a number line...  Level 5  Algebra   \n",
              "1  The ratio of the areas of two squares is $\\fra...  Level 4  Algebra   \n",
              "2  If $\\sqrt{2\\sqrt{t-2}} = \\sqrt[4]{7 - t}$, the...  Level 4  Algebra   \n",
              "3  Let $t(x) = \\sqrt{3x+1}$ and $f(x)=5-t(x)$. Wh...  Level 4  Algebra   \n",
              "4  James has a total of 66 dollars in his piggy b...  Level 2  Algebra   \n",
              "\n",
              "                                    modified_problem  no_of_equations  \\\n",
              "0  Kevin Kangaroo begins hopping on a number line...                2   \n",
              "1  The ratio of the areas of two squares is . Aft...                3   \n",
              "2                                   If , then find .                1   \n",
              "3                               Let  and . What is ?                3   \n",
              "4  James has a total of 66 dollars in his piggy b...                0   \n",
              "\n",
              "   no_of_variables  has_exp  has_mod  has_logarithm  has_fraction  has_eq  \\\n",
              "0                1    False    False          False          True   False   \n",
              "1                5     True    False          False          True   False   \n",
              "2                2     True    False          False         False   False   \n",
              "3                3     True    False          False         False   False   \n",
              "4                0    False    False          False         False   False   \n",
              "\n",
              "   has_neq  exp_count  mod_count  log_count  fracs_count  eqlts_count  \\\n",
              "0    False          0          0          0            2            0   \n",
              "1    False          1          0          0            2            0   \n",
              "2    False          3          0          0            0            0   \n",
              "3    False          1          0          0            0            0   \n",
              "4    False          0          0          0            0            0   \n",
              "\n",
              "   neqlts_count  max_degree_of_equations  \n",
              "0             0                        1  \n",
              "1             0                        1  \n",
              "2             0                        1  \n",
              "3             0                        1  \n",
              "4             0                        0  "
            ]
          },
          "execution_count": 98,
          "metadata": {},
          "output_type": "execute_result"
        }
      ],
      "source": [
        "math_problems.head()"
      ]
    },
    {
      "attachments": {},
      "cell_type": "markdown",
      "metadata": {
        "id": "h-5REOjzofd1"
      },
      "source": [
        "## Extracting text attributes"
      ]
    },
    {
      "attachments": {},
      "cell_type": "markdown",
      "metadata": {
        "id": "7r3nDzNLCfMX"
      },
      "source": [
        "Installing spacy for further processing"
      ]
    },
    {
      "cell_type": "code",
      "execution_count": 99,
      "metadata": {
        "id": "5ZSTcQOrITnd"
      },
      "outputs": [],
      "source": [
        "corpus = spacy.load(\"en_core_web_sm\")\n",
        "def get_text_attributes(text):\n",
        "\n",
        "  document = corpus(text)\n",
        "\n",
        "  sentences = list(document.sents)\n",
        "  \n",
        "  #Sentences count\n",
        "  sentence_count = len(sentences)\n",
        "\n",
        "  word_count = 0\n",
        "  words_len_greater_than_six = 0\n",
        "  char_count = 0\n",
        "  large_words=[]\n",
        "  has_repeated_large_words = False\n",
        "  \n",
        "  for token in document:\n",
        "    if not token.is_space: \n",
        "        \n",
        "        #Word count in the text\n",
        "        word_count += 1\n",
        "        char_count += len(token.text)\n",
        "        \n",
        "        #Number of words with length greater than 6\n",
        "        if len(token.text) > 6:\n",
        "          if token.text not in large_words:\n",
        "            words_len_greater_than_six += 1\n",
        "            large_words.append(token.text)\n",
        "          else:\n",
        "            has_repeated_large_words = True\n",
        "  \n",
        "  #Average words per sentence\n",
        "  words_per_sentence = round(word_count / sentence_count)\n",
        "\n",
        "  #Average length of words\n",
        "  average_word_length = round(char_count / word_count)\n",
        "\n",
        "  return pd.Series({'sentence_count': sentence_count, 'word_count': word_count, 'words_per_sentence': words_per_sentence, 'average_word_length': average_word_length, 'large_words': words_len_greater_than_six, 'has_repeated_large_words': has_repeated_large_words})"
      ]
    },
    {
      "cell_type": "code",
      "execution_count": 100,
      "metadata": {
        "id": "k7t642SoJ3zG"
      },
      "outputs": [],
      "source": [
        "math_problems = pd.concat([math_problems, math_problems['modified_problem'].apply(get_text_attributes)], axis=1)"
      ]
    },
    {
      "attachments": {},
      "cell_type": "markdown",
      "metadata": {
        "id": "Ggcqr9fiI0xQ"
      },
      "source": [
        "## Named Entity Recognition"
      ]
    },
    {
      "cell_type": "code",
      "execution_count": 101,
      "metadata": {
        "colab": {
          "base_uri": "https://localhost:8080/"
        },
        "id": "6dzZrZLqxGng",
        "outputId": "fe8f1b8c-e5a3-4dad-e4bb-5d3a33d23736"
      },
      "outputs": [
        {
          "data": {
            "text/plain": [
              "('CARDINAL',\n",
              " 'DATE',\n",
              " 'EVENT',\n",
              " 'FAC',\n",
              " 'GPE',\n",
              " 'LANGUAGE',\n",
              " 'LAW',\n",
              " 'LOC',\n",
              " 'MONEY',\n",
              " 'NORP',\n",
              " 'ORDINAL',\n",
              " 'ORG',\n",
              " 'PERCENT',\n",
              " 'PERSON',\n",
              " 'PRODUCT',\n",
              " 'QUANTITY',\n",
              " 'TIME',\n",
              " 'WORK_OF_ART')"
            ]
          },
          "execution_count": 101,
          "metadata": {},
          "output_type": "execute_result"
        }
      ],
      "source": [
        "#List of labels for named entity recognition using spacy for en_core_web_sm\n",
        "corpus.get_pipe(\"ner\").labels"
      ]
    },
    {
      "cell_type": "code",
      "execution_count": 102,
      "metadata": {
        "id": "BjQtAfOXyNzW"
      },
      "outputs": [],
      "source": [
        "def named_entity_recognition(text):\n",
        "  #Initialising a dictionary with all named entities\n",
        "  ner = {}\n",
        "  for label in corpus.get_pipe(\"ner\").labels:\n",
        "    ner[label] = 0\n",
        "  \n",
        "  document = corpus(text)\n",
        "\n",
        "  for entity in document.ents:\n",
        "    ner[entity.label_] += 1\n",
        "  \n",
        "  return pd.Series(ner)"
      ]
    },
    {
      "cell_type": "code",
      "execution_count": 103,
      "metadata": {
        "id": "ttm9CgKyzb3G"
      },
      "outputs": [],
      "source": [
        "math_problems = pd.concat([math_problems, math_problems['modified_problem'].apply(named_entity_recognition)], axis=1)"
      ]
    },
    {
      "attachments": {},
      "cell_type": "markdown",
      "metadata": {
        "id": "gU5JARi0or-q"
      },
      "source": [
        "## POS Tagging"
      ]
    },
    {
      "attachments": {},
      "cell_type": "markdown",
      "metadata": {
        "id": "-79QNRq9JLj6"
      },
      "source": [
        "Parts of Speech tagging\n",
        "\n",
        "In spaCy, the Part-of-Speech (POS) tags supported by the default English language model (en_core_web_sm) include the following:\n",
        "\n",
        "ADJ: Adjective\n",
        "\n",
        "ADP: Adposition\n",
        "\n",
        "ADV: Adverb\n",
        "\n",
        "AUX: Auxiliary verb\n",
        "\n",
        "CCONJ: Coordinating conjunction\n",
        "\n",
        "DET: Determiner\n",
        "\n",
        "INTJ: Interjection\n",
        "\n",
        "NOUN: Noun\n",
        "\n",
        "NUM: Numeral\n",
        "\n",
        "PART: Particle\n",
        "\n",
        "PRON: Pronoun\n",
        "\n",
        "PROPN: Proper noun\n",
        "\n",
        "PUNCT: Punctuation\n",
        "\n",
        "SCONJ: Subordinating conjunction\n",
        "\n",
        "SYM: Symbol\n",
        "\n",
        "VERB: Verb\n",
        "\n",
        "X: Other"
      ]
    },
    {
      "cell_type": "code",
      "execution_count": 104,
      "metadata": {
        "id": "kAyY5NYaKgtM"
      },
      "outputs": [],
      "source": [
        "pos_labels = ['ADJ', 'ADP', 'ADV', 'AUX', 'CONJ', 'CCONJ', 'DET', 'INTJ', 'NOUN', 'NUM', 'PART', 'PRON', 'PROPN', 'PUNCT', 'SCONJ', 'SYM', 'VERB', 'X']"
      ]
    },
    {
      "cell_type": "code",
      "execution_count": 105,
      "metadata": {
        "id": "ZNyYLkhBHLYo"
      },
      "outputs": [],
      "source": [
        "def pos_count_tagging(text):\n",
        "  pos = {}\n",
        "  for pos_tag in pos_labels:\n",
        "    pos[pos_tag] = 0\n",
        "  \n",
        "  document = corpus(text)\n",
        "\n",
        "  for token in document:\n",
        "    if not token.is_space: \n",
        "      pos[token.pos_] += 1\n",
        "  return pd.Series(pos)"
      ]
    },
    {
      "cell_type": "code",
      "execution_count": 106,
      "metadata": {
        "id": "ymjPyCgsKa7h"
      },
      "outputs": [],
      "source": [
        "math_problems = pd.concat([math_problems, math_problems['modified_problem'].apply(pos_count_tagging)], axis=1)"
      ]
    },
    {
      "cell_type": "code",
      "execution_count": 107,
      "metadata": {
        "colab": {
          "base_uri": "https://localhost:8080/"
        },
        "id": "zUf65rlieesl",
        "outputId": "b56d7823-05f1-4f6c-c8db-76fa023a8d06"
      },
      "outputs": [
        {
          "data": {
            "text/plain": [
              "Index(['problem', 'level', 'type', 'modified_problem', 'no_of_equations',\n",
              "       'no_of_variables', 'has_exp', 'has_mod', 'has_logarithm',\n",
              "       'has_fraction', 'has_eq', 'has_neq', 'exp_count', 'mod_count',\n",
              "       'log_count', 'fracs_count', 'eqlts_count', 'neqlts_count',\n",
              "       'max_degree_of_equations', 'sentence_count', 'word_count',\n",
              "       'words_per_sentence', 'average_word_length', 'large_words',\n",
              "       'has_repeated_large_words', 'CARDINAL', 'DATE', 'EVENT', 'FAC', 'GPE',\n",
              "       'LANGUAGE', 'LAW', 'LOC', 'MONEY', 'NORP', 'ORDINAL', 'ORG', 'PERCENT',\n",
              "       'PERSON', 'PRODUCT', 'QUANTITY', 'TIME', 'WORK_OF_ART', 'ADJ', 'ADP',\n",
              "       'ADV', 'AUX', 'CONJ', 'CCONJ', 'DET', 'INTJ', 'NOUN', 'NUM', 'PART',\n",
              "       'PRON', 'PROPN', 'PUNCT', 'SCONJ', 'SYM', 'VERB', 'X'],\n",
              "      dtype='object')"
            ]
          },
          "execution_count": 107,
          "metadata": {},
          "output_type": "execute_result"
        }
      ],
      "source": [
        "math_problems.columns"
      ]
    },
    {
      "attachments": {},
      "cell_type": "markdown",
      "metadata": {
        "id": "8qAXq5yikUgL"
      },
      "source": [
        "Save data with all features"
      ]
    },
    {
      "cell_type": "code",
      "execution_count": 108,
      "metadata": {
        "id": "G5etJlwrkS5j"
      },
      "outputs": [
        {
          "name": "stdout",
          "output_type": "stream",
          "text": [
            "Dataframe saved successfully at /Users/sai/My Drive/Learning/Research/NLP/all_data.csv\n"
          ]
        }
      ],
      "source": [
        "save_dataframe_csv(PATH_TO_DATA, 'all_data.csv', math_problems)"
      ]
    },
    {
      "attachments": {},
      "cell_type": "markdown",
      "metadata": {
        "id": "Ak4cI28ba2bg"
      },
      "source": [
        "Feature Reduction"
      ]
    },
    {
      "cell_type": "code",
      "execution_count": 28,
      "metadata": {
        "id": "8DRPX2kwe93T"
      },
      "outputs": [],
      "source": [
        "math_problems = pd.read_csv(PATH_TO_DATA+\"all_data.csv\")"
      ]
    },
    {
      "cell_type": "code",
      "execution_count": 29,
      "metadata": {
        "colab": {
          "base_uri": "https://localhost:8080/"
        },
        "id": "6n2mJM6LiBrX",
        "outputId": "b956625b-7ec6-45df-b520-a6adf1e81b70"
      },
      "outputs": [
        {
          "data": {
            "text/plain": [
              "Index(['problem', 'level', 'type', 'modified_problem', 'no_of_equations',\n",
              "       'no_of_variables', 'has_exp_or_mod', 'has_logarithm', 'has_fraction',\n",
              "       'has_eq_or_neq', 'sentence_count', 'word_count', 'words_per_sentence',\n",
              "       'average_word_length', 'large_words', 'has_repeated_large_words',\n",
              "       'CARDINAL', 'DATE', 'EVENT', 'FAC', 'GPE', 'LANGUAGE', 'LAW', 'LOC',\n",
              "       'MONEY', 'NORP', 'ORDINAL', 'ORG', 'PERCENT', 'PERSON', 'PRODUCT',\n",
              "       'QUANTITY', 'TIME', 'WORK_OF_ART', 'ADJ', 'ADP', 'ADV', 'AUX', 'CONJ',\n",
              "       'CCONJ', 'DET', 'INTJ', 'NOUN', 'NUM', 'PART', 'PRON', 'PROPN', 'PUNCT',\n",
              "       'SCONJ', 'SYM', 'VERB', 'X'],\n",
              "      dtype='object')"
            ]
          },
          "execution_count": 29,
          "metadata": {},
          "output_type": "execute_result"
        }
      ],
      "source": [
        "math_problems.columns"
      ]
    },
    {
      "cell_type": "code",
      "execution_count": 30,
      "metadata": {
        "id": "sEzOIoaccDn3"
      },
      "outputs": [],
      "source": [
        "cols_to_drop = ['sentence_count', 'word_count', 'words_per_sentence',\n",
        "       'average_word_length',\n",
        "       'CARDINAL', 'DATE', 'EVENT', 'FAC', 'GPE', 'LANGUAGE', 'LAW', 'LOC',\n",
        "       'MONEY', 'NORP', 'ORDINAL', 'ORG', 'PERCENT', 'PERSON', 'PRODUCT',\n",
        "       'QUANTITY', 'TIME', 'WORK_OF_ART', 'ADJ', 'ADP', 'ADV', 'AUX', 'CONJ',\n",
        "       'CCONJ', 'DET', 'INTJ', 'NOUN', 'NUM', 'PART', 'PRON', 'PROPN', 'PUNCT',\n",
        "       'SCONJ', 'SYM', 'VERB', 'X']"
      ]
    },
    {
      "cell_type": "code",
      "execution_count": 17,
      "metadata": {
        "id": "_zPLbErqaumO"
      },
      "outputs": [],
      "source": [
        "# 1. ratio of numbers of words in each problem/total no. of sentences in each problems\n",
        "# We can use the words_per_sentence feature"
      ]
    },
    {
      "cell_type": "code",
      "execution_count": 31,
      "metadata": {
        "id": "37Wymf7ebUx9"
      },
      "outputs": [],
      "source": [
        "# 2. ratio of number of pronouns used in each problem/ total no. of words in each problems\n",
        "math_problems['pron_words_ratio'] = round(math_problems['PRON'] / math_problems['word_count'], 3)"
      ]
    },
    {
      "cell_type": "code",
      "execution_count": 32,
      "metadata": {
        "id": "nBp0cCjMcCrs"
      },
      "outputs": [],
      "source": [
        "# 3. ratio of number of pronouns used in each problem/ total no. of sentences in each problems\n",
        "math_problems['pron_sents_ratio'] = round(math_problems['PRON'] / math_problems['sentence_count'], 3)"
      ]
    },
    {
      "cell_type": "code",
      "execution_count": 33,
      "metadata": {
        "id": "yNoRxqB4cPu4"
      },
      "outputs": [],
      "source": [
        "# 4. ratio of number of adjectives/total. number of sentences in each problems\n",
        "math_problems['adj_sents_ratio'] = round(math_problems['ADJ'] / math_problems['sentence_count'], 3)"
      ]
    },
    {
      "cell_type": "code",
      "execution_count": 34,
      "metadata": {
        "id": "7VPqbPl1cYxz"
      },
      "outputs": [],
      "source": [
        "# 5. ratio of number of adjectives/total. number of words in each problems\n",
        "math_problems['adj_words_ratio'] = round(math_problems['ADJ'] / math_problems['word_count'], 3)"
      ]
    },
    {
      "cell_type": "code",
      "execution_count": 35,
      "metadata": {
        "id": "dG6go3rehvVZ"
      },
      "outputs": [],
      "source": [
        "math_problems = pd.concat([math_problems, math_problems['problem'].apply(extract_degree_of_equations)], axis=1)"
      ]
    },
    {
      "cell_type": "code",
      "execution_count": 36,
      "metadata": {
        "id": "9Cr-IAkpieZl"
      },
      "outputs": [],
      "source": [
        "math_problems.drop(columns=cols_to_drop, inplace=True)"
      ]
    },
    {
      "cell_type": "code",
      "execution_count": 37,
      "metadata": {
        "colab": {
          "base_uri": "https://localhost:8080/"
        },
        "id": "VykM3H-UimqK",
        "outputId": "a0caa246-4239-4e31-f2b0-d3c99d3b6c20"
      },
      "outputs": [
        {
          "data": {
            "text/plain": [
              "Index(['problem', 'level', 'type', 'modified_problem', 'no_of_equations',\n",
              "       'no_of_variables', 'has_exp_or_mod', 'has_logarithm', 'has_fraction',\n",
              "       'has_eq_or_neq', 'large_words', 'has_repeated_large_words',\n",
              "       'pron_words_ratio', 'pron_sents_ratio', 'adj_sents_ratio',\n",
              "       'adj_words_ratio', 'max_degree_of_equations'],\n",
              "      dtype='object')"
            ]
          },
          "execution_count": 37,
          "metadata": {},
          "output_type": "execute_result"
        }
      ],
      "source": [
        "math_problems.columns"
      ]
    },
    {
      "attachments": {},
      "cell_type": "markdown",
      "metadata": {
        "id": "RQwWmZmmpLTn"
      },
      "source": [
        "Saving the final dataframe as a csv file"
      ]
    },
    {
      "cell_type": "code",
      "execution_count": 41,
      "metadata": {
        "colab": {
          "base_uri": "https://localhost:8080/"
        },
        "id": "-Zycg9bHoznd",
        "outputId": "53eaa64a-0213-4d3f-822f-dc22dddc2dad"
      },
      "outputs": [
        {
          "name": "stdout",
          "output_type": "stream",
          "text": [
            "Dataframe saved successfully at /content/drive/My Drive/NLP/all_data_compressed.csv\n"
          ]
        }
      ],
      "source": [
        "save_dataframe_csv(PATH_TO_DATA, 'all_data_compressed.csv', math_problems)"
      ]
    }
  ],
  "metadata": {
    "colab": {
      "provenance": []
    },
    "kernelspec": {
      "display_name": "Python 3",
      "name": "python3"
    },
    "language_info": {
      "codemirror_mode": {
        "name": "ipython",
        "version": 3
      },
      "file_extension": ".py",
      "mimetype": "text/x-python",
      "name": "python",
      "nbconvert_exporter": "python",
      "pygments_lexer": "ipython3",
      "version": "3.9.13"
    }
  },
  "nbformat": 4,
  "nbformat_minor": 0
}
