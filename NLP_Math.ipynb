{
  "nbformat": 4,
  "nbformat_minor": 0,
  "metadata": {
    "colab": {
      "provenance": []
    },
    "kernelspec": {
      "name": "python3",
      "display_name": "Python 3"
    },
    "language_info": {
      "name": "python"
    }
  },
  "cells": [
    {
      "cell_type": "markdown",
      "source": [
        "Connecting to drive"
      ],
      "metadata": {
        "id": "V56-lqe718Y2"
      }
    },
    {
      "cell_type": "code",
      "execution_count": 12,
      "metadata": {
        "colab": {
          "base_uri": "https://localhost:8080/"
        },
        "id": "eqVzBAZP13lx",
        "outputId": "2b844325-f842-41cd-faa5-bacccf1bf0c7"
      },
      "outputs": [
        {
          "output_type": "stream",
          "name": "stdout",
          "text": [
            "Drive already mounted at /content/drive; to attempt to forcibly remount, call drive.mount(\"/content/drive\", force_remount=True).\n"
          ]
        }
      ],
      "source": [
        "from google.colab import drive\n",
        "drive.mount('/content/drive')"
      ]
    },
    {
      "cell_type": "markdown",
      "source": [
        "Navigating to project directory"
      ],
      "metadata": {
        "id": "ZKwMKGp453uI"
      }
    },
    {
      "cell_type": "code",
      "source": [
        "import os\n",
        "os.chdir(\"/content/drive/My Drive/NLP/algebra/\")"
      ],
      "metadata": {
        "id": "vctkanFP2BVO"
      },
      "execution_count": 13,
      "outputs": []
    },
    {
      "cell_type": "markdown",
      "source": [
        "Importing required libraries"
      ],
      "metadata": {
        "id": "2qpmc9TE6Nsy"
      }
    },
    {
      "cell_type": "code",
      "source": [
        "#For dataframe processing\n",
        "import pandas as pd\n",
        "\n",
        "#For regex validation\n",
        "import re\n",
        "\n",
        "#For nlp\n",
        "import spacy"
      ],
      "metadata": {
        "id": "aviFmJok6MxL"
      },
      "execution_count": 4,
      "outputs": []
    },
    {
      "cell_type": "markdown",
      "source": [
        "Reading the json files and appending to input dataframe"
      ],
      "metadata": {
        "id": "jYeFc9Aj6GU6"
      }
    },
    {
      "cell_type": "code",
      "source": [
        "#Files in the current directory\n",
        "files = [f for f in os.listdir('.') if os.path.isfile(f)]\n",
        "len(files)"
      ],
      "metadata": {
        "colab": {
          "base_uri": "https://localhost:8080/"
        },
        "id": "bBtmJFe-6E83",
        "outputId": "e953754a-df27-4a69-d8e9-96254f2fa9b5"
      },
      "execution_count": 5,
      "outputs": [
        {
          "output_type": "execute_result",
          "data": {
            "text/plain": [
              "1736"
            ]
          },
          "metadata": {},
          "execution_count": 5
        }
      ]
    },
    {
      "cell_type": "code",
      "source": [
        "#Reading the math problems json files into dataframe\n",
        "math_problems = pd.DataFrame()\n",
        "for file_name in files:\n",
        "    data = pd.read_json(file_name, orient='index').T\n",
        "    math_problems = pd.concat([math_problems,data], ignore_index = True)"
      ],
      "metadata": {
        "id": "Yg-EB25D7Ssj"
      },
      "execution_count": 6,
      "outputs": []
    },
    {
      "cell_type": "code",
      "source": [
        "math_problems.to_csv(\"data.csv\")"
      ],
      "metadata": {
        "id": "OLOrcwz47s6Z"
      },
      "execution_count": null,
      "outputs": []
    },
    {
      "cell_type": "code",
      "source": [
        "math_problems.head()"
      ],
      "metadata": {
        "colab": {
          "base_uri": "https://localhost:8080/",
          "height": 206
        },
        "id": "NdSky9txiiMZ",
        "outputId": "e16db649-c3ba-4bda-d03a-d6eefceb170e"
      },
      "execution_count": null,
      "outputs": [
        {
          "output_type": "execute_result",
          "data": {
            "text/plain": [
              "                                             problem    level     type  \\\n",
              "0  A horse 24 feet from the center of a merry-go-...  Level 2  Algebra   \n",
              "1  A math teacher requires Noelle to do one homew...  Level 5  Algebra   \n",
              "2  In a rectangular coordinate system, what is th...  Level 2  Algebra   \n",
              "3  Below is a portion of the graph of a function,...  Level 5  Algebra   \n",
              "4  If $x^2+y^2=1$, what is the largest possible v...  Level 5  Algebra   \n",
              "\n",
              "                                            solution  \n",
              "0  The radius of the circular path of the horse c...  \n",
              "1  Noelle only has to do 1 homework assignment to...  \n",
              "2  We use the distance formula: \\begin{align*}\\n\\...  \n",
              "3  Note that the graph of $g(x)$ is identical to ...  \n",
              "4  If $(x,y)$ lies on the circle, so does $(x,-y)...  "
            ],
            "text/html": [
              "\n",
              "  <div id=\"df-906fad53-1e6f-4f56-9860-6abe8e81e79b\">\n",
              "    <div class=\"colab-df-container\">\n",
              "      <div>\n",
              "<style scoped>\n",
              "    .dataframe tbody tr th:only-of-type {\n",
              "        vertical-align: middle;\n",
              "    }\n",
              "\n",
              "    .dataframe tbody tr th {\n",
              "        vertical-align: top;\n",
              "    }\n",
              "\n",
              "    .dataframe thead th {\n",
              "        text-align: right;\n",
              "    }\n",
              "</style>\n",
              "<table border=\"1\" class=\"dataframe\">\n",
              "  <thead>\n",
              "    <tr style=\"text-align: right;\">\n",
              "      <th></th>\n",
              "      <th>problem</th>\n",
              "      <th>level</th>\n",
              "      <th>type</th>\n",
              "      <th>solution</th>\n",
              "    </tr>\n",
              "  </thead>\n",
              "  <tbody>\n",
              "    <tr>\n",
              "      <th>0</th>\n",
              "      <td>A horse 24 feet from the center of a merry-go-...</td>\n",
              "      <td>Level 2</td>\n",
              "      <td>Algebra</td>\n",
              "      <td>The radius of the circular path of the horse c...</td>\n",
              "    </tr>\n",
              "    <tr>\n",
              "      <th>1</th>\n",
              "      <td>A math teacher requires Noelle to do one homew...</td>\n",
              "      <td>Level 5</td>\n",
              "      <td>Algebra</td>\n",
              "      <td>Noelle only has to do 1 homework assignment to...</td>\n",
              "    </tr>\n",
              "    <tr>\n",
              "      <th>2</th>\n",
              "      <td>In a rectangular coordinate system, what is th...</td>\n",
              "      <td>Level 2</td>\n",
              "      <td>Algebra</td>\n",
              "      <td>We use the distance formula: \\begin{align*}\\n\\...</td>\n",
              "    </tr>\n",
              "    <tr>\n",
              "      <th>3</th>\n",
              "      <td>Below is a portion of the graph of a function,...</td>\n",
              "      <td>Level 5</td>\n",
              "      <td>Algebra</td>\n",
              "      <td>Note that the graph of $g(x)$ is identical to ...</td>\n",
              "    </tr>\n",
              "    <tr>\n",
              "      <th>4</th>\n",
              "      <td>If $x^2+y^2=1$, what is the largest possible v...</td>\n",
              "      <td>Level 5</td>\n",
              "      <td>Algebra</td>\n",
              "      <td>If $(x,y)$ lies on the circle, so does $(x,-y)...</td>\n",
              "    </tr>\n",
              "  </tbody>\n",
              "</table>\n",
              "</div>\n",
              "      <button class=\"colab-df-convert\" onclick=\"convertToInteractive('df-906fad53-1e6f-4f56-9860-6abe8e81e79b')\"\n",
              "              title=\"Convert this dataframe to an interactive table.\"\n",
              "              style=\"display:none;\">\n",
              "        \n",
              "  <svg xmlns=\"http://www.w3.org/2000/svg\" height=\"24px\"viewBox=\"0 0 24 24\"\n",
              "       width=\"24px\">\n",
              "    <path d=\"M0 0h24v24H0V0z\" fill=\"none\"/>\n",
              "    <path d=\"M18.56 5.44l.94 2.06.94-2.06 2.06-.94-2.06-.94-.94-2.06-.94 2.06-2.06.94zm-11 1L8.5 8.5l.94-2.06 2.06-.94-2.06-.94L8.5 2.5l-.94 2.06-2.06.94zm10 10l.94 2.06.94-2.06 2.06-.94-2.06-.94-.94-2.06-.94 2.06-2.06.94z\"/><path d=\"M17.41 7.96l-1.37-1.37c-.4-.4-.92-.59-1.43-.59-.52 0-1.04.2-1.43.59L10.3 9.45l-7.72 7.72c-.78.78-.78 2.05 0 2.83L4 21.41c.39.39.9.59 1.41.59.51 0 1.02-.2 1.41-.59l7.78-7.78 2.81-2.81c.8-.78.8-2.07 0-2.86zM5.41 20L4 18.59l7.72-7.72 1.47 1.35L5.41 20z\"/>\n",
              "  </svg>\n",
              "      </button>\n",
              "      \n",
              "  <style>\n",
              "    .colab-df-container {\n",
              "      display:flex;\n",
              "      flex-wrap:wrap;\n",
              "      gap: 12px;\n",
              "    }\n",
              "\n",
              "    .colab-df-convert {\n",
              "      background-color: #E8F0FE;\n",
              "      border: none;\n",
              "      border-radius: 50%;\n",
              "      cursor: pointer;\n",
              "      display: none;\n",
              "      fill: #1967D2;\n",
              "      height: 32px;\n",
              "      padding: 0 0 0 0;\n",
              "      width: 32px;\n",
              "    }\n",
              "\n",
              "    .colab-df-convert:hover {\n",
              "      background-color: #E2EBFA;\n",
              "      box-shadow: 0px 1px 2px rgba(60, 64, 67, 0.3), 0px 1px 3px 1px rgba(60, 64, 67, 0.15);\n",
              "      fill: #174EA6;\n",
              "    }\n",
              "\n",
              "    [theme=dark] .colab-df-convert {\n",
              "      background-color: #3B4455;\n",
              "      fill: #D2E3FC;\n",
              "    }\n",
              "\n",
              "    [theme=dark] .colab-df-convert:hover {\n",
              "      background-color: #434B5C;\n",
              "      box-shadow: 0px 1px 3px 1px rgba(0, 0, 0, 0.15);\n",
              "      filter: drop-shadow(0px 1px 2px rgba(0, 0, 0, 0.3));\n",
              "      fill: #FFFFFF;\n",
              "    }\n",
              "  </style>\n",
              "\n",
              "      <script>\n",
              "        const buttonEl =\n",
              "          document.querySelector('#df-906fad53-1e6f-4f56-9860-6abe8e81e79b button.colab-df-convert');\n",
              "        buttonEl.style.display =\n",
              "          google.colab.kernel.accessAllowed ? 'block' : 'none';\n",
              "\n",
              "        async function convertToInteractive(key) {\n",
              "          const element = document.querySelector('#df-906fad53-1e6f-4f56-9860-6abe8e81e79b');\n",
              "          const dataTable =\n",
              "            await google.colab.kernel.invokeFunction('convertToInteractive',\n",
              "                                                     [key], {});\n",
              "          if (!dataTable) return;\n",
              "\n",
              "          const docLinkHtml = 'Like what you see? Visit the ' +\n",
              "            '<a target=\"_blank\" href=https://colab.research.google.com/notebooks/data_table.ipynb>data table notebook</a>'\n",
              "            + ' to learn more about interactive tables.';\n",
              "          element.innerHTML = '';\n",
              "          dataTable['output_type'] = 'display_data';\n",
              "          await google.colab.output.renderOutput(dataTable, element);\n",
              "          const docLink = document.createElement('div');\n",
              "          docLink.innerHTML = docLinkHtml;\n",
              "          element.appendChild(docLink);\n",
              "        }\n",
              "      </script>\n",
              "    </div>\n",
              "  </div>\n",
              "  "
            ]
          },
          "metadata": {},
          "execution_count": 20
        }
      ]
    },
    {
      "cell_type": "markdown",
      "source": [
        "Dropping the solution and type columns"
      ],
      "metadata": {
        "id": "viUK3Nf8if25"
      }
    },
    {
      "cell_type": "code",
      "source": [
        "math_problems.drop(columns=['type', 'solution'], inplace=True)\n",
        "math_problems.head()"
      ],
      "metadata": {
        "colab": {
          "base_uri": "https://localhost:8080/",
          "height": 206
        },
        "id": "SHtS7-se--OJ",
        "outputId": "1830fd12-1ad4-486f-d196-c045a9a55a06"
      },
      "execution_count": 7,
      "outputs": [
        {
          "output_type": "execute_result",
          "data": {
            "text/plain": [
              "                                             problem    level\n",
              "0  A horse 24 feet from the center of a merry-go-...  Level 2\n",
              "1  A math teacher requires Noelle to do one homew...  Level 5\n",
              "2  In a rectangular coordinate system, what is th...  Level 2\n",
              "3  Below is a portion of the graph of a function,...  Level 5\n",
              "4  If $x^2+y^2=1$, what is the largest possible v...  Level 5"
            ],
            "text/html": [
              "\n",
              "  <div id=\"df-a074ead3-db82-4acf-b7d4-2ef431b6b36d\">\n",
              "    <div class=\"colab-df-container\">\n",
              "      <div>\n",
              "<style scoped>\n",
              "    .dataframe tbody tr th:only-of-type {\n",
              "        vertical-align: middle;\n",
              "    }\n",
              "\n",
              "    .dataframe tbody tr th {\n",
              "        vertical-align: top;\n",
              "    }\n",
              "\n",
              "    .dataframe thead th {\n",
              "        text-align: right;\n",
              "    }\n",
              "</style>\n",
              "<table border=\"1\" class=\"dataframe\">\n",
              "  <thead>\n",
              "    <tr style=\"text-align: right;\">\n",
              "      <th></th>\n",
              "      <th>problem</th>\n",
              "      <th>level</th>\n",
              "    </tr>\n",
              "  </thead>\n",
              "  <tbody>\n",
              "    <tr>\n",
              "      <th>0</th>\n",
              "      <td>A horse 24 feet from the center of a merry-go-...</td>\n",
              "      <td>Level 2</td>\n",
              "    </tr>\n",
              "    <tr>\n",
              "      <th>1</th>\n",
              "      <td>A math teacher requires Noelle to do one homew...</td>\n",
              "      <td>Level 5</td>\n",
              "    </tr>\n",
              "    <tr>\n",
              "      <th>2</th>\n",
              "      <td>In a rectangular coordinate system, what is th...</td>\n",
              "      <td>Level 2</td>\n",
              "    </tr>\n",
              "    <tr>\n",
              "      <th>3</th>\n",
              "      <td>Below is a portion of the graph of a function,...</td>\n",
              "      <td>Level 5</td>\n",
              "    </tr>\n",
              "    <tr>\n",
              "      <th>4</th>\n",
              "      <td>If $x^2+y^2=1$, what is the largest possible v...</td>\n",
              "      <td>Level 5</td>\n",
              "    </tr>\n",
              "  </tbody>\n",
              "</table>\n",
              "</div>\n",
              "      <button class=\"colab-df-convert\" onclick=\"convertToInteractive('df-a074ead3-db82-4acf-b7d4-2ef431b6b36d')\"\n",
              "              title=\"Convert this dataframe to an interactive table.\"\n",
              "              style=\"display:none;\">\n",
              "        \n",
              "  <svg xmlns=\"http://www.w3.org/2000/svg\" height=\"24px\"viewBox=\"0 0 24 24\"\n",
              "       width=\"24px\">\n",
              "    <path d=\"M0 0h24v24H0V0z\" fill=\"none\"/>\n",
              "    <path d=\"M18.56 5.44l.94 2.06.94-2.06 2.06-.94-2.06-.94-.94-2.06-.94 2.06-2.06.94zm-11 1L8.5 8.5l.94-2.06 2.06-.94-2.06-.94L8.5 2.5l-.94 2.06-2.06.94zm10 10l.94 2.06.94-2.06 2.06-.94-2.06-.94-.94-2.06-.94 2.06-2.06.94z\"/><path d=\"M17.41 7.96l-1.37-1.37c-.4-.4-.92-.59-1.43-.59-.52 0-1.04.2-1.43.59L10.3 9.45l-7.72 7.72c-.78.78-.78 2.05 0 2.83L4 21.41c.39.39.9.59 1.41.59.51 0 1.02-.2 1.41-.59l7.78-7.78 2.81-2.81c.8-.78.8-2.07 0-2.86zM5.41 20L4 18.59l7.72-7.72 1.47 1.35L5.41 20z\"/>\n",
              "  </svg>\n",
              "      </button>\n",
              "      \n",
              "  <style>\n",
              "    .colab-df-container {\n",
              "      display:flex;\n",
              "      flex-wrap:wrap;\n",
              "      gap: 12px;\n",
              "    }\n",
              "\n",
              "    .colab-df-convert {\n",
              "      background-color: #E8F0FE;\n",
              "      border: none;\n",
              "      border-radius: 50%;\n",
              "      cursor: pointer;\n",
              "      display: none;\n",
              "      fill: #1967D2;\n",
              "      height: 32px;\n",
              "      padding: 0 0 0 0;\n",
              "      width: 32px;\n",
              "    }\n",
              "\n",
              "    .colab-df-convert:hover {\n",
              "      background-color: #E2EBFA;\n",
              "      box-shadow: 0px 1px 2px rgba(60, 64, 67, 0.3), 0px 1px 3px 1px rgba(60, 64, 67, 0.15);\n",
              "      fill: #174EA6;\n",
              "    }\n",
              "\n",
              "    [theme=dark] .colab-df-convert {\n",
              "      background-color: #3B4455;\n",
              "      fill: #D2E3FC;\n",
              "    }\n",
              "\n",
              "    [theme=dark] .colab-df-convert:hover {\n",
              "      background-color: #434B5C;\n",
              "      box-shadow: 0px 1px 3px 1px rgba(0, 0, 0, 0.15);\n",
              "      filter: drop-shadow(0px 1px 2px rgba(0, 0, 0, 0.3));\n",
              "      fill: #FFFFFF;\n",
              "    }\n",
              "  </style>\n",
              "\n",
              "      <script>\n",
              "        const buttonEl =\n",
              "          document.querySelector('#df-a074ead3-db82-4acf-b7d4-2ef431b6b36d button.colab-df-convert');\n",
              "        buttonEl.style.display =\n",
              "          google.colab.kernel.accessAllowed ? 'block' : 'none';\n",
              "\n",
              "        async function convertToInteractive(key) {\n",
              "          const element = document.querySelector('#df-a074ead3-db82-4acf-b7d4-2ef431b6b36d');\n",
              "          const dataTable =\n",
              "            await google.colab.kernel.invokeFunction('convertToInteractive',\n",
              "                                                     [key], {});\n",
              "          if (!dataTable) return;\n",
              "\n",
              "          const docLinkHtml = 'Like what you see? Visit the ' +\n",
              "            '<a target=\"_blank\" href=https://colab.research.google.com/notebooks/data_table.ipynb>data table notebook</a>'\n",
              "            + ' to learn more about interactive tables.';\n",
              "          element.innerHTML = '';\n",
              "          dataTable['output_type'] = 'display_data';\n",
              "          await google.colab.output.renderOutput(dataTable, element);\n",
              "          const docLink = document.createElement('div');\n",
              "          docLink.innerHTML = docLinkHtml;\n",
              "          element.appendChild(docLink);\n",
              "        }\n",
              "      </script>\n",
              "    </div>\n",
              "  </div>\n",
              "  "
            ]
          },
          "metadata": {},
          "execution_count": 7
        }
      ]
    },
    {
      "cell_type": "markdown",
      "source": [
        "Detecting number of equations in the problem columns\n",
        "\n",
        "In our data, the equations are enclosed inside either of\n",
        "  1. \\$...$\n",
        "  2. \\$\\$...\\$\\$\n",
        "  3. \\\\\\[...\\\\\\]\n",
        "\n",
        "So we need to count the number of equations by matching these patterns"
      ],
      "metadata": {
        "id": "hzTNkiToi5eN"
      }
    },
    {
      "cell_type": "code",
      "source": [
        "import re\n",
        "\n",
        "def get_equations_count(expression):\n",
        "  regexes = [r\"\\$\\$([^$]+)\\$\\$\", r\"\\$([^$]+)\\$\", r\"\\\\\\(([^$]+)\\\\\\)\", r\"\\\\\\[([^$]+)\\\\\\]\"]\n",
        "  no_of_equations = 0\n",
        "  for regex in regexes:\n",
        "    matches = re.findall(regex, expression)\n",
        "    no_of_equations += len(matches)\n",
        "    expression = re.sub(regex, \"\", expression)\n",
        "  return pd.Series({'no_of_equations':no_of_equations, 'modified_problem':expression})"
      ],
      "metadata": {
        "id": "8xZJSUTJiv-U"
      },
      "execution_count": 8,
      "outputs": []
    },
    {
      "cell_type": "code",
      "source": [
        "get_equations_count('Simplify the following expression in $x$: \\[2x+8x^2+9-(4-2x-8x^2).\\] Express your answer in the form $ax^2 +bx+c$, where $a$, $b$, and $c$ are numbers.')"
      ],
      "metadata": {
        "colab": {
          "base_uri": "https://localhost:8080/"
        },
        "id": "zBfa2KNhouJu",
        "outputId": "cb9a7474-dda0-4947-a1ff-e178972facfd"
      },
      "execution_count": null,
      "outputs": [
        {
          "output_type": "stream",
          "name": "stdout",
          "text": [
            "[] 0\n",
            "['x', 'ax^2 +bx+c', 'a', 'b', 'c'] 5\n",
            "[] 5\n",
            "['2x+8x^2+9-(4-2x-8x^2).'] 6\n"
          ]
        },
        {
          "output_type": "execute_result",
          "data": {
            "text/plain": [
              "no_of_equations                                                     6\n",
              "modified_problem    Simplify the following expression in :  Expres...\n",
              "dtype: object"
            ]
          },
          "metadata": {},
          "execution_count": 52
        }
      ]
    },
    {
      "cell_type": "code",
      "source": [
        "math_problems = pd.concat([math_problems, math_problems['problem'].apply(get_equations_count)], axis=1)"
      ],
      "metadata": {
        "id": "hiI5lgXUo43k"
      },
      "execution_count": 10,
      "outputs": []
    },
    {
      "cell_type": "code",
      "source": [
        "math_problems.head()"
      ],
      "metadata": {
        "colab": {
          "base_uri": "https://localhost:8080/",
          "height": 206
        },
        "id": "Bi_3z277qkRO",
        "outputId": "f5300b74-e81f-402c-b6ab-5db1c463f4f6"
      },
      "execution_count": 11,
      "outputs": [
        {
          "output_type": "execute_result",
          "data": {
            "text/plain": [
              "                                             problem    level  \\\n",
              "0  A horse 24 feet from the center of a merry-go-...  Level 2   \n",
              "1  A math teacher requires Noelle to do one homew...  Level 5   \n",
              "2  In a rectangular coordinate system, what is th...  Level 2   \n",
              "3  Below is a portion of the graph of a function,...  Level 5   \n",
              "4  If $x^2+y^2=1$, what is the largest possible v...  Level 5   \n",
              "\n",
              "   no_of_equations                                   modified_problem  \n",
              "0                0  A horse 24 feet from the center of a merry-go-...  \n",
              "1                4  A math teacher requires Noelle to do one homew...  \n",
              "2                1  In a rectangular coordinate system, what is th...  \n",
              "3                6  Below is a portion of the graph of a function,...  \n",
              "4                2       If , what is the largest possible value of ?  "
            ],
            "text/html": [
              "\n",
              "  <div id=\"df-2f2ddc5c-628e-4a3a-8577-f1036f481902\">\n",
              "    <div class=\"colab-df-container\">\n",
              "      <div>\n",
              "<style scoped>\n",
              "    .dataframe tbody tr th:only-of-type {\n",
              "        vertical-align: middle;\n",
              "    }\n",
              "\n",
              "    .dataframe tbody tr th {\n",
              "        vertical-align: top;\n",
              "    }\n",
              "\n",
              "    .dataframe thead th {\n",
              "        text-align: right;\n",
              "    }\n",
              "</style>\n",
              "<table border=\"1\" class=\"dataframe\">\n",
              "  <thead>\n",
              "    <tr style=\"text-align: right;\">\n",
              "      <th></th>\n",
              "      <th>problem</th>\n",
              "      <th>level</th>\n",
              "      <th>no_of_equations</th>\n",
              "      <th>modified_problem</th>\n",
              "    </tr>\n",
              "  </thead>\n",
              "  <tbody>\n",
              "    <tr>\n",
              "      <th>0</th>\n",
              "      <td>A horse 24 feet from the center of a merry-go-...</td>\n",
              "      <td>Level 2</td>\n",
              "      <td>0</td>\n",
              "      <td>A horse 24 feet from the center of a merry-go-...</td>\n",
              "    </tr>\n",
              "    <tr>\n",
              "      <th>1</th>\n",
              "      <td>A math teacher requires Noelle to do one homew...</td>\n",
              "      <td>Level 5</td>\n",
              "      <td>4</td>\n",
              "      <td>A math teacher requires Noelle to do one homew...</td>\n",
              "    </tr>\n",
              "    <tr>\n",
              "      <th>2</th>\n",
              "      <td>In a rectangular coordinate system, what is th...</td>\n",
              "      <td>Level 2</td>\n",
              "      <td>1</td>\n",
              "      <td>In a rectangular coordinate system, what is th...</td>\n",
              "    </tr>\n",
              "    <tr>\n",
              "      <th>3</th>\n",
              "      <td>Below is a portion of the graph of a function,...</td>\n",
              "      <td>Level 5</td>\n",
              "      <td>6</td>\n",
              "      <td>Below is a portion of the graph of a function,...</td>\n",
              "    </tr>\n",
              "    <tr>\n",
              "      <th>4</th>\n",
              "      <td>If $x^2+y^2=1$, what is the largest possible v...</td>\n",
              "      <td>Level 5</td>\n",
              "      <td>2</td>\n",
              "      <td>If , what is the largest possible value of ?</td>\n",
              "    </tr>\n",
              "  </tbody>\n",
              "</table>\n",
              "</div>\n",
              "      <button class=\"colab-df-convert\" onclick=\"convertToInteractive('df-2f2ddc5c-628e-4a3a-8577-f1036f481902')\"\n",
              "              title=\"Convert this dataframe to an interactive table.\"\n",
              "              style=\"display:none;\">\n",
              "        \n",
              "  <svg xmlns=\"http://www.w3.org/2000/svg\" height=\"24px\"viewBox=\"0 0 24 24\"\n",
              "       width=\"24px\">\n",
              "    <path d=\"M0 0h24v24H0V0z\" fill=\"none\"/>\n",
              "    <path d=\"M18.56 5.44l.94 2.06.94-2.06 2.06-.94-2.06-.94-.94-2.06-.94 2.06-2.06.94zm-11 1L8.5 8.5l.94-2.06 2.06-.94-2.06-.94L8.5 2.5l-.94 2.06-2.06.94zm10 10l.94 2.06.94-2.06 2.06-.94-2.06-.94-.94-2.06-.94 2.06-2.06.94z\"/><path d=\"M17.41 7.96l-1.37-1.37c-.4-.4-.92-.59-1.43-.59-.52 0-1.04.2-1.43.59L10.3 9.45l-7.72 7.72c-.78.78-.78 2.05 0 2.83L4 21.41c.39.39.9.59 1.41.59.51 0 1.02-.2 1.41-.59l7.78-7.78 2.81-2.81c.8-.78.8-2.07 0-2.86zM5.41 20L4 18.59l7.72-7.72 1.47 1.35L5.41 20z\"/>\n",
              "  </svg>\n",
              "      </button>\n",
              "      \n",
              "  <style>\n",
              "    .colab-df-container {\n",
              "      display:flex;\n",
              "      flex-wrap:wrap;\n",
              "      gap: 12px;\n",
              "    }\n",
              "\n",
              "    .colab-df-convert {\n",
              "      background-color: #E8F0FE;\n",
              "      border: none;\n",
              "      border-radius: 50%;\n",
              "      cursor: pointer;\n",
              "      display: none;\n",
              "      fill: #1967D2;\n",
              "      height: 32px;\n",
              "      padding: 0 0 0 0;\n",
              "      width: 32px;\n",
              "    }\n",
              "\n",
              "    .colab-df-convert:hover {\n",
              "      background-color: #E2EBFA;\n",
              "      box-shadow: 0px 1px 2px rgba(60, 64, 67, 0.3), 0px 1px 3px 1px rgba(60, 64, 67, 0.15);\n",
              "      fill: #174EA6;\n",
              "    }\n",
              "\n",
              "    [theme=dark] .colab-df-convert {\n",
              "      background-color: #3B4455;\n",
              "      fill: #D2E3FC;\n",
              "    }\n",
              "\n",
              "    [theme=dark] .colab-df-convert:hover {\n",
              "      background-color: #434B5C;\n",
              "      box-shadow: 0px 1px 3px 1px rgba(0, 0, 0, 0.15);\n",
              "      filter: drop-shadow(0px 1px 2px rgba(0, 0, 0, 0.3));\n",
              "      fill: #FFFFFF;\n",
              "    }\n",
              "  </style>\n",
              "\n",
              "      <script>\n",
              "        const buttonEl =\n",
              "          document.querySelector('#df-2f2ddc5c-628e-4a3a-8577-f1036f481902 button.colab-df-convert');\n",
              "        buttonEl.style.display =\n",
              "          google.colab.kernel.accessAllowed ? 'block' : 'none';\n",
              "\n",
              "        async function convertToInteractive(key) {\n",
              "          const element = document.querySelector('#df-2f2ddc5c-628e-4a3a-8577-f1036f481902');\n",
              "          const dataTable =\n",
              "            await google.colab.kernel.invokeFunction('convertToInteractive',\n",
              "                                                     [key], {});\n",
              "          if (!dataTable) return;\n",
              "\n",
              "          const docLinkHtml = 'Like what you see? Visit the ' +\n",
              "            '<a target=\"_blank\" href=https://colab.research.google.com/notebooks/data_table.ipynb>data table notebook</a>'\n",
              "            + ' to learn more about interactive tables.';\n",
              "          element.innerHTML = '';\n",
              "          dataTable['output_type'] = 'display_data';\n",
              "          await google.colab.output.renderOutput(dataTable, element);\n",
              "          const docLink = document.createElement('div');\n",
              "          docLink.innerHTML = docLinkHtml;\n",
              "          element.appendChild(docLink);\n",
              "        }\n",
              "      </script>\n",
              "    </div>\n",
              "  </div>\n",
              "  "
            ]
          },
          "metadata": {},
          "execution_count": 11
        }
      ]
    },
    {
      "cell_type": "code",
      "source": [
        "math_problems.to_csv(\"../data_processed.csv\")"
      ],
      "metadata": {
        "id": "022LDzENrO3j"
      },
      "execution_count": null,
      "outputs": []
    },
    {
      "cell_type": "code",
      "source": [
        "math_problems = pd.read_csv(\"../data_processed.csv\")"
      ],
      "metadata": {
        "id": "x4w7Efb4u8pO"
      },
      "execution_count": 14,
      "outputs": []
    },
    {
      "cell_type": "markdown",
      "source": [
        "Installing spacy for further processing"
      ],
      "metadata": {
        "id": "7r3nDzNLCfMX"
      }
    },
    {
      "cell_type": "code",
      "source": [
        "math_problems.shape"
      ],
      "metadata": {
        "colab": {
          "base_uri": "https://localhost:8080/"
        },
        "id": "Uy9-K9Jzv5N1",
        "outputId": "39af65f3-2285-465e-8420-5d64b7d37af5"
      },
      "execution_count": 16,
      "outputs": [
        {
          "output_type": "execute_result",
          "data": {
            "text/plain": [
              "(1634, 4)"
            ]
          },
          "metadata": {},
          "execution_count": 16
        }
      ]
    },
    {
      "cell_type": "code",
      "source": [
        "import spacy\n",
        "\n",
        "corpus = spacy.load(\"en_core_web_sm\")\n",
        "def get_text_attributes(text):\n",
        "\n",
        "  document = corpus(text)\n",
        "\n",
        "  sentences = list(document.sents)\n",
        "  \n",
        "  #Sentences count\n",
        "  sentence_count = len(sentences)\n",
        "\n",
        "  word_count = 0\n",
        "  words_len_greater_than_six = 0\n",
        "  char_count = 0\n",
        "  large_words=[]\n",
        "  has_repeated_large_words = False\n",
        "  \n",
        "  for token in document:\n",
        "    if not token.is_space: \n",
        "        \n",
        "        #Word count in the text\n",
        "        word_count += 1\n",
        "        char_count += len(token.text)\n",
        "        \n",
        "        #Number of words with length greater than 6\n",
        "        if len(token.text) > 6:\n",
        "          if token.text not in large_words:\n",
        "            words_len_greater_than_six += 1\n",
        "            large_words.append(token.text)\n",
        "          else:\n",
        "            has_repeated_large_words = True\n",
        "  \n",
        "  #Average words per sentence\n",
        "  words_per_sentence = round(word_count / sentence_count)\n",
        "\n",
        "  #Average length of words\n",
        "  average_word_length = round(char_count / word_count)\n",
        "\n",
        "  return pd.Series({'sentence_count': sentence_count, 'word_count': word_count, 'words_per_sentence': words_per_sentence, 'average_word_length': average_word_length, 'large_words': words_len_greater_than_six, 'has_repeated_large_words': has_repeated_large_words})"
      ],
      "metadata": {
        "id": "5ZSTcQOrITnd"
      },
      "execution_count": 20,
      "outputs": []
    },
    {
      "cell_type": "code",
      "source": [
        "get_text_attributes(\"A math teacher requires Noelle to do one homework assignment for each of the first five homework points she wants to earn; for each of the next five homework points, she needs to do two homework assignments; and so on, so that to earn the  homework point, she has to do  (rounded up) homework assignments. For example, when she has 11 points, it will take  homework assignments to earn her  point. What is the smallest number of homework assignments necessary to earn a total of 25 homework points?\")"
      ],
      "metadata": {
        "colab": {
          "base_uri": "https://localhost:8080/"
        },
        "id": "fwhHqB2aJvaA",
        "outputId": "1247e448-5ebb-4151-a12f-34618d29dcab"
      },
      "execution_count": 21,
      "outputs": [
        {
          "output_type": "execute_result",
          "data": {
            "text/plain": [
              "sentence_count                 3\n",
              "word_count                   100\n",
              "words_per_sentence            33\n",
              "average_word_length            4\n",
              "large_words                    9\n",
              "has_repeated_large_words    True\n",
              "dtype: object"
            ]
          },
          "metadata": {},
          "execution_count": 21
        }
      ]
    },
    {
      "cell_type": "code",
      "source": [
        "math_problems = pd.concat([math_problems, math_problems['modified_problem'].apply(get_text_attributes)], axis=1)"
      ],
      "metadata": {
        "id": "k7t642SoJ3zG"
      },
      "execution_count": 22,
      "outputs": []
    },
    {
      "cell_type": "code",
      "source": [
        "math_problems.head()"
      ],
      "metadata": {
        "colab": {
          "base_uri": "https://localhost:8080/",
          "height": 389
        },
        "id": "BdhK3l6xw-Ut",
        "outputId": "8b447e8f-0885-472d-fa5b-af69979e531c"
      },
      "execution_count": 23,
      "outputs": [
        {
          "output_type": "execute_result",
          "data": {
            "text/plain": [
              "                                             problem    level  \\\n",
              "0  A horse 24 feet from the center of a merry-go-...  Level 2   \n",
              "1  A math teacher requires Noelle to do one homew...  Level 5   \n",
              "2  In a rectangular coordinate system, what is th...  Level 2   \n",
              "3  If $x^2+y^2=1$, what is the largest possible v...  Level 5   \n",
              "4  If Alex gives Bob a penny, Bob will have three...  Level 4   \n",
              "\n",
              "   no_of_equations                                   modified_problem  \\\n",
              "0                0  A horse 24 feet from the center of a merry-go-...   \n",
              "1                4  A math teacher requires Noelle to do one homew...   \n",
              "2                1  In a rectangular coordinate system, what is th...   \n",
              "3                2       If , what is the largest possible value of ?   \n",
              "4                0  If Alex gives Bob a penny, Bob will have three...   \n",
              "\n",
              "   sentence_count  word_count  words_per_sentence  average_word_length  \\\n",
              "0               2          41                  20                    4   \n",
              "1               3         100                  33                    4   \n",
              "2               1          22                  22                    4   \n",
              "3               1          10                  10                    4   \n",
              "4               3          45                  15                    4   \n",
              "\n",
              "   large_words  has_repeated_large_words  \n",
              "0            2                      True  \n",
              "1            9                      True  \n",
              "2            3                     False  \n",
              "3            2                     False  \n",
              "4            2                      True  "
            ],
            "text/html": [
              "\n",
              "  <div id=\"df-e0063242-f7f3-4b4a-a512-ddf6008afa61\">\n",
              "    <div class=\"colab-df-container\">\n",
              "      <div>\n",
              "<style scoped>\n",
              "    .dataframe tbody tr th:only-of-type {\n",
              "        vertical-align: middle;\n",
              "    }\n",
              "\n",
              "    .dataframe tbody tr th {\n",
              "        vertical-align: top;\n",
              "    }\n",
              "\n",
              "    .dataframe thead th {\n",
              "        text-align: right;\n",
              "    }\n",
              "</style>\n",
              "<table border=\"1\" class=\"dataframe\">\n",
              "  <thead>\n",
              "    <tr style=\"text-align: right;\">\n",
              "      <th></th>\n",
              "      <th>problem</th>\n",
              "      <th>level</th>\n",
              "      <th>no_of_equations</th>\n",
              "      <th>modified_problem</th>\n",
              "      <th>sentence_count</th>\n",
              "      <th>word_count</th>\n",
              "      <th>words_per_sentence</th>\n",
              "      <th>average_word_length</th>\n",
              "      <th>large_words</th>\n",
              "      <th>has_repeated_large_words</th>\n",
              "    </tr>\n",
              "  </thead>\n",
              "  <tbody>\n",
              "    <tr>\n",
              "      <th>0</th>\n",
              "      <td>A horse 24 feet from the center of a merry-go-...</td>\n",
              "      <td>Level 2</td>\n",
              "      <td>0</td>\n",
              "      <td>A horse 24 feet from the center of a merry-go-...</td>\n",
              "      <td>2</td>\n",
              "      <td>41</td>\n",
              "      <td>20</td>\n",
              "      <td>4</td>\n",
              "      <td>2</td>\n",
              "      <td>True</td>\n",
              "    </tr>\n",
              "    <tr>\n",
              "      <th>1</th>\n",
              "      <td>A math teacher requires Noelle to do one homew...</td>\n",
              "      <td>Level 5</td>\n",
              "      <td>4</td>\n",
              "      <td>A math teacher requires Noelle to do one homew...</td>\n",
              "      <td>3</td>\n",
              "      <td>100</td>\n",
              "      <td>33</td>\n",
              "      <td>4</td>\n",
              "      <td>9</td>\n",
              "      <td>True</td>\n",
              "    </tr>\n",
              "    <tr>\n",
              "      <th>2</th>\n",
              "      <td>In a rectangular coordinate system, what is th...</td>\n",
              "      <td>Level 2</td>\n",
              "      <td>1</td>\n",
              "      <td>In a rectangular coordinate system, what is th...</td>\n",
              "      <td>1</td>\n",
              "      <td>22</td>\n",
              "      <td>22</td>\n",
              "      <td>4</td>\n",
              "      <td>3</td>\n",
              "      <td>False</td>\n",
              "    </tr>\n",
              "    <tr>\n",
              "      <th>3</th>\n",
              "      <td>If $x^2+y^2=1$, what is the largest possible v...</td>\n",
              "      <td>Level 5</td>\n",
              "      <td>2</td>\n",
              "      <td>If , what is the largest possible value of ?</td>\n",
              "      <td>1</td>\n",
              "      <td>10</td>\n",
              "      <td>10</td>\n",
              "      <td>4</td>\n",
              "      <td>2</td>\n",
              "      <td>False</td>\n",
              "    </tr>\n",
              "    <tr>\n",
              "      <th>4</th>\n",
              "      <td>If Alex gives Bob a penny, Bob will have three...</td>\n",
              "      <td>Level 4</td>\n",
              "      <td>0</td>\n",
              "      <td>If Alex gives Bob a penny, Bob will have three...</td>\n",
              "      <td>3</td>\n",
              "      <td>45</td>\n",
              "      <td>15</td>\n",
              "      <td>4</td>\n",
              "      <td>2</td>\n",
              "      <td>True</td>\n",
              "    </tr>\n",
              "  </tbody>\n",
              "</table>\n",
              "</div>\n",
              "      <button class=\"colab-df-convert\" onclick=\"convertToInteractive('df-e0063242-f7f3-4b4a-a512-ddf6008afa61')\"\n",
              "              title=\"Convert this dataframe to an interactive table.\"\n",
              "              style=\"display:none;\">\n",
              "        \n",
              "  <svg xmlns=\"http://www.w3.org/2000/svg\" height=\"24px\"viewBox=\"0 0 24 24\"\n",
              "       width=\"24px\">\n",
              "    <path d=\"M0 0h24v24H0V0z\" fill=\"none\"/>\n",
              "    <path d=\"M18.56 5.44l.94 2.06.94-2.06 2.06-.94-2.06-.94-.94-2.06-.94 2.06-2.06.94zm-11 1L8.5 8.5l.94-2.06 2.06-.94-2.06-.94L8.5 2.5l-.94 2.06-2.06.94zm10 10l.94 2.06.94-2.06 2.06-.94-2.06-.94-.94-2.06-.94 2.06-2.06.94z\"/><path d=\"M17.41 7.96l-1.37-1.37c-.4-.4-.92-.59-1.43-.59-.52 0-1.04.2-1.43.59L10.3 9.45l-7.72 7.72c-.78.78-.78 2.05 0 2.83L4 21.41c.39.39.9.59 1.41.59.51 0 1.02-.2 1.41-.59l7.78-7.78 2.81-2.81c.8-.78.8-2.07 0-2.86zM5.41 20L4 18.59l7.72-7.72 1.47 1.35L5.41 20z\"/>\n",
              "  </svg>\n",
              "      </button>\n",
              "      \n",
              "  <style>\n",
              "    .colab-df-container {\n",
              "      display:flex;\n",
              "      flex-wrap:wrap;\n",
              "      gap: 12px;\n",
              "    }\n",
              "\n",
              "    .colab-df-convert {\n",
              "      background-color: #E8F0FE;\n",
              "      border: none;\n",
              "      border-radius: 50%;\n",
              "      cursor: pointer;\n",
              "      display: none;\n",
              "      fill: #1967D2;\n",
              "      height: 32px;\n",
              "      padding: 0 0 0 0;\n",
              "      width: 32px;\n",
              "    }\n",
              "\n",
              "    .colab-df-convert:hover {\n",
              "      background-color: #E2EBFA;\n",
              "      box-shadow: 0px 1px 2px rgba(60, 64, 67, 0.3), 0px 1px 3px 1px rgba(60, 64, 67, 0.15);\n",
              "      fill: #174EA6;\n",
              "    }\n",
              "\n",
              "    [theme=dark] .colab-df-convert {\n",
              "      background-color: #3B4455;\n",
              "      fill: #D2E3FC;\n",
              "    }\n",
              "\n",
              "    [theme=dark] .colab-df-convert:hover {\n",
              "      background-color: #434B5C;\n",
              "      box-shadow: 0px 1px 3px 1px rgba(0, 0, 0, 0.15);\n",
              "      filter: drop-shadow(0px 1px 2px rgba(0, 0, 0, 0.3));\n",
              "      fill: #FFFFFF;\n",
              "    }\n",
              "  </style>\n",
              "\n",
              "      <script>\n",
              "        const buttonEl =\n",
              "          document.querySelector('#df-e0063242-f7f3-4b4a-a512-ddf6008afa61 button.colab-df-convert');\n",
              "        buttonEl.style.display =\n",
              "          google.colab.kernel.accessAllowed ? 'block' : 'none';\n",
              "\n",
              "        async function convertToInteractive(key) {\n",
              "          const element = document.querySelector('#df-e0063242-f7f3-4b4a-a512-ddf6008afa61');\n",
              "          const dataTable =\n",
              "            await google.colab.kernel.invokeFunction('convertToInteractive',\n",
              "                                                     [key], {});\n",
              "          if (!dataTable) return;\n",
              "\n",
              "          const docLinkHtml = 'Like what you see? Visit the ' +\n",
              "            '<a target=\"_blank\" href=https://colab.research.google.com/notebooks/data_table.ipynb>data table notebook</a>'\n",
              "            + ' to learn more about interactive tables.';\n",
              "          element.innerHTML = '';\n",
              "          dataTable['output_type'] = 'display_data';\n",
              "          await google.colab.output.renderOutput(dataTable, element);\n",
              "          const docLink = document.createElement('div');\n",
              "          docLink.innerHTML = docLinkHtml;\n",
              "          element.appendChild(docLink);\n",
              "        }\n",
              "      </script>\n",
              "    </div>\n",
              "  </div>\n",
              "  "
            ]
          },
          "metadata": {},
          "execution_count": 23
        }
      ]
    },
    {
      "cell_type": "code",
      "source": [
        "math_problems.to_csv(\"../data_processed_with_base_attrs.csv\", index=False)"
      ],
      "metadata": {
        "id": "79Qb8h0BMncF"
      },
      "execution_count": 24,
      "outputs": []
    },
    {
      "cell_type": "code",
      "source": [
        "#List of labels for named entity recognition using spacy for en_core_web_sm\n",
        "corpus.get_pipe(\"ner\").labels"
      ],
      "metadata": {
        "colab": {
          "base_uri": "https://localhost:8080/"
        },
        "id": "6dzZrZLqxGng",
        "outputId": "fe8f1b8c-e5a3-4dad-e4bb-5d3a33d23736"
      },
      "execution_count": 26,
      "outputs": [
        {
          "output_type": "execute_result",
          "data": {
            "text/plain": [
              "('CARDINAL',\n",
              " 'DATE',\n",
              " 'EVENT',\n",
              " 'FAC',\n",
              " 'GPE',\n",
              " 'LANGUAGE',\n",
              " 'LAW',\n",
              " 'LOC',\n",
              " 'MONEY',\n",
              " 'NORP',\n",
              " 'ORDINAL',\n",
              " 'ORG',\n",
              " 'PERCENT',\n",
              " 'PERSON',\n",
              " 'PRODUCT',\n",
              " 'QUANTITY',\n",
              " 'TIME',\n",
              " 'WORK_OF_ART')"
            ]
          },
          "metadata": {},
          "execution_count": 26
        }
      ]
    },
    {
      "cell_type": "code",
      "source": [
        "def named_entity_recognition(text):\n",
        "  #Initialising a dictionary with all named entities\n",
        "  ner = {}\n",
        "  for label in corpus.get_pipe(\"ner\").labels:\n",
        "    ner[label] = 0\n",
        "  \n",
        "  document = corpus(text)\n",
        "\n",
        "  for entity in document.ents:\n",
        "    ner[entity.label_] += 1\n",
        "  \n",
        "  return pd.Series(ner)"
      ],
      "metadata": {
        "id": "BjQtAfOXyNzW"
      },
      "execution_count": 31,
      "outputs": []
    },
    {
      "cell_type": "code",
      "source": [
        "named_entity_recognition(\"A math teacher requires Noelle to do one homework assignment for each of the first five homework points she wants to earn; for each of the next five homework points, she needs to do two homework assignments; and so on, so that to earn the  homework point, she has to do  (rounded up) homework assignments. For example, when she has 11 points, it will take  homework assignments to earn her  point. What is the smallest number of homework assignments necessary to earn a total of 25 homework points?\")"
      ],
      "metadata": {
        "colab": {
          "base_uri": "https://localhost:8080/"
        },
        "id": "a2AqbgXOzYKm",
        "outputId": "44a9a9b9-67cb-4340-8369-75a286d3173b"
      },
      "execution_count": 32,
      "outputs": [
        {
          "output_type": "execute_result",
          "data": {
            "text/plain": [
              "CARDINAL       6\n",
              "DATE           0\n",
              "EVENT          0\n",
              "FAC            0\n",
              "GPE            0\n",
              "LANGUAGE       0\n",
              "LAW            0\n",
              "LOC            0\n",
              "MONEY          0\n",
              "NORP           0\n",
              "ORDINAL        1\n",
              "ORG            0\n",
              "PERCENT        0\n",
              "PERSON         1\n",
              "PRODUCT        0\n",
              "QUANTITY       0\n",
              "TIME           0\n",
              "WORK_OF_ART    0\n",
              "dtype: int64"
            ]
          },
          "metadata": {},
          "execution_count": 32
        }
      ]
    },
    {
      "cell_type": "code",
      "source": [
        "math_problems = pd.concat([math_problems, math_problems['modified_problem'].apply(named_entity_recognition)], axis=1)"
      ],
      "metadata": {
        "id": "ttm9CgKyzb3G"
      },
      "execution_count": 33,
      "outputs": []
    },
    {
      "cell_type": "code",
      "source": [
        "math_problems.head()"
      ],
      "metadata": {
        "colab": {
          "base_uri": "https://localhost:8080/",
          "height": 612
        },
        "id": "Adn4UPwP1lHv",
        "outputId": "6ad08632-6473-419c-9e85-306ffcf6d843"
      },
      "execution_count": 35,
      "outputs": [
        {
          "output_type": "execute_result",
          "data": {
            "text/plain": [
              "                                             problem    level  \\\n",
              "0  A horse 24 feet from the center of a merry-go-...  Level 2   \n",
              "1  A math teacher requires Noelle to do one homew...  Level 5   \n",
              "2  In a rectangular coordinate system, what is th...  Level 2   \n",
              "3  If $x^2+y^2=1$, what is the largest possible v...  Level 5   \n",
              "4  If Alex gives Bob a penny, Bob will have three...  Level 4   \n",
              "\n",
              "   no_of_equations                                   modified_problem  \\\n",
              "0                0  A horse 24 feet from the center of a merry-go-...   \n",
              "1                4  A math teacher requires Noelle to do one homew...   \n",
              "2                1  In a rectangular coordinate system, what is th...   \n",
              "3                2       If , what is the largest possible value of ?   \n",
              "4                0  If Alex gives Bob a penny, Bob will have three...   \n",
              "\n",
              "   sentence_count  word_count  words_per_sentence  average_word_length  \\\n",
              "0               2          41                  20                    4   \n",
              "1               3         100                  33                    4   \n",
              "2               1          22                  22                    4   \n",
              "3               1          10                  10                    4   \n",
              "4               3          45                  15                    4   \n",
              "\n",
              "   large_words  has_repeated_large_words  ...  MONEY  NORP  ORDINAL  ORG  \\\n",
              "0            2                      True  ...      0     0        0    0   \n",
              "1            9                      True  ...      0     0        1    0   \n",
              "2            3                     False  ...      0     0        0    0   \n",
              "3            2                     False  ...      0     0        0    0   \n",
              "4            2                      True  ...      0     0        0    0   \n",
              "\n",
              "   PERCENT  PERSON  PRODUCT  QUANTITY  TIME  WORK_OF_ART  \n",
              "0        0       0        0         2     0            0  \n",
              "1        0       1        0         0     0            0  \n",
              "2        0       0        0         0     0            0  \n",
              "3        0       0        0         0     0            0  \n",
              "4        0       7        0         0     0            0  \n",
              "\n",
              "[5 rows x 28 columns]"
            ],
            "text/html": [
              "\n",
              "  <div id=\"df-e9f33b37-52e2-4d03-91a9-25eaa2619056\">\n",
              "    <div class=\"colab-df-container\">\n",
              "      <div>\n",
              "<style scoped>\n",
              "    .dataframe tbody tr th:only-of-type {\n",
              "        vertical-align: middle;\n",
              "    }\n",
              "\n",
              "    .dataframe tbody tr th {\n",
              "        vertical-align: top;\n",
              "    }\n",
              "\n",
              "    .dataframe thead th {\n",
              "        text-align: right;\n",
              "    }\n",
              "</style>\n",
              "<table border=\"1\" class=\"dataframe\">\n",
              "  <thead>\n",
              "    <tr style=\"text-align: right;\">\n",
              "      <th></th>\n",
              "      <th>problem</th>\n",
              "      <th>level</th>\n",
              "      <th>no_of_equations</th>\n",
              "      <th>modified_problem</th>\n",
              "      <th>sentence_count</th>\n",
              "      <th>word_count</th>\n",
              "      <th>words_per_sentence</th>\n",
              "      <th>average_word_length</th>\n",
              "      <th>large_words</th>\n",
              "      <th>has_repeated_large_words</th>\n",
              "      <th>...</th>\n",
              "      <th>MONEY</th>\n",
              "      <th>NORP</th>\n",
              "      <th>ORDINAL</th>\n",
              "      <th>ORG</th>\n",
              "      <th>PERCENT</th>\n",
              "      <th>PERSON</th>\n",
              "      <th>PRODUCT</th>\n",
              "      <th>QUANTITY</th>\n",
              "      <th>TIME</th>\n",
              "      <th>WORK_OF_ART</th>\n",
              "    </tr>\n",
              "  </thead>\n",
              "  <tbody>\n",
              "    <tr>\n",
              "      <th>0</th>\n",
              "      <td>A horse 24 feet from the center of a merry-go-...</td>\n",
              "      <td>Level 2</td>\n",
              "      <td>0</td>\n",
              "      <td>A horse 24 feet from the center of a merry-go-...</td>\n",
              "      <td>2</td>\n",
              "      <td>41</td>\n",
              "      <td>20</td>\n",
              "      <td>4</td>\n",
              "      <td>2</td>\n",
              "      <td>True</td>\n",
              "      <td>...</td>\n",
              "      <td>0</td>\n",
              "      <td>0</td>\n",
              "      <td>0</td>\n",
              "      <td>0</td>\n",
              "      <td>0</td>\n",
              "      <td>0</td>\n",
              "      <td>0</td>\n",
              "      <td>2</td>\n",
              "      <td>0</td>\n",
              "      <td>0</td>\n",
              "    </tr>\n",
              "    <tr>\n",
              "      <th>1</th>\n",
              "      <td>A math teacher requires Noelle to do one homew...</td>\n",
              "      <td>Level 5</td>\n",
              "      <td>4</td>\n",
              "      <td>A math teacher requires Noelle to do one homew...</td>\n",
              "      <td>3</td>\n",
              "      <td>100</td>\n",
              "      <td>33</td>\n",
              "      <td>4</td>\n",
              "      <td>9</td>\n",
              "      <td>True</td>\n",
              "      <td>...</td>\n",
              "      <td>0</td>\n",
              "      <td>0</td>\n",
              "      <td>1</td>\n",
              "      <td>0</td>\n",
              "      <td>0</td>\n",
              "      <td>1</td>\n",
              "      <td>0</td>\n",
              "      <td>0</td>\n",
              "      <td>0</td>\n",
              "      <td>0</td>\n",
              "    </tr>\n",
              "    <tr>\n",
              "      <th>2</th>\n",
              "      <td>In a rectangular coordinate system, what is th...</td>\n",
              "      <td>Level 2</td>\n",
              "      <td>1</td>\n",
              "      <td>In a rectangular coordinate system, what is th...</td>\n",
              "      <td>1</td>\n",
              "      <td>22</td>\n",
              "      <td>22</td>\n",
              "      <td>4</td>\n",
              "      <td>3</td>\n",
              "      <td>False</td>\n",
              "      <td>...</td>\n",
              "      <td>0</td>\n",
              "      <td>0</td>\n",
              "      <td>0</td>\n",
              "      <td>0</td>\n",
              "      <td>0</td>\n",
              "      <td>0</td>\n",
              "      <td>0</td>\n",
              "      <td>0</td>\n",
              "      <td>0</td>\n",
              "      <td>0</td>\n",
              "    </tr>\n",
              "    <tr>\n",
              "      <th>3</th>\n",
              "      <td>If $x^2+y^2=1$, what is the largest possible v...</td>\n",
              "      <td>Level 5</td>\n",
              "      <td>2</td>\n",
              "      <td>If , what is the largest possible value of ?</td>\n",
              "      <td>1</td>\n",
              "      <td>10</td>\n",
              "      <td>10</td>\n",
              "      <td>4</td>\n",
              "      <td>2</td>\n",
              "      <td>False</td>\n",
              "      <td>...</td>\n",
              "      <td>0</td>\n",
              "      <td>0</td>\n",
              "      <td>0</td>\n",
              "      <td>0</td>\n",
              "      <td>0</td>\n",
              "      <td>0</td>\n",
              "      <td>0</td>\n",
              "      <td>0</td>\n",
              "      <td>0</td>\n",
              "      <td>0</td>\n",
              "    </tr>\n",
              "    <tr>\n",
              "      <th>4</th>\n",
              "      <td>If Alex gives Bob a penny, Bob will have three...</td>\n",
              "      <td>Level 4</td>\n",
              "      <td>0</td>\n",
              "      <td>If Alex gives Bob a penny, Bob will have three...</td>\n",
              "      <td>3</td>\n",
              "      <td>45</td>\n",
              "      <td>15</td>\n",
              "      <td>4</td>\n",
              "      <td>2</td>\n",
              "      <td>True</td>\n",
              "      <td>...</td>\n",
              "      <td>0</td>\n",
              "      <td>0</td>\n",
              "      <td>0</td>\n",
              "      <td>0</td>\n",
              "      <td>0</td>\n",
              "      <td>7</td>\n",
              "      <td>0</td>\n",
              "      <td>0</td>\n",
              "      <td>0</td>\n",
              "      <td>0</td>\n",
              "    </tr>\n",
              "  </tbody>\n",
              "</table>\n",
              "<p>5 rows × 28 columns</p>\n",
              "</div>\n",
              "      <button class=\"colab-df-convert\" onclick=\"convertToInteractive('df-e9f33b37-52e2-4d03-91a9-25eaa2619056')\"\n",
              "              title=\"Convert this dataframe to an interactive table.\"\n",
              "              style=\"display:none;\">\n",
              "        \n",
              "  <svg xmlns=\"http://www.w3.org/2000/svg\" height=\"24px\"viewBox=\"0 0 24 24\"\n",
              "       width=\"24px\">\n",
              "    <path d=\"M0 0h24v24H0V0z\" fill=\"none\"/>\n",
              "    <path d=\"M18.56 5.44l.94 2.06.94-2.06 2.06-.94-2.06-.94-.94-2.06-.94 2.06-2.06.94zm-11 1L8.5 8.5l.94-2.06 2.06-.94-2.06-.94L8.5 2.5l-.94 2.06-2.06.94zm10 10l.94 2.06.94-2.06 2.06-.94-2.06-.94-.94-2.06-.94 2.06-2.06.94z\"/><path d=\"M17.41 7.96l-1.37-1.37c-.4-.4-.92-.59-1.43-.59-.52 0-1.04.2-1.43.59L10.3 9.45l-7.72 7.72c-.78.78-.78 2.05 0 2.83L4 21.41c.39.39.9.59 1.41.59.51 0 1.02-.2 1.41-.59l7.78-7.78 2.81-2.81c.8-.78.8-2.07 0-2.86zM5.41 20L4 18.59l7.72-7.72 1.47 1.35L5.41 20z\"/>\n",
              "  </svg>\n",
              "      </button>\n",
              "      \n",
              "  <style>\n",
              "    .colab-df-container {\n",
              "      display:flex;\n",
              "      flex-wrap:wrap;\n",
              "      gap: 12px;\n",
              "    }\n",
              "\n",
              "    .colab-df-convert {\n",
              "      background-color: #E8F0FE;\n",
              "      border: none;\n",
              "      border-radius: 50%;\n",
              "      cursor: pointer;\n",
              "      display: none;\n",
              "      fill: #1967D2;\n",
              "      height: 32px;\n",
              "      padding: 0 0 0 0;\n",
              "      width: 32px;\n",
              "    }\n",
              "\n",
              "    .colab-df-convert:hover {\n",
              "      background-color: #E2EBFA;\n",
              "      box-shadow: 0px 1px 2px rgba(60, 64, 67, 0.3), 0px 1px 3px 1px rgba(60, 64, 67, 0.15);\n",
              "      fill: #174EA6;\n",
              "    }\n",
              "\n",
              "    [theme=dark] .colab-df-convert {\n",
              "      background-color: #3B4455;\n",
              "      fill: #D2E3FC;\n",
              "    }\n",
              "\n",
              "    [theme=dark] .colab-df-convert:hover {\n",
              "      background-color: #434B5C;\n",
              "      box-shadow: 0px 1px 3px 1px rgba(0, 0, 0, 0.15);\n",
              "      filter: drop-shadow(0px 1px 2px rgba(0, 0, 0, 0.3));\n",
              "      fill: #FFFFFF;\n",
              "    }\n",
              "  </style>\n",
              "\n",
              "      <script>\n",
              "        const buttonEl =\n",
              "          document.querySelector('#df-e9f33b37-52e2-4d03-91a9-25eaa2619056 button.colab-df-convert');\n",
              "        buttonEl.style.display =\n",
              "          google.colab.kernel.accessAllowed ? 'block' : 'none';\n",
              "\n",
              "        async function convertToInteractive(key) {\n",
              "          const element = document.querySelector('#df-e9f33b37-52e2-4d03-91a9-25eaa2619056');\n",
              "          const dataTable =\n",
              "            await google.colab.kernel.invokeFunction('convertToInteractive',\n",
              "                                                     [key], {});\n",
              "          if (!dataTable) return;\n",
              "\n",
              "          const docLinkHtml = 'Like what you see? Visit the ' +\n",
              "            '<a target=\"_blank\" href=https://colab.research.google.com/notebooks/data_table.ipynb>data table notebook</a>'\n",
              "            + ' to learn more about interactive tables.';\n",
              "          element.innerHTML = '';\n",
              "          dataTable['output_type'] = 'display_data';\n",
              "          await google.colab.output.renderOutput(dataTable, element);\n",
              "          const docLink = document.createElement('div');\n",
              "          docLink.innerHTML = docLinkHtml;\n",
              "          element.appendChild(docLink);\n",
              "        }\n",
              "      </script>\n",
              "    </div>\n",
              "  </div>\n",
              "  "
            ]
          },
          "metadata": {},
          "execution_count": 35
        }
      ]
    },
    {
      "cell_type": "code",
      "source": [
        "for label in corpus.get_pipe(\"ner\").labels:\n",
        "  print(math_problems[label].value_counts())"
      ],
      "metadata": {
        "colab": {
          "base_uri": "https://localhost:8080/"
        },
        "id": "ZsU_gZ811m55",
        "outputId": "bbc813d2-d74e-426f-a41a-afb3574c2b3c"
      },
      "execution_count": 36,
      "outputs": [
        {
          "output_type": "stream",
          "name": "stdout",
          "text": [
            "0     1215\n",
            "1      234\n",
            "2       83\n",
            "3       58\n",
            "4       21\n",
            "5       12\n",
            "6        9\n",
            "9        1\n",
            "12       1\n",
            "Name: CARDINAL, dtype: int64\n",
            "0    1517\n",
            "1      51\n",
            "2      31\n",
            "3      16\n",
            "4      13\n",
            "5       3\n",
            "6       3\n",
            "Name: DATE, dtype: int64\n",
            "0    1634\n",
            "Name: EVENT, dtype: int64\n",
            "0    1632\n",
            "1       2\n",
            "Name: FAC, dtype: int64\n",
            "0    1616\n",
            "1      12\n",
            "2       5\n",
            "4       1\n",
            "Name: GPE, dtype: int64\n",
            "0    1634\n",
            "Name: LANGUAGE, dtype: int64\n",
            "0    1632\n",
            "2       1\n",
            "1       1\n",
            "Name: LAW, dtype: int64\n",
            "0    1631\n",
            "1       2\n",
            "5       1\n",
            "Name: LOC, dtype: int64\n",
            "0    1619\n",
            "1      10\n",
            "2       2\n",
            "3       1\n",
            "4       1\n",
            "5       1\n",
            "Name: MONEY, dtype: int64\n",
            "0    1617\n",
            "1      14\n",
            "2       3\n",
            "Name: NORP, dtype: int64\n",
            "0    1545\n",
            "1      45\n",
            "2      23\n",
            "3      17\n",
            "4       3\n",
            "6       1\n",
            "Name: ORDINAL, dtype: int64\n",
            "0    1516\n",
            "1     101\n",
            "2      12\n",
            "3       5\n",
            "Name: ORG, dtype: int64\n",
            "0    1630\n",
            "1       3\n",
            "2       1\n",
            "Name: PERCENT, dtype: int64\n",
            "0     1525\n",
            "1       54\n",
            "2       24\n",
            "4       11\n",
            "3       10\n",
            "6        3\n",
            "5        2\n",
            "9        2\n",
            "7        1\n",
            "14       1\n",
            "8        1\n",
            "Name: PERSON, dtype: int64\n",
            "0    1630\n",
            "1       2\n",
            "2       2\n",
            "Name: PRODUCT, dtype: int64\n",
            "0    1565\n",
            "1      38\n",
            "2      20\n",
            "3       7\n",
            "4       3\n",
            "6       1\n",
            "Name: QUANTITY, dtype: int64\n",
            "0    1592\n",
            "1      18\n",
            "2      13\n",
            "3      10\n",
            "4       1\n",
            "Name: TIME, dtype: int64\n",
            "0    1634\n",
            "Name: WORK_OF_ART, dtype: int64\n"
          ]
        }
      ]
    },
    {
      "cell_type": "code",
      "source": [
        "# From above we can see that none of the problems have words mapped to WORK_OF_ART entity, hence dropping the column\n",
        "math_problems.drop(columns=['WORK_OF_ART'], inplace=True)"
      ],
      "metadata": {
        "id": "0dtKPCfM2Iqc"
      },
      "execution_count": 37,
      "outputs": []
    },
    {
      "cell_type": "code",
      "source": [
        "math_problems.to_csv(\"../data_with_ner.csv\", index=False)"
      ],
      "metadata": {
        "id": "R8sE8rFV2nmF"
      },
      "execution_count": 40,
      "outputs": []
    }
  ]
}